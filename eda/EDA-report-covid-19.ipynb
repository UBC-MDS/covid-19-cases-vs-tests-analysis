{
 "cells": [
  {
   "cell_type": "markdown",
   "metadata": {},
   "source": [
    "# EDA Report - COVID-19"
   ]
  },
  {
   "cell_type": "markdown",
   "metadata": {},
   "source": [
    "## 1. Summary\n",
    "\n",
    "- This code-notebook documents the exploratory data analysis (EDA) carried out on the `Data on COVID-19 (coronavirus) by Our World in Data` by Group 24.\n",
    "- The dataset can be found at [owid-covid-codebook](https://github.com/owid/covid-19-data/blob/master/public/data/owid-covid-codebook.csv).\n",
    "- We've followed the following EDA checklist as found in Chapter 4 of `The Art of Data Science` by `Peng and Matsui`. \n",
    "\n",
    "| S.No. | EDA Item                                        | Section              |\n",
    "|-------|-------------------------------------------------|----------------------|\n",
    "| 1.    | Formulate your question                         | Refer to section 4.1 |\n",
    "| 2.    | Read in your data                               | Refer to section 4.2 |\n",
    "| 3.    | Check the packaging                             | Refer to section 4.3 |\n",
    "| 4.    | Look at the top and the bottom of your data     | Refer to section 4.4 |\n",
    "| 5.    | Check your “n”s                                 | Refer to section 4.5 |\n",
    "| 6.    | Validate with at least one external data source | Refer to section 4.6 |\n",
    "| 7.    | Make a plot                                     | Refer to section 4.7 |\n",
    "| 8.    | Try the easy solution first                     | Refer to section 4.8 |\n",
    "| 9.    | Follow up                                       | Refer to section 4.9 |\n",
    "**Table 1. EDA Checklist.**"
   ]
  },
  {
   "cell_type": "markdown",
   "metadata": {},
   "source": [
    "## 2. Assumptions\n",
    "- The dataset is updated daily, however, we've decided to consider `2020-10-31` as the cut-off date for our analyses.\n",
    "- We've considered the start date for `Canada` and `USA` to be `2020-03-12` and `2020-03-01` respectively as explained in the Observations section below.\n",
    "- There were three dates with zero new cases in Canada in the time-frame of analysis which were removed during calculations."
   ]
  },
  {
   "cell_type": "markdown",
   "metadata": {},
   "source": [
    "## 3. Observations\n",
    "\n",
    "- The table shows the dates for the first case and the first test as documented in the dataset for both Canada and USA. \n",
    "\n",
    "| Country | First New Case | First New Test |\n",
    "|---------|----------------|----------------|\n",
    "| Canada  | 2020-01-26     | 2020-03-12*    |\n",
    "| USA     | 2020-01-21     | 2020-03-01     |\n",
    "**Table 2. First new case and test dates.**\n",
    "\n",
    "- *The first entry date for a New Test in Canada is 2020-03-12 however there were already 11023 tests conducted in Canada as of 2020-03-11, which is the first non-zero entry date for total-tests.\n",
    "\n",
    "- We define `Response Ratio` as the proportion of `new_tests` to `new_cases`.\n",
    "\n",
    "- The summary statistics for the daily `Response Ratio` as observed through EDA are captured in the following table.\n",
    "\n",
    "| Country | count(n) |  mean | median |   std |     var |\n",
    "|--------:|---------:|------:|-------:|------:|--------:|\n",
    "|  Canada |      227 | 71.23 |  51.12 | 64.47 | 4157.19 |\n",
    "|     USA |      245 | 17.82 |  16.61 |  8.48 |   71.92 |\n",
    "**Table 3. Summary results for daily Response Ratio based on EDA.**"
   ]
  },
  {
   "cell_type": "markdown",
   "metadata": {},
   "source": [
    "## 4. Exploratory Data Analysis (EDA)"
   ]
  },
  {
   "cell_type": "code",
   "execution_count": 1,
   "metadata": {},
   "outputs": [
    {
     "data": {
      "text/plain": [
       "RendererRegistry.enable('mimetype')"
      ]
     },
     "execution_count": 1,
     "metadata": {},
     "output_type": "execute_result"
    }
   ],
   "source": [
    "import pandas as pd\n",
    "import numpy as np\n",
    "import altair as alt\n",
    "from pandas_profiling import ProfileReport\n",
    "alt.renderers.enable('mimetype')"
   ]
  },
  {
   "cell_type": "markdown",
   "metadata": {},
   "source": [
    "### 4.1 Formulating the question.\n",
    "\n",
    "> A hypothesis test with the following null and alternate hypotheses,\n",
    ">\n",
    "> H0: The ratio of daily COVID-19 tests conducted to daily new COVID-19 cases in Canada and USA is the same. \n",
    ">\n",
    "> HA: The ratio of daily COVID-19 tests conducted to daily new COVID-19 cases in Canada and USA is not the same."
   ]
  },
  {
   "cell_type": "markdown",
   "metadata": {},
   "source": [
    "### 4.2 Reading the data."
   ]
  },
  {
   "cell_type": "code",
   "execution_count": 2,
   "metadata": {},
   "outputs": [],
   "source": [
    "covid = pd.read_csv(\"../data/owid-covid-data.csv\")"
   ]
  },
  {
   "cell_type": "markdown",
   "metadata": {},
   "source": [
    "### 4.3 Check the packaging."
   ]
  },
  {
   "cell_type": "code",
   "execution_count": 3,
   "metadata": {},
   "outputs": [
    {
     "name": "stdout",
     "output_type": "stream",
     "text": [
      "<class 'pandas.core.frame.DataFrame'>\n",
      "RangeIndex: 57606 entries, 0 to 57605\n",
      "Data columns (total 50 columns):\n",
      " #   Column                              Non-Null Count  Dtype  \n",
      "---  ------                              --------------  -----  \n",
      " 0   iso_code                            57282 non-null  object \n",
      " 1   continent                           56958 non-null  object \n",
      " 2   location                            57606 non-null  object \n",
      " 3   date                                57606 non-null  object \n",
      " 4   total_cases                         53972 non-null  float64\n",
      " 5   new_cases                           56683 non-null  float64\n",
      " 6   new_cases_smoothed                  55870 non-null  float64\n",
      " 7   total_deaths                        44566 non-null  float64\n",
      " 8   new_deaths                          56683 non-null  float64\n",
      " 9   new_deaths_smoothed                 55870 non-null  float64\n",
      " 10  total_cases_per_million             53684 non-null  float64\n",
      " 11  new_cases_per_million               56619 non-null  float64\n",
      " 12  new_cases_smoothed_per_million      55805 non-null  float64\n",
      " 13  total_deaths_per_million            44293 non-null  float64\n",
      " 14  new_deaths_per_million              56619 non-null  float64\n",
      " 15  new_deaths_smoothed_per_million     55805 non-null  float64\n",
      " 16  reproduction_rate                   37696 non-null  float64\n",
      " 17  icu_patients                        4490 non-null   float64\n",
      " 18  icu_patients_per_million            4490 non-null   float64\n",
      " 19  hosp_patients                       5005 non-null   float64\n",
      " 20  hosp_patients_per_million           5005 non-null   float64\n",
      " 21  weekly_icu_admissions               357 non-null    float64\n",
      " 22  weekly_icu_admissions_per_million   357 non-null    float64\n",
      " 23  weekly_hosp_admissions              645 non-null    float64\n",
      " 24  weekly_hosp_admissions_per_million  645 non-null    float64\n",
      " 25  total_tests                         22255 non-null  float64\n",
      " 26  new_tests                           22027 non-null  float64\n",
      " 27  total_tests_per_thousand            22255 non-null  float64\n",
      " 28  new_tests_per_thousand              22027 non-null  float64\n",
      " 29  new_tests_smoothed                  24894 non-null  float64\n",
      " 30  new_tests_smoothed_per_thousand     24894 non-null  float64\n",
      " 31  tests_per_case                      23015 non-null  float64\n",
      " 32  positive_rate                       23424 non-null  float64\n",
      " 33  tests_units                         25858 non-null  object \n",
      " 34  stringency_index                    47870 non-null  float64\n",
      " 35  population                          57282 non-null  float64\n",
      " 36  population_density                  54570 non-null  float64\n",
      " 37  median_age                          51219 non-null  float64\n",
      " 38  aged_65_older                       50447 non-null  float64\n",
      " 39  aged_70_older                       50952 non-null  float64\n",
      " 40  gdp_per_capita                      50550 non-null  float64\n",
      " 41  extreme_poverty                     33692 non-null  float64\n",
      " 42  cardiovasc_death_rate               51199 non-null  float64\n",
      " 43  diabetes_prevalence                 53074 non-null  float64\n",
      " 44  female_smokers                      39808 non-null  float64\n",
      " 45  male_smokers                        39300 non-null  float64\n",
      " 46  handwashing_facilities              24271 non-null  float64\n",
      " 47  hospital_beds_per_thousand          46100 non-null  float64\n",
      " 48  life_expectancy                     56544 non-null  float64\n",
      " 49  human_development_index             49426 non-null  float64\n",
      "dtypes: float64(45), object(5)\n",
      "memory usage: 22.0+ MB\n"
     ]
    }
   ],
   "source": [
    "covid.info()"
   ]
  },
  {
   "cell_type": "markdown",
   "metadata": {},
   "source": [
    "#### Note: We also analyzed a Pandas profile report to better understand the data, the report is saved as an html file."
   ]
  },
  {
   "cell_type": "code",
   "execution_count": 4,
   "metadata": {},
   "outputs": [],
   "source": [
    "# covid_profile = ProfileReport(covid, title=\"Pandas Profiling Report for Our World in Data Covid dataset\")\n",
    "# covid_profile\n",
    "\n",
    "# covid_profile.to_file(\"EDA-pandas-profile-report-COVID-19.html\")"
   ]
  },
  {
   "cell_type": "markdown",
   "metadata": {},
   "source": [
    "### 4.4 Look at the top and the bottom of your data"
   ]
  },
  {
   "cell_type": "code",
   "execution_count": 5,
   "metadata": {},
   "outputs": [
    {
     "data": {
      "text/html": [
       "<div>\n",
       "<style scoped>\n",
       "    .dataframe tbody tr th:only-of-type {\n",
       "        vertical-align: middle;\n",
       "    }\n",
       "\n",
       "    .dataframe tbody tr th {\n",
       "        vertical-align: top;\n",
       "    }\n",
       "\n",
       "    .dataframe thead th {\n",
       "        text-align: right;\n",
       "    }\n",
       "</style>\n",
       "<table border=\"1\" class=\"dataframe\">\n",
       "  <thead>\n",
       "    <tr style=\"text-align: right;\">\n",
       "      <th></th>\n",
       "      <th>iso_code</th>\n",
       "      <th>continent</th>\n",
       "      <th>location</th>\n",
       "      <th>date</th>\n",
       "      <th>total_cases</th>\n",
       "      <th>new_cases</th>\n",
       "      <th>new_cases_smoothed</th>\n",
       "      <th>total_deaths</th>\n",
       "      <th>new_deaths</th>\n",
       "      <th>new_deaths_smoothed</th>\n",
       "      <th>...</th>\n",
       "      <th>gdp_per_capita</th>\n",
       "      <th>extreme_poverty</th>\n",
       "      <th>cardiovasc_death_rate</th>\n",
       "      <th>diabetes_prevalence</th>\n",
       "      <th>female_smokers</th>\n",
       "      <th>male_smokers</th>\n",
       "      <th>handwashing_facilities</th>\n",
       "      <th>hospital_beds_per_thousand</th>\n",
       "      <th>life_expectancy</th>\n",
       "      <th>human_development_index</th>\n",
       "    </tr>\n",
       "  </thead>\n",
       "  <tbody>\n",
       "    <tr>\n",
       "      <th>0</th>\n",
       "      <td>ABW</td>\n",
       "      <td>North America</td>\n",
       "      <td>Aruba</td>\n",
       "      <td>2020-03-13</td>\n",
       "      <td>2.0</td>\n",
       "      <td>2.0</td>\n",
       "      <td>NaN</td>\n",
       "      <td>NaN</td>\n",
       "      <td>0.0</td>\n",
       "      <td>NaN</td>\n",
       "      <td>...</td>\n",
       "      <td>35973.781</td>\n",
       "      <td>NaN</td>\n",
       "      <td>NaN</td>\n",
       "      <td>11.62</td>\n",
       "      <td>NaN</td>\n",
       "      <td>NaN</td>\n",
       "      <td>NaN</td>\n",
       "      <td>NaN</td>\n",
       "      <td>76.29</td>\n",
       "      <td>NaN</td>\n",
       "    </tr>\n",
       "    <tr>\n",
       "      <th>1</th>\n",
       "      <td>ABW</td>\n",
       "      <td>North America</td>\n",
       "      <td>Aruba</td>\n",
       "      <td>2020-03-19</td>\n",
       "      <td>NaN</td>\n",
       "      <td>NaN</td>\n",
       "      <td>0.286</td>\n",
       "      <td>NaN</td>\n",
       "      <td>NaN</td>\n",
       "      <td>0.0</td>\n",
       "      <td>...</td>\n",
       "      <td>35973.781</td>\n",
       "      <td>NaN</td>\n",
       "      <td>NaN</td>\n",
       "      <td>11.62</td>\n",
       "      <td>NaN</td>\n",
       "      <td>NaN</td>\n",
       "      <td>NaN</td>\n",
       "      <td>NaN</td>\n",
       "      <td>76.29</td>\n",
       "      <td>NaN</td>\n",
       "    </tr>\n",
       "    <tr>\n",
       "      <th>2</th>\n",
       "      <td>ABW</td>\n",
       "      <td>North America</td>\n",
       "      <td>Aruba</td>\n",
       "      <td>2020-03-20</td>\n",
       "      <td>4.0</td>\n",
       "      <td>2.0</td>\n",
       "      <td>0.286</td>\n",
       "      <td>NaN</td>\n",
       "      <td>0.0</td>\n",
       "      <td>0.0</td>\n",
       "      <td>...</td>\n",
       "      <td>35973.781</td>\n",
       "      <td>NaN</td>\n",
       "      <td>NaN</td>\n",
       "      <td>11.62</td>\n",
       "      <td>NaN</td>\n",
       "      <td>NaN</td>\n",
       "      <td>NaN</td>\n",
       "      <td>NaN</td>\n",
       "      <td>76.29</td>\n",
       "      <td>NaN</td>\n",
       "    </tr>\n",
       "    <tr>\n",
       "      <th>3</th>\n",
       "      <td>ABW</td>\n",
       "      <td>North America</td>\n",
       "      <td>Aruba</td>\n",
       "      <td>2020-03-21</td>\n",
       "      <td>NaN</td>\n",
       "      <td>NaN</td>\n",
       "      <td>0.286</td>\n",
       "      <td>NaN</td>\n",
       "      <td>NaN</td>\n",
       "      <td>0.0</td>\n",
       "      <td>...</td>\n",
       "      <td>35973.781</td>\n",
       "      <td>NaN</td>\n",
       "      <td>NaN</td>\n",
       "      <td>11.62</td>\n",
       "      <td>NaN</td>\n",
       "      <td>NaN</td>\n",
       "      <td>NaN</td>\n",
       "      <td>NaN</td>\n",
       "      <td>76.29</td>\n",
       "      <td>NaN</td>\n",
       "    </tr>\n",
       "    <tr>\n",
       "      <th>4</th>\n",
       "      <td>ABW</td>\n",
       "      <td>North America</td>\n",
       "      <td>Aruba</td>\n",
       "      <td>2020-03-22</td>\n",
       "      <td>NaN</td>\n",
       "      <td>NaN</td>\n",
       "      <td>0.286</td>\n",
       "      <td>NaN</td>\n",
       "      <td>NaN</td>\n",
       "      <td>0.0</td>\n",
       "      <td>...</td>\n",
       "      <td>35973.781</td>\n",
       "      <td>NaN</td>\n",
       "      <td>NaN</td>\n",
       "      <td>11.62</td>\n",
       "      <td>NaN</td>\n",
       "      <td>NaN</td>\n",
       "      <td>NaN</td>\n",
       "      <td>NaN</td>\n",
       "      <td>76.29</td>\n",
       "      <td>NaN</td>\n",
       "    </tr>\n",
       "  </tbody>\n",
       "</table>\n",
       "<p>5 rows × 50 columns</p>\n",
       "</div>"
      ],
      "text/plain": [
       "  iso_code      continent location        date  total_cases  new_cases  \\\n",
       "0      ABW  North America    Aruba  2020-03-13          2.0        2.0   \n",
       "1      ABW  North America    Aruba  2020-03-19          NaN        NaN   \n",
       "2      ABW  North America    Aruba  2020-03-20          4.0        2.0   \n",
       "3      ABW  North America    Aruba  2020-03-21          NaN        NaN   \n",
       "4      ABW  North America    Aruba  2020-03-22          NaN        NaN   \n",
       "\n",
       "   new_cases_smoothed  total_deaths  new_deaths  new_deaths_smoothed  ...  \\\n",
       "0                 NaN           NaN         0.0                  NaN  ...   \n",
       "1               0.286           NaN         NaN                  0.0  ...   \n",
       "2               0.286           NaN         0.0                  0.0  ...   \n",
       "3               0.286           NaN         NaN                  0.0  ...   \n",
       "4               0.286           NaN         NaN                  0.0  ...   \n",
       "\n",
       "   gdp_per_capita  extreme_poverty  cardiovasc_death_rate  \\\n",
       "0       35973.781              NaN                    NaN   \n",
       "1       35973.781              NaN                    NaN   \n",
       "2       35973.781              NaN                    NaN   \n",
       "3       35973.781              NaN                    NaN   \n",
       "4       35973.781              NaN                    NaN   \n",
       "\n",
       "   diabetes_prevalence  female_smokers  male_smokers  handwashing_facilities  \\\n",
       "0                11.62             NaN           NaN                     NaN   \n",
       "1                11.62             NaN           NaN                     NaN   \n",
       "2                11.62             NaN           NaN                     NaN   \n",
       "3                11.62             NaN           NaN                     NaN   \n",
       "4                11.62             NaN           NaN                     NaN   \n",
       "\n",
       "   hospital_beds_per_thousand  life_expectancy  human_development_index  \n",
       "0                         NaN            76.29                      NaN  \n",
       "1                         NaN            76.29                      NaN  \n",
       "2                         NaN            76.29                      NaN  \n",
       "3                         NaN            76.29                      NaN  \n",
       "4                         NaN            76.29                      NaN  \n",
       "\n",
       "[5 rows x 50 columns]"
      ]
     },
     "execution_count": 5,
     "metadata": {},
     "output_type": "execute_result"
    }
   ],
   "source": [
    "covid.head()"
   ]
  },
  {
   "cell_type": "code",
   "execution_count": 6,
   "metadata": {},
   "outputs": [
    {
     "data": {
      "text/html": [
       "<div>\n",
       "<style scoped>\n",
       "    .dataframe tbody tr th:only-of-type {\n",
       "        vertical-align: middle;\n",
       "    }\n",
       "\n",
       "    .dataframe tbody tr th {\n",
       "        vertical-align: top;\n",
       "    }\n",
       "\n",
       "    .dataframe thead th {\n",
       "        text-align: right;\n",
       "    }\n",
       "</style>\n",
       "<table border=\"1\" class=\"dataframe\">\n",
       "  <thead>\n",
       "    <tr style=\"text-align: right;\">\n",
       "      <th></th>\n",
       "      <th>iso_code</th>\n",
       "      <th>continent</th>\n",
       "      <th>location</th>\n",
       "      <th>date</th>\n",
       "      <th>total_cases</th>\n",
       "      <th>new_cases</th>\n",
       "      <th>new_cases_smoothed</th>\n",
       "      <th>total_deaths</th>\n",
       "      <th>new_deaths</th>\n",
       "      <th>new_deaths_smoothed</th>\n",
       "      <th>...</th>\n",
       "      <th>gdp_per_capita</th>\n",
       "      <th>extreme_poverty</th>\n",
       "      <th>cardiovasc_death_rate</th>\n",
       "      <th>diabetes_prevalence</th>\n",
       "      <th>female_smokers</th>\n",
       "      <th>male_smokers</th>\n",
       "      <th>handwashing_facilities</th>\n",
       "      <th>hospital_beds_per_thousand</th>\n",
       "      <th>life_expectancy</th>\n",
       "      <th>human_development_index</th>\n",
       "    </tr>\n",
       "  </thead>\n",
       "  <tbody>\n",
       "    <tr>\n",
       "      <th>57601</th>\n",
       "      <td>NaN</td>\n",
       "      <td>NaN</td>\n",
       "      <td>International</td>\n",
       "      <td>2020-11-14</td>\n",
       "      <td>696.0</td>\n",
       "      <td>NaN</td>\n",
       "      <td>NaN</td>\n",
       "      <td>7.0</td>\n",
       "      <td>NaN</td>\n",
       "      <td>NaN</td>\n",
       "      <td>...</td>\n",
       "      <td>NaN</td>\n",
       "      <td>NaN</td>\n",
       "      <td>NaN</td>\n",
       "      <td>NaN</td>\n",
       "      <td>NaN</td>\n",
       "      <td>NaN</td>\n",
       "      <td>NaN</td>\n",
       "      <td>NaN</td>\n",
       "      <td>NaN</td>\n",
       "      <td>NaN</td>\n",
       "    </tr>\n",
       "    <tr>\n",
       "      <th>57602</th>\n",
       "      <td>NaN</td>\n",
       "      <td>NaN</td>\n",
       "      <td>International</td>\n",
       "      <td>2020-11-15</td>\n",
       "      <td>696.0</td>\n",
       "      <td>NaN</td>\n",
       "      <td>NaN</td>\n",
       "      <td>7.0</td>\n",
       "      <td>NaN</td>\n",
       "      <td>NaN</td>\n",
       "      <td>...</td>\n",
       "      <td>NaN</td>\n",
       "      <td>NaN</td>\n",
       "      <td>NaN</td>\n",
       "      <td>NaN</td>\n",
       "      <td>NaN</td>\n",
       "      <td>NaN</td>\n",
       "      <td>NaN</td>\n",
       "      <td>NaN</td>\n",
       "      <td>NaN</td>\n",
       "      <td>NaN</td>\n",
       "    </tr>\n",
       "    <tr>\n",
       "      <th>57603</th>\n",
       "      <td>NaN</td>\n",
       "      <td>NaN</td>\n",
       "      <td>International</td>\n",
       "      <td>2020-11-16</td>\n",
       "      <td>696.0</td>\n",
       "      <td>NaN</td>\n",
       "      <td>NaN</td>\n",
       "      <td>7.0</td>\n",
       "      <td>NaN</td>\n",
       "      <td>NaN</td>\n",
       "      <td>...</td>\n",
       "      <td>NaN</td>\n",
       "      <td>NaN</td>\n",
       "      <td>NaN</td>\n",
       "      <td>NaN</td>\n",
       "      <td>NaN</td>\n",
       "      <td>NaN</td>\n",
       "      <td>NaN</td>\n",
       "      <td>NaN</td>\n",
       "      <td>NaN</td>\n",
       "      <td>NaN</td>\n",
       "    </tr>\n",
       "    <tr>\n",
       "      <th>57604</th>\n",
       "      <td>NaN</td>\n",
       "      <td>NaN</td>\n",
       "      <td>International</td>\n",
       "      <td>2020-11-17</td>\n",
       "      <td>696.0</td>\n",
       "      <td>NaN</td>\n",
       "      <td>NaN</td>\n",
       "      <td>7.0</td>\n",
       "      <td>NaN</td>\n",
       "      <td>NaN</td>\n",
       "      <td>...</td>\n",
       "      <td>NaN</td>\n",
       "      <td>NaN</td>\n",
       "      <td>NaN</td>\n",
       "      <td>NaN</td>\n",
       "      <td>NaN</td>\n",
       "      <td>NaN</td>\n",
       "      <td>NaN</td>\n",
       "      <td>NaN</td>\n",
       "      <td>NaN</td>\n",
       "      <td>NaN</td>\n",
       "    </tr>\n",
       "    <tr>\n",
       "      <th>57605</th>\n",
       "      <td>NaN</td>\n",
       "      <td>NaN</td>\n",
       "      <td>International</td>\n",
       "      <td>2020-11-18</td>\n",
       "      <td>696.0</td>\n",
       "      <td>NaN</td>\n",
       "      <td>NaN</td>\n",
       "      <td>7.0</td>\n",
       "      <td>NaN</td>\n",
       "      <td>NaN</td>\n",
       "      <td>...</td>\n",
       "      <td>NaN</td>\n",
       "      <td>NaN</td>\n",
       "      <td>NaN</td>\n",
       "      <td>NaN</td>\n",
       "      <td>NaN</td>\n",
       "      <td>NaN</td>\n",
       "      <td>NaN</td>\n",
       "      <td>NaN</td>\n",
       "      <td>NaN</td>\n",
       "      <td>NaN</td>\n",
       "    </tr>\n",
       "  </tbody>\n",
       "</table>\n",
       "<p>5 rows × 50 columns</p>\n",
       "</div>"
      ],
      "text/plain": [
       "      iso_code continent       location        date  total_cases  new_cases  \\\n",
       "57601      NaN       NaN  International  2020-11-14        696.0        NaN   \n",
       "57602      NaN       NaN  International  2020-11-15        696.0        NaN   \n",
       "57603      NaN       NaN  International  2020-11-16        696.0        NaN   \n",
       "57604      NaN       NaN  International  2020-11-17        696.0        NaN   \n",
       "57605      NaN       NaN  International  2020-11-18        696.0        NaN   \n",
       "\n",
       "       new_cases_smoothed  total_deaths  new_deaths  new_deaths_smoothed  ...  \\\n",
       "57601                 NaN           7.0         NaN                  NaN  ...   \n",
       "57602                 NaN           7.0         NaN                  NaN  ...   \n",
       "57603                 NaN           7.0         NaN                  NaN  ...   \n",
       "57604                 NaN           7.0         NaN                  NaN  ...   \n",
       "57605                 NaN           7.0         NaN                  NaN  ...   \n",
       "\n",
       "       gdp_per_capita  extreme_poverty  cardiovasc_death_rate  \\\n",
       "57601             NaN              NaN                    NaN   \n",
       "57602             NaN              NaN                    NaN   \n",
       "57603             NaN              NaN                    NaN   \n",
       "57604             NaN              NaN                    NaN   \n",
       "57605             NaN              NaN                    NaN   \n",
       "\n",
       "       diabetes_prevalence  female_smokers  male_smokers  \\\n",
       "57601                  NaN             NaN           NaN   \n",
       "57602                  NaN             NaN           NaN   \n",
       "57603                  NaN             NaN           NaN   \n",
       "57604                  NaN             NaN           NaN   \n",
       "57605                  NaN             NaN           NaN   \n",
       "\n",
       "       handwashing_facilities  hospital_beds_per_thousand  life_expectancy  \\\n",
       "57601                     NaN                         NaN              NaN   \n",
       "57602                     NaN                         NaN              NaN   \n",
       "57603                     NaN                         NaN              NaN   \n",
       "57604                     NaN                         NaN              NaN   \n",
       "57605                     NaN                         NaN              NaN   \n",
       "\n",
       "       human_development_index  \n",
       "57601                      NaN  \n",
       "57602                      NaN  \n",
       "57603                      NaN  \n",
       "57604                      NaN  \n",
       "57605                      NaN  \n",
       "\n",
       "[5 rows x 50 columns]"
      ]
     },
     "execution_count": 6,
     "metadata": {},
     "output_type": "execute_result"
    }
   ],
   "source": [
    "covid.tail()"
   ]
  },
  {
   "cell_type": "markdown",
   "metadata": {},
   "source": [
    "### 4.5 Check your “n”s."
   ]
  },
  {
   "cell_type": "code",
   "execution_count": 7,
   "metadata": {},
   "outputs": [
    {
     "data": {
      "text/html": [
       "<div>\n",
       "<style scoped>\n",
       "    .dataframe tbody tr th:only-of-type {\n",
       "        vertical-align: middle;\n",
       "    }\n",
       "\n",
       "    .dataframe tbody tr th {\n",
       "        vertical-align: top;\n",
       "    }\n",
       "\n",
       "    .dataframe thead th {\n",
       "        text-align: right;\n",
       "    }\n",
       "</style>\n",
       "<table border=\"1\" class=\"dataframe\">\n",
       "  <thead>\n",
       "    <tr style=\"text-align: right;\">\n",
       "      <th></th>\n",
       "      <th>total_cases</th>\n",
       "      <th>new_cases</th>\n",
       "      <th>new_cases_smoothed</th>\n",
       "      <th>total_deaths</th>\n",
       "      <th>new_deaths</th>\n",
       "      <th>new_deaths_smoothed</th>\n",
       "      <th>total_cases_per_million</th>\n",
       "      <th>new_cases_per_million</th>\n",
       "      <th>new_cases_smoothed_per_million</th>\n",
       "      <th>total_deaths_per_million</th>\n",
       "      <th>...</th>\n",
       "      <th>gdp_per_capita</th>\n",
       "      <th>extreme_poverty</th>\n",
       "      <th>cardiovasc_death_rate</th>\n",
       "      <th>diabetes_prevalence</th>\n",
       "      <th>female_smokers</th>\n",
       "      <th>male_smokers</th>\n",
       "      <th>handwashing_facilities</th>\n",
       "      <th>hospital_beds_per_thousand</th>\n",
       "      <th>life_expectancy</th>\n",
       "      <th>human_development_index</th>\n",
       "    </tr>\n",
       "  </thead>\n",
       "  <tbody>\n",
       "    <tr>\n",
       "      <th>count</th>\n",
       "      <td>5.397200e+04</td>\n",
       "      <td>56683.000000</td>\n",
       "      <td>55870.000000</td>\n",
       "      <td>4.456600e+04</td>\n",
       "      <td>56683.000000</td>\n",
       "      <td>55870.000000</td>\n",
       "      <td>53684.000000</td>\n",
       "      <td>56619.000000</td>\n",
       "      <td>55805.000000</td>\n",
       "      <td>44293.000000</td>\n",
       "      <td>...</td>\n",
       "      <td>50550.000000</td>\n",
       "      <td>33692.000000</td>\n",
       "      <td>51199.000000</td>\n",
       "      <td>53074.000000</td>\n",
       "      <td>39808.000000</td>\n",
       "      <td>39300.000000</td>\n",
       "      <td>24271.000000</td>\n",
       "      <td>46100.000000</td>\n",
       "      <td>56544.000000</td>\n",
       "      <td>49426.000000</td>\n",
       "    </tr>\n",
       "    <tr>\n",
       "      <th>mean</th>\n",
       "      <td>1.692058e+05</td>\n",
       "      <td>1966.828608</td>\n",
       "      <td>1934.441178</td>\n",
       "      <td>6.888751e+03</td>\n",
       "      <td>47.257555</td>\n",
       "      <td>46.985154</td>\n",
       "      <td>3169.518546</td>\n",
       "      <td>39.662585</td>\n",
       "      <td>38.782139</td>\n",
       "      <td>95.838308</td>\n",
       "      <td>...</td>\n",
       "      <td>20617.460538</td>\n",
       "      <td>12.441342</td>\n",
       "      <td>252.688286</td>\n",
       "      <td>8.070977</td>\n",
       "      <td>10.742060</td>\n",
       "      <td>32.641311</td>\n",
       "      <td>52.082517</td>\n",
       "      <td>3.089547</td>\n",
       "      <td>73.936374</td>\n",
       "      <td>0.722185</td>\n",
       "    </tr>\n",
       "    <tr>\n",
       "      <th>std</th>\n",
       "      <td>1.707895e+06</td>\n",
       "      <td>18415.729973</td>\n",
       "      <td>17934.741991</td>\n",
       "      <td>5.603876e+04</td>\n",
       "      <td>392.824312</td>\n",
       "      <td>379.644228</td>\n",
       "      <td>6243.543635</td>\n",
       "      <td>134.423758</td>\n",
       "      <td>102.472380</td>\n",
       "      <td>181.325571</td>\n",
       "      <td>...</td>\n",
       "      <td>20310.137119</td>\n",
       "      <td>19.432017</td>\n",
       "      <td>117.523597</td>\n",
       "      <td>4.191216</td>\n",
       "      <td>10.470905</td>\n",
       "      <td>13.453989</td>\n",
       "      <td>31.645808</td>\n",
       "      <td>2.512960</td>\n",
       "      <td>7.397755</td>\n",
       "      <td>0.153282</td>\n",
       "    </tr>\n",
       "    <tr>\n",
       "      <th>min</th>\n",
       "      <td>1.000000e+00</td>\n",
       "      <td>-8261.000000</td>\n",
       "      <td>-552.000000</td>\n",
       "      <td>1.000000e+00</td>\n",
       "      <td>-1918.000000</td>\n",
       "      <td>-232.143000</td>\n",
       "      <td>0.001000</td>\n",
       "      <td>-2212.545000</td>\n",
       "      <td>-269.978000</td>\n",
       "      <td>0.000000</td>\n",
       "      <td>...</td>\n",
       "      <td>661.240000</td>\n",
       "      <td>0.100000</td>\n",
       "      <td>79.370000</td>\n",
       "      <td>0.990000</td>\n",
       "      <td>0.100000</td>\n",
       "      <td>7.700000</td>\n",
       "      <td>1.188000</td>\n",
       "      <td>0.100000</td>\n",
       "      <td>53.280000</td>\n",
       "      <td>0.354000</td>\n",
       "    </tr>\n",
       "    <tr>\n",
       "      <th>25%</th>\n",
       "      <td>1.810000e+02</td>\n",
       "      <td>0.000000</td>\n",
       "      <td>0.857000</td>\n",
       "      <td>1.300000e+01</td>\n",
       "      <td>0.000000</td>\n",
       "      <td>0.000000</td>\n",
       "      <td>90.901000</td>\n",
       "      <td>0.000000</td>\n",
       "      <td>0.261000</td>\n",
       "      <td>4.000000</td>\n",
       "      <td>...</td>\n",
       "      <td>5321.444000</td>\n",
       "      <td>0.500000</td>\n",
       "      <td>156.139000</td>\n",
       "      <td>5.310000</td>\n",
       "      <td>1.900000</td>\n",
       "      <td>21.400000</td>\n",
       "      <td>21.222000</td>\n",
       "      <td>1.300000</td>\n",
       "      <td>69.870000</td>\n",
       "      <td>0.601000</td>\n",
       "    </tr>\n",
       "    <tr>\n",
       "      <th>50%</th>\n",
       "      <td>2.087000e+03</td>\n",
       "      <td>14.000000</td>\n",
       "      <td>19.429000</td>\n",
       "      <td>8.500000e+01</td>\n",
       "      <td>0.000000</td>\n",
       "      <td>0.286000</td>\n",
       "      <td>599.623000</td>\n",
       "      <td>2.204000</td>\n",
       "      <td>3.877000</td>\n",
       "      <td>20.383000</td>\n",
       "      <td>...</td>\n",
       "      <td>13913.839000</td>\n",
       "      <td>2.000000</td>\n",
       "      <td>238.339000</td>\n",
       "      <td>7.125000</td>\n",
       "      <td>6.400000</td>\n",
       "      <td>31.400000</td>\n",
       "      <td>52.232000</td>\n",
       "      <td>2.500000</td>\n",
       "      <td>75.290000</td>\n",
       "      <td>0.752000</td>\n",
       "    </tr>\n",
       "    <tr>\n",
       "      <th>75%</th>\n",
       "      <td>2.259700e+04</td>\n",
       "      <td>238.000000</td>\n",
       "      <td>247.286000</td>\n",
       "      <td>7.320000e+02</td>\n",
       "      <td>4.000000</td>\n",
       "      <td>4.143000</td>\n",
       "      <td>3514.404250</td>\n",
       "      <td>26.221000</td>\n",
       "      <td>29.823000</td>\n",
       "      <td>91.835000</td>\n",
       "      <td>...</td>\n",
       "      <td>31400.840000</td>\n",
       "      <td>18.100000</td>\n",
       "      <td>318.991000</td>\n",
       "      <td>10.390000</td>\n",
       "      <td>19.600000</td>\n",
       "      <td>40.900000</td>\n",
       "      <td>83.741000</td>\n",
       "      <td>4.200000</td>\n",
       "      <td>79.380000</td>\n",
       "      <td>0.847000</td>\n",
       "    </tr>\n",
       "    <tr>\n",
       "      <th>max</th>\n",
       "      <td>5.574395e+07</td>\n",
       "      <td>647529.000000</td>\n",
       "      <td>589632.429000</td>\n",
       "      <td>1.339436e+06</td>\n",
       "      <td>10608.000000</td>\n",
       "      <td>9140.286000</td>\n",
       "      <td>77020.643000</td>\n",
       "      <td>8652.658000</td>\n",
       "      <td>2472.188000</td>\n",
       "      <td>1265.529000</td>\n",
       "      <td>...</td>\n",
       "      <td>116935.600000</td>\n",
       "      <td>77.600000</td>\n",
       "      <td>724.417000</td>\n",
       "      <td>30.530000</td>\n",
       "      <td>44.000000</td>\n",
       "      <td>78.100000</td>\n",
       "      <td>98.999000</td>\n",
       "      <td>13.800000</td>\n",
       "      <td>86.750000</td>\n",
       "      <td>0.953000</td>\n",
       "    </tr>\n",
       "  </tbody>\n",
       "</table>\n",
       "<p>8 rows × 45 columns</p>\n",
       "</div>"
      ],
      "text/plain": [
       "        total_cases      new_cases  new_cases_smoothed  total_deaths  \\\n",
       "count  5.397200e+04   56683.000000        55870.000000  4.456600e+04   \n",
       "mean   1.692058e+05    1966.828608         1934.441178  6.888751e+03   \n",
       "std    1.707895e+06   18415.729973        17934.741991  5.603876e+04   \n",
       "min    1.000000e+00   -8261.000000         -552.000000  1.000000e+00   \n",
       "25%    1.810000e+02       0.000000            0.857000  1.300000e+01   \n",
       "50%    2.087000e+03      14.000000           19.429000  8.500000e+01   \n",
       "75%    2.259700e+04     238.000000          247.286000  7.320000e+02   \n",
       "max    5.574395e+07  647529.000000       589632.429000  1.339436e+06   \n",
       "\n",
       "         new_deaths  new_deaths_smoothed  total_cases_per_million  \\\n",
       "count  56683.000000         55870.000000             53684.000000   \n",
       "mean      47.257555            46.985154              3169.518546   \n",
       "std      392.824312           379.644228              6243.543635   \n",
       "min    -1918.000000          -232.143000                 0.001000   \n",
       "25%        0.000000             0.000000                90.901000   \n",
       "50%        0.000000             0.286000               599.623000   \n",
       "75%        4.000000             4.143000              3514.404250   \n",
       "max    10608.000000          9140.286000             77020.643000   \n",
       "\n",
       "       new_cases_per_million  new_cases_smoothed_per_million  \\\n",
       "count           56619.000000                    55805.000000   \n",
       "mean               39.662585                       38.782139   \n",
       "std               134.423758                      102.472380   \n",
       "min             -2212.545000                     -269.978000   \n",
       "25%                 0.000000                        0.261000   \n",
       "50%                 2.204000                        3.877000   \n",
       "75%                26.221000                       29.823000   \n",
       "max              8652.658000                     2472.188000   \n",
       "\n",
       "       total_deaths_per_million  ...  gdp_per_capita  extreme_poverty  \\\n",
       "count              44293.000000  ...    50550.000000     33692.000000   \n",
       "mean                  95.838308  ...    20617.460538        12.441342   \n",
       "std                  181.325571  ...    20310.137119        19.432017   \n",
       "min                    0.000000  ...      661.240000         0.100000   \n",
       "25%                    4.000000  ...     5321.444000         0.500000   \n",
       "50%                   20.383000  ...    13913.839000         2.000000   \n",
       "75%                   91.835000  ...    31400.840000        18.100000   \n",
       "max                 1265.529000  ...   116935.600000        77.600000   \n",
       "\n",
       "       cardiovasc_death_rate  diabetes_prevalence  female_smokers  \\\n",
       "count           51199.000000         53074.000000    39808.000000   \n",
       "mean              252.688286             8.070977       10.742060   \n",
       "std               117.523597             4.191216       10.470905   \n",
       "min                79.370000             0.990000        0.100000   \n",
       "25%               156.139000             5.310000        1.900000   \n",
       "50%               238.339000             7.125000        6.400000   \n",
       "75%               318.991000            10.390000       19.600000   \n",
       "max               724.417000            30.530000       44.000000   \n",
       "\n",
       "       male_smokers  handwashing_facilities  hospital_beds_per_thousand  \\\n",
       "count  39300.000000            24271.000000                46100.000000   \n",
       "mean      32.641311               52.082517                    3.089547   \n",
       "std       13.453989               31.645808                    2.512960   \n",
       "min        7.700000                1.188000                    0.100000   \n",
       "25%       21.400000               21.222000                    1.300000   \n",
       "50%       31.400000               52.232000                    2.500000   \n",
       "75%       40.900000               83.741000                    4.200000   \n",
       "max       78.100000               98.999000                   13.800000   \n",
       "\n",
       "       life_expectancy  human_development_index  \n",
       "count     56544.000000             49426.000000  \n",
       "mean         73.936374                 0.722185  \n",
       "std           7.397755                 0.153282  \n",
       "min          53.280000                 0.354000  \n",
       "25%          69.870000                 0.601000  \n",
       "50%          75.290000                 0.752000  \n",
       "75%          79.380000                 0.847000  \n",
       "max          86.750000                 0.953000  \n",
       "\n",
       "[8 rows x 45 columns]"
      ]
     },
     "execution_count": 7,
     "metadata": {},
     "output_type": "execute_result"
    }
   ],
   "source": [
    "covid.describe(include = np.number)"
   ]
  },
  {
   "cell_type": "code",
   "execution_count": 8,
   "metadata": {},
   "outputs": [
    {
     "data": {
      "text/html": [
       "<div>\n",
       "<style scoped>\n",
       "    .dataframe tbody tr th:only-of-type {\n",
       "        vertical-align: middle;\n",
       "    }\n",
       "\n",
       "    .dataframe tbody tr th {\n",
       "        vertical-align: top;\n",
       "    }\n",
       "\n",
       "    .dataframe thead th {\n",
       "        text-align: right;\n",
       "    }\n",
       "</style>\n",
       "<table border=\"1\" class=\"dataframe\">\n",
       "  <thead>\n",
       "    <tr style=\"text-align: right;\">\n",
       "      <th></th>\n",
       "      <th>iso_code</th>\n",
       "      <th>continent</th>\n",
       "      <th>location</th>\n",
       "      <th>date</th>\n",
       "      <th>tests_units</th>\n",
       "    </tr>\n",
       "  </thead>\n",
       "  <tbody>\n",
       "    <tr>\n",
       "      <th>count</th>\n",
       "      <td>57282</td>\n",
       "      <td>56958</td>\n",
       "      <td>57606</td>\n",
       "      <td>57606</td>\n",
       "      <td>25858</td>\n",
       "    </tr>\n",
       "    <tr>\n",
       "      <th>unique</th>\n",
       "      <td>215</td>\n",
       "      <td>6</td>\n",
       "      <td>216</td>\n",
       "      <td>324</td>\n",
       "      <td>6</td>\n",
       "    </tr>\n",
       "    <tr>\n",
       "      <th>top</th>\n",
       "      <td>QAT</td>\n",
       "      <td>Europe</td>\n",
       "      <td>Oman</td>\n",
       "      <td>2020-11-15</td>\n",
       "      <td>tests performed</td>\n",
       "    </tr>\n",
       "    <tr>\n",
       "      <th>freq</th>\n",
       "      <td>324</td>\n",
       "      <td>14883</td>\n",
       "      <td>324</td>\n",
       "      <td>215</td>\n",
       "      <td>15119</td>\n",
       "    </tr>\n",
       "  </tbody>\n",
       "</table>\n",
       "</div>"
      ],
      "text/plain": [
       "       iso_code continent location        date      tests_units\n",
       "count     57282     56958    57606       57606            25858\n",
       "unique      215         6      216         324                6\n",
       "top         QAT    Europe     Oman  2020-11-15  tests performed\n",
       "freq        324     14883      324         215            15119"
      ]
     },
     "execution_count": 8,
     "metadata": {},
     "output_type": "execute_result"
    }
   ],
   "source": [
    "covid.describe(exclude = np.number)"
   ]
  },
  {
   "cell_type": "markdown",
   "metadata": {},
   "source": [
    "### 4.5.1 Analysing the columns of interest as per our formulated question."
   ]
  },
  {
   "cell_type": "code",
   "execution_count": 9,
   "metadata": {},
   "outputs": [],
   "source": [
    "col_list = [\"iso_code\", \"date\", \"new_cases\", \"new_tests\"]\n",
    "covid = covid[col_list]"
   ]
  },
  {
   "cell_type": "code",
   "execution_count": 10,
   "metadata": {},
   "outputs": [
    {
     "data": {
      "text/html": [
       "<div>\n",
       "<style scoped>\n",
       "    .dataframe tbody tr th:only-of-type {\n",
       "        vertical-align: middle;\n",
       "    }\n",
       "\n",
       "    .dataframe tbody tr th {\n",
       "        vertical-align: top;\n",
       "    }\n",
       "\n",
       "    .dataframe thead th {\n",
       "        text-align: right;\n",
       "    }\n",
       "</style>\n",
       "<table border=\"1\" class=\"dataframe\">\n",
       "  <thead>\n",
       "    <tr style=\"text-align: right;\">\n",
       "      <th></th>\n",
       "      <th>iso_code</th>\n",
       "      <th>date</th>\n",
       "      <th>new_cases</th>\n",
       "      <th>new_tests</th>\n",
       "    </tr>\n",
       "  </thead>\n",
       "  <tbody>\n",
       "    <tr>\n",
       "      <th>0</th>\n",
       "      <td>USA</td>\n",
       "      <td>2020-03-01</td>\n",
       "      <td>3.0</td>\n",
       "      <td>183.0</td>\n",
       "    </tr>\n",
       "    <tr>\n",
       "      <th>1</th>\n",
       "      <td>USA</td>\n",
       "      <td>2020-03-02</td>\n",
       "      <td>20.0</td>\n",
       "      <td>455.0</td>\n",
       "    </tr>\n",
       "    <tr>\n",
       "      <th>2</th>\n",
       "      <td>USA</td>\n",
       "      <td>2020-03-03</td>\n",
       "      <td>14.0</td>\n",
       "      <td>806.0</td>\n",
       "    </tr>\n",
       "    <tr>\n",
       "      <th>3</th>\n",
       "      <td>USA</td>\n",
       "      <td>2020-03-04</td>\n",
       "      <td>22.0</td>\n",
       "      <td>901.0</td>\n",
       "    </tr>\n",
       "    <tr>\n",
       "      <th>4</th>\n",
       "      <td>USA</td>\n",
       "      <td>2020-03-05</td>\n",
       "      <td>34.0</td>\n",
       "      <td>1150.0</td>\n",
       "    </tr>\n",
       "    <tr>\n",
       "      <th>...</th>\n",
       "      <td>...</td>\n",
       "      <td>...</td>\n",
       "      <td>...</td>\n",
       "      <td>...</td>\n",
       "    </tr>\n",
       "    <tr>\n",
       "      <th>240</th>\n",
       "      <td>USA</td>\n",
       "      <td>2020-10-27</td>\n",
       "      <td>68359.0</td>\n",
       "      <td>1229458.0</td>\n",
       "    </tr>\n",
       "    <tr>\n",
       "      <th>241</th>\n",
       "      <td>USA</td>\n",
       "      <td>2020-10-28</td>\n",
       "      <td>75129.0</td>\n",
       "      <td>1355447.0</td>\n",
       "    </tr>\n",
       "    <tr>\n",
       "      <th>242</th>\n",
       "      <td>USA</td>\n",
       "      <td>2020-10-29</td>\n",
       "      <td>78371.0</td>\n",
       "      <td>1366664.0</td>\n",
       "    </tr>\n",
       "    <tr>\n",
       "      <th>243</th>\n",
       "      <td>USA</td>\n",
       "      <td>2020-10-30</td>\n",
       "      <td>88130.0</td>\n",
       "      <td>1414156.0</td>\n",
       "    </tr>\n",
       "    <tr>\n",
       "      <th>244</th>\n",
       "      <td>USA</td>\n",
       "      <td>2020-10-31</td>\n",
       "      <td>101273.0</td>\n",
       "      <td>1161427.0</td>\n",
       "    </tr>\n",
       "  </tbody>\n",
       "</table>\n",
       "<p>245 rows × 4 columns</p>\n",
       "</div>"
      ],
      "text/plain": [
       "    iso_code        date  new_cases  new_tests\n",
       "0        USA  2020-03-01        3.0      183.0\n",
       "1        USA  2020-03-02       20.0      455.0\n",
       "2        USA  2020-03-03       14.0      806.0\n",
       "3        USA  2020-03-04       22.0      901.0\n",
       "4        USA  2020-03-05       34.0     1150.0\n",
       "..       ...         ...        ...        ...\n",
       "240      USA  2020-10-27    68359.0  1229458.0\n",
       "241      USA  2020-10-28    75129.0  1355447.0\n",
       "242      USA  2020-10-29    78371.0  1366664.0\n",
       "243      USA  2020-10-30    88130.0  1414156.0\n",
       "244      USA  2020-10-31   101273.0  1161427.0\n",
       "\n",
       "[245 rows x 4 columns]"
      ]
     },
     "execution_count": 10,
     "metadata": {},
     "output_type": "execute_result"
    }
   ],
   "source": [
    "covid.query(\"iso_code == 'USA' and  new_tests > 0 and date <= '2020-10-31'\").reset_index(drop=True)"
   ]
  },
  {
   "cell_type": "code",
   "execution_count": 11,
   "metadata": {},
   "outputs": [
    {
     "data": {
      "text/html": [
       "<div>\n",
       "<style scoped>\n",
       "    .dataframe tbody tr th:only-of-type {\n",
       "        vertical-align: middle;\n",
       "    }\n",
       "\n",
       "    .dataframe tbody tr th {\n",
       "        vertical-align: top;\n",
       "    }\n",
       "\n",
       "    .dataframe thead th {\n",
       "        text-align: right;\n",
       "    }\n",
       "</style>\n",
       "<table border=\"1\" class=\"dataframe\">\n",
       "  <thead>\n",
       "    <tr style=\"text-align: right;\">\n",
       "      <th></th>\n",
       "      <th>iso_code</th>\n",
       "      <th>date</th>\n",
       "      <th>new_cases</th>\n",
       "      <th>new_tests</th>\n",
       "    </tr>\n",
       "  </thead>\n",
       "  <tbody>\n",
       "    <tr>\n",
       "      <th>0</th>\n",
       "      <td>CAN</td>\n",
       "      <td>2020-03-12</td>\n",
       "      <td>10.0</td>\n",
       "      <td>4162.0</td>\n",
       "    </tr>\n",
       "    <tr>\n",
       "      <th>1</th>\n",
       "      <td>CAN</td>\n",
       "      <td>2020-03-15</td>\n",
       "      <td>68.0</td>\n",
       "      <td>2568.0</td>\n",
       "    </tr>\n",
       "    <tr>\n",
       "      <th>2</th>\n",
       "      <td>CAN</td>\n",
       "      <td>2020-03-16</td>\n",
       "      <td>60.0</td>\n",
       "      <td>12753.0</td>\n",
       "    </tr>\n",
       "    <tr>\n",
       "      <th>3</th>\n",
       "      <td>CAN</td>\n",
       "      <td>2020-03-17</td>\n",
       "      <td>120.0</td>\n",
       "      <td>6446.0</td>\n",
       "    </tr>\n",
       "    <tr>\n",
       "      <th>4</th>\n",
       "      <td>CAN</td>\n",
       "      <td>2020-03-18</td>\n",
       "      <td>145.0</td>\n",
       "      <td>9370.0</td>\n",
       "    </tr>\n",
       "    <tr>\n",
       "      <th>...</th>\n",
       "      <td>...</td>\n",
       "      <td>...</td>\n",
       "      <td>...</td>\n",
       "      <td>...</td>\n",
       "    </tr>\n",
       "    <tr>\n",
       "      <th>225</th>\n",
       "      <td>CAN</td>\n",
       "      <td>2020-10-27</td>\n",
       "      <td>4109.0</td>\n",
       "      <td>80889.0</td>\n",
       "    </tr>\n",
       "    <tr>\n",
       "      <th>226</th>\n",
       "      <td>CAN</td>\n",
       "      <td>2020-10-28</td>\n",
       "      <td>2674.0</td>\n",
       "      <td>55672.0</td>\n",
       "    </tr>\n",
       "    <tr>\n",
       "      <th>227</th>\n",
       "      <td>CAN</td>\n",
       "      <td>2020-10-29</td>\n",
       "      <td>2699.0</td>\n",
       "      <td>63142.0</td>\n",
       "    </tr>\n",
       "    <tr>\n",
       "      <th>228</th>\n",
       "      <td>CAN</td>\n",
       "      <td>2020-10-30</td>\n",
       "      <td>2956.0</td>\n",
       "      <td>62843.0</td>\n",
       "    </tr>\n",
       "    <tr>\n",
       "      <th>229</th>\n",
       "      <td>CAN</td>\n",
       "      <td>2020-10-31</td>\n",
       "      <td>3457.0</td>\n",
       "      <td>65562.0</td>\n",
       "    </tr>\n",
       "  </tbody>\n",
       "</table>\n",
       "<p>230 rows × 4 columns</p>\n",
       "</div>"
      ],
      "text/plain": [
       "    iso_code        date  new_cases  new_tests\n",
       "0        CAN  2020-03-12       10.0     4162.0\n",
       "1        CAN  2020-03-15       68.0     2568.0\n",
       "2        CAN  2020-03-16       60.0    12753.0\n",
       "3        CAN  2020-03-17      120.0     6446.0\n",
       "4        CAN  2020-03-18      145.0     9370.0\n",
       "..       ...         ...        ...        ...\n",
       "225      CAN  2020-10-27     4109.0    80889.0\n",
       "226      CAN  2020-10-28     2674.0    55672.0\n",
       "227      CAN  2020-10-29     2699.0    63142.0\n",
       "228      CAN  2020-10-30     2956.0    62843.0\n",
       "229      CAN  2020-10-31     3457.0    65562.0\n",
       "\n",
       "[230 rows x 4 columns]"
      ]
     },
     "execution_count": 11,
     "metadata": {},
     "output_type": "execute_result"
    }
   ],
   "source": [
    "covid.query(\"iso_code == 'CAN' and  new_tests > 0 and date <= '2020-10-31'\").reset_index(drop=True)"
   ]
  },
  {
   "cell_type": "code",
   "execution_count": 12,
   "metadata": {},
   "outputs": [
    {
     "name": "stdout",
     "output_type": "stream",
     "text": [
      "<class 'pandas.core.frame.DataFrame'>\n",
      "Int64Index: 472 entries, 0 to 474\n",
      "Data columns (total 5 columns):\n",
      " #   Column          Non-Null Count  Dtype  \n",
      "---  ------          --------------  -----  \n",
      " 0   iso_code        472 non-null    object \n",
      " 1   date            472 non-null    object \n",
      " 2   new_cases       472 non-null    float64\n",
      " 3   new_tests       472 non-null    float64\n",
      " 4   response_ratio  472 non-null    float64\n",
      "dtypes: float64(3), object(2)\n",
      "memory usage: 22.1+ KB\n"
     ]
    }
   ],
   "source": [
    "covid_US_CAN = covid.query(\"iso_code == 'CAN' or iso_code == 'USA' \").reset_index(drop=True)\n",
    "covid_US_CAN = covid_US_CAN.query(\"new_tests > 0 and date >= '2020-03-01' and date <= '2020-10-31'\").reset_index(drop=True)\n",
    "covid_US_CAN = covid_US_CAN[covid_US_CAN.new_cases != 0]\n",
    "covid_US_CAN[\"response_ratio\"] = covid_US_CAN[\"new_tests\"] / covid_US_CAN[\"new_cases\"]\n",
    "covid_US_CAN.info()"
   ]
  },
  {
   "cell_type": "markdown",
   "metadata": {},
   "source": [
    "### 4.6 Validate with at least one external data source\n",
    "\n",
    "- We referenced another data set, [COVID-19 Community Mobility Reports](https://www.google.com/covid19/mobility/) and the data seemed to agree."
   ]
  },
  {
   "cell_type": "markdown",
   "metadata": {},
   "source": [
    "### 4.7 Make a plot."
   ]
  },
  {
   "cell_type": "code",
   "execution_count": 13,
   "metadata": {},
   "outputs": [],
   "source": [
    "covid_US_CAN['month'] = pd.DatetimeIndex(covid_US_CAN['date']).month\n",
    "\n",
    "lookup = {1:\"January\", 2:\"February\", 3:\"March\", 4:\"April\", 5:\"May\", 6:\"June\", 7:\"July\", 8:\"August\", 9:\"September\", 10:\"October\", 11:\"November\", 12:'December'}\n",
    "\n",
    "covid_US_CAN['month'] = covid_US_CAN.apply(lambda row: lookup[row.month], axis = 1)"
   ]
  },
  {
   "cell_type": "code",
   "execution_count": 14,
   "metadata": {},
   "outputs": [
    {
     "data": {
      "application/vnd.vegalite.v4+json": {
       "$schema": "https://vega.github.io/schema/vega-lite/v4.8.1.json",
       "config": {
        "view": {
         "continuousHeight": 300,
         "continuousWidth": 400
        }
       },
       "data": {
        "name": "data-a632302994f01c6456f313520eaec94d"
       },
       "datasets": {
        "data-a632302994f01c6456f313520eaec94d": [
         {
          "date": "2020-03-12",
          "iso_code": "CAN",
          "month": "March",
          "new_cases": 10,
          "new_tests": 4162,
          "response_ratio": 416.2
         },
         {
          "date": "2020-03-15",
          "iso_code": "CAN",
          "month": "March",
          "new_cases": 68,
          "new_tests": 2568,
          "response_ratio": 37.76470588235294
         },
         {
          "date": "2020-03-16",
          "iso_code": "CAN",
          "month": "March",
          "new_cases": 60,
          "new_tests": 12753,
          "response_ratio": 212.55
         },
         {
          "date": "2020-03-17",
          "iso_code": "CAN",
          "month": "March",
          "new_cases": 120,
          "new_tests": 6446,
          "response_ratio": 53.71666666666667
         },
         {
          "date": "2020-03-18",
          "iso_code": "CAN",
          "month": "March",
          "new_cases": 145,
          "new_tests": 9370,
          "response_ratio": 64.62068965517241
         },
         {
          "date": "2020-03-19",
          "iso_code": "CAN",
          "month": "March",
          "new_cases": 121,
          "new_tests": 12305,
          "response_ratio": 101.69421487603306
         },
         {
          "date": "2020-03-20",
          "iso_code": "CAN",
          "month": "March",
          "new_cases": 156,
          "new_tests": 10963,
          "response_ratio": 70.27564102564102
         },
         {
          "date": "2020-03-21",
          "iso_code": "CAN",
          "month": "March",
          "new_cases": 125,
          "new_tests": 12069,
          "response_ratio": 96.552
         },
         {
          "date": "2020-03-22",
          "iso_code": "CAN",
          "month": "March",
          "new_cases": 331,
          "new_tests": 9941,
          "response_ratio": 30.033232628398792
         },
         {
          "date": "2020-03-23",
          "iso_code": "CAN",
          "month": "March",
          "new_cases": 128,
          "new_tests": 8323,
          "response_ratio": 65.0234375
         },
         {
          "date": "2020-03-24",
          "iso_code": "CAN",
          "month": "March",
          "new_cases": 216,
          "new_tests": 17915,
          "response_ratio": 82.93981481481481
         },
         {
          "date": "2020-03-25",
          "iso_code": "CAN",
          "month": "March",
          "new_cases": 313,
          "new_tests": 22727,
          "response_ratio": 72.61022364217253
         },
         {
          "date": "2020-03-26",
          "iso_code": "CAN",
          "month": "March",
          "new_cases": 1426,
          "new_tests": 13814,
          "response_ratio": 9.687237026647967
         },
         {
          "date": "2020-03-27",
          "iso_code": "CAN",
          "month": "March",
          "new_cases": 633,
          "new_tests": 9041,
          "response_ratio": 14.282780410742497
         },
         {
          "date": "2020-03-28",
          "iso_code": "CAN",
          "month": "March",
          "new_cases": 657,
          "new_tests": 16804,
          "response_ratio": 25.576864535768646
         },
         {
          "date": "2020-03-29",
          "iso_code": "CAN",
          "month": "March",
          "new_cases": 711,
          "new_tests": 22987,
          "response_ratio": 32.33052039381153
         },
         {
          "date": "2020-03-30",
          "iso_code": "CAN",
          "month": "March",
          "new_cases": 869,
          "new_tests": 15270,
          "response_ratio": 17.57192174913694
         },
         {
          "date": "2020-03-31",
          "iso_code": "CAN",
          "month": "March",
          "new_cases": 1169,
          "new_tests": 15433,
          "response_ratio": 13.201881950384944
         },
         {
          "date": "2020-04-01",
          "iso_code": "CAN",
          "month": "April",
          "new_cases": 1112,
          "new_tests": 15795,
          "response_ratio": 14.204136690647482
         },
         {
          "date": "2020-04-02",
          "iso_code": "CAN",
          "month": "April",
          "new_cases": 1059,
          "new_tests": 16733,
          "response_ratio": 15.800755429650614
         },
         {
          "date": "2020-04-03",
          "iso_code": "CAN",
          "month": "April",
          "new_cases": 1673,
          "new_tests": 21399,
          "response_ratio": 12.790794979079498
         },
         {
          "date": "2020-04-04",
          "iso_code": "CAN",
          "month": "April",
          "new_cases": 1251,
          "new_tests": 16906,
          "response_ratio": 13.513988808952838
         },
         {
          "date": "2020-04-05",
          "iso_code": "CAN",
          "month": "April",
          "new_cases": 1363,
          "new_tests": 12820,
          "response_ratio": 9.405722670579603
         },
         {
          "date": "2020-04-06",
          "iso_code": "CAN",
          "month": "April",
          "new_cases": 1614,
          "new_tests": 12015,
          "response_ratio": 7.444237918215613
         },
         {
          "date": "2020-04-07",
          "iso_code": "CAN",
          "month": "April",
          "new_cases": 1157,
          "new_tests": 11299,
          "response_ratio": 9.765773552290407
         },
         {
          "date": "2020-04-08",
          "iso_code": "CAN",
          "month": "April",
          "new_cases": 1230,
          "new_tests": 13864,
          "response_ratio": 11.271544715447154
         },
         {
          "date": "2020-04-09",
          "iso_code": "CAN",
          "month": "April",
          "new_cases": 1391,
          "new_tests": 13333,
          "response_ratio": 9.585190510424155
         },
         {
          "date": "2020-04-10",
          "iso_code": "CAN",
          "month": "April",
          "new_cases": 1474,
          "new_tests": 16073,
          "response_ratio": 10.904341926729986
         },
         {
          "date": "2020-04-11",
          "iso_code": "CAN",
          "month": "April",
          "new_cases": 1385,
          "new_tests": 13276,
          "response_ratio": 9.585559566787003
         },
         {
          "date": "2020-04-12",
          "iso_code": "CAN",
          "month": "April",
          "new_cases": 1168,
          "new_tests": 17549,
          "response_ratio": 15.024828767123287
         },
         {
          "date": "2020-04-13",
          "iso_code": "CAN",
          "month": "April",
          "new_cases": 1064,
          "new_tests": 15275,
          "response_ratio": 14.356203007518797
         },
         {
          "date": "2020-04-14",
          "iso_code": "CAN",
          "month": "April",
          "new_cases": 1298,
          "new_tests": 17508,
          "response_ratio": 13.4884437596302
         },
         {
          "date": "2020-04-15",
          "iso_code": "CAN",
          "month": "April",
          "new_cases": 1383,
          "new_tests": 12753,
          "response_ratio": 9.221258134490238
         },
         {
          "date": "2020-04-16",
          "iso_code": "CAN",
          "month": "April",
          "new_cases": 1318,
          "new_tests": 19889,
          "response_ratio": 15.090288315629742
         },
         {
          "date": "2020-04-17",
          "iso_code": "CAN",
          "month": "April",
          "new_cases": 1717,
          "new_tests": 20076,
          "response_ratio": 11.692486895748399
         },
         {
          "date": "2020-04-18",
          "iso_code": "CAN",
          "month": "April",
          "new_cases": 1791,
          "new_tests": 20356,
          "response_ratio": 11.36571747627024
         },
         {
          "date": "2020-04-19",
          "iso_code": "CAN",
          "month": "April",
          "new_cases": 1469,
          "new_tests": 21292,
          "response_ratio": 14.49421375085092
         },
         {
          "date": "2020-04-20",
          "iso_code": "CAN",
          "month": "April",
          "new_cases": 1436,
          "new_tests": 10229,
          "response_ratio": 7.123259052924791
         },
         {
          "date": "2020-04-21",
          "iso_code": "CAN",
          "month": "April",
          "new_cases": 2046,
          "new_tests": 10300,
          "response_ratio": 5.034213098729228
         },
         {
          "date": "2020-04-22",
          "iso_code": "CAN",
          "month": "April",
          "new_cases": 1590,
          "new_tests": 42314,
          "response_ratio": 26.612578616352202
         },
         {
          "date": "2020-04-23",
          "iso_code": "CAN",
          "month": "April",
          "new_cases": 1766,
          "new_tests": 22725,
          "response_ratio": 12.86806342015855
         },
         {
          "date": "2020-04-24",
          "iso_code": "CAN",
          "month": "April",
          "new_cases": 1920,
          "new_tests": 25191,
          "response_ratio": 13.1203125
         },
         {
          "date": "2020-04-25",
          "iso_code": "CAN",
          "month": "April",
          "new_cases": 1778,
          "new_tests": 24163,
          "response_ratio": 13.589988751406075
         },
         {
          "date": "2020-04-26",
          "iso_code": "CAN",
          "month": "April",
          "new_cases": 1464,
          "new_tests": 23237,
          "response_ratio": 15.872267759562842
         },
         {
          "date": "2020-04-27",
          "iso_code": "CAN",
          "month": "April",
          "new_cases": 1543,
          "new_tests": 26197,
          "response_ratio": 16.977965003240442
         },
         {
          "date": "2020-04-28",
          "iso_code": "CAN",
          "month": "April",
          "new_cases": 1605,
          "new_tests": 21095,
          "response_ratio": 13.143302180685358
         },
         {
          "date": "2020-04-29",
          "iso_code": "CAN",
          "month": "April",
          "new_cases": 1526,
          "new_tests": 24813,
          "response_ratio": 16.260157273918743
         },
         {
          "date": "2020-04-30",
          "iso_code": "CAN",
          "month": "April",
          "new_cases": 1572,
          "new_tests": 26836,
          "response_ratio": 17.071246819338423
         },
         {
          "date": "2020-05-01",
          "iso_code": "CAN",
          "month": "May",
          "new_cases": 1649,
          "new_tests": 30472,
          "response_ratio": 18.479078229229835
         },
         {
          "date": "2020-05-02",
          "iso_code": "CAN",
          "month": "May",
          "new_cases": 1825,
          "new_tests": 29314,
          "response_ratio": 16.062465753424657
         },
         {
          "date": "2020-05-03",
          "iso_code": "CAN",
          "month": "May",
          "new_cases": 1653,
          "new_tests": 31209,
          "response_ratio": 18.88021778584392
         },
         {
          "date": "2020-05-04",
          "iso_code": "CAN",
          "month": "May",
          "new_cases": 2760,
          "new_tests": 21924,
          "response_ratio": 7.943478260869565
         },
         {
          "date": "2020-05-05",
          "iso_code": "CAN",
          "month": "May",
          "new_cases": 1298,
          "new_tests": 23234,
          "response_ratio": 17.89984591679507
         },
         {
          "date": "2020-05-06",
          "iso_code": "CAN",
          "month": "May",
          "new_cases": 1274,
          "new_tests": 31032,
          "response_ratio": 24.357927786499214
         },
         {
          "date": "2020-05-07",
          "iso_code": "CAN",
          "month": "May",
          "new_cases": 1450,
          "new_tests": 31660,
          "response_ratio": 21.83448275862069
         },
         {
          "date": "2020-05-08",
          "iso_code": "CAN",
          "month": "May",
          "new_cases": 1426,
          "new_tests": 29611,
          "response_ratio": 20.76507713884993
         },
         {
          "date": "2020-05-09",
          "iso_code": "CAN",
          "month": "May",
          "new_cases": 1512,
          "new_tests": 36550,
          "response_ratio": 24.173280423280424
         },
         {
          "date": "2020-05-10",
          "iso_code": "CAN",
          "month": "May",
          "new_cases": 1268,
          "new_tests": 26065,
          "response_ratio": 20.555993690851736
         },
         {
          "date": "2020-05-11",
          "iso_code": "CAN",
          "month": "May",
          "new_cases": 1146,
          "new_tests": 24109,
          "response_ratio": 21.037521815008727
         },
         {
          "date": "2020-05-12",
          "iso_code": "CAN",
          "month": "May",
          "new_cases": 1133,
          "new_tests": 23939,
          "response_ratio": 21.128861429832302
         },
         {
          "date": "2020-05-13",
          "iso_code": "CAN",
          "month": "May",
          "new_cases": 1176,
          "new_tests": 27304,
          "response_ratio": 23.217687074829932
         },
         {
          "date": "2020-05-14",
          "iso_code": "CAN",
          "month": "May",
          "new_cases": 1121,
          "new_tests": 30716,
          "response_ratio": 27.400535236396074
         },
         {
          "date": "2020-05-15",
          "iso_code": "CAN",
          "month": "May",
          "new_cases": 1123,
          "new_tests": 33158,
          "response_ratio": 29.526268922528942
         },
         {
          "date": "2020-05-16",
          "iso_code": "CAN",
          "month": "May",
          "new_cases": 1201,
          "new_tests": 33508,
          "response_ratio": 27.900083263946712
         },
         {
          "date": "2020-05-17",
          "iso_code": "CAN",
          "month": "May",
          "new_cases": 1251,
          "new_tests": 30475,
          "response_ratio": 24.36051159072742
         },
         {
          "date": "2020-05-18",
          "iso_code": "CAN",
          "month": "May",
          "new_cases": 1138,
          "new_tests": 22718,
          "response_ratio": 19.963093145869948
         },
         {
          "date": "2020-05-19",
          "iso_code": "CAN",
          "month": "May",
          "new_cases": 1070,
          "new_tests": 16524,
          "response_ratio": 15.442990654205607
         },
         {
          "date": "2020-05-20",
          "iso_code": "CAN",
          "month": "May",
          "new_cases": 1040,
          "new_tests": 35155,
          "response_ratio": 33.80288461538461
         },
         {
          "date": "2020-05-21",
          "iso_code": "CAN",
          "month": "May",
          "new_cases": 990,
          "new_tests": 4605,
          "response_ratio": 4.651515151515151
         },
         {
          "date": "2020-05-22",
          "iso_code": "CAN",
          "month": "May",
          "new_cases": 1222,
          "new_tests": 25553,
          "response_ratio": 20.910801963993453
         },
         {
          "date": "2020-05-23",
          "iso_code": "CAN",
          "month": "May",
          "new_cases": 1156,
          "new_tests": 26703,
          "response_ratio": 23.09948096885813
         },
         {
          "date": "2020-05-24",
          "iso_code": "CAN",
          "month": "May",
          "new_cases": 1141,
          "new_tests": 27301,
          "response_ratio": 23.927256792287466
         },
         {
          "date": "2020-05-25",
          "iso_code": "CAN",
          "month": "May",
          "new_cases": 1078,
          "new_tests": 23180,
          "response_ratio": 21.50278293135436
         },
         {
          "date": "2020-05-26",
          "iso_code": "CAN",
          "month": "May",
          "new_cases": 1012,
          "new_tests": 20522,
          "response_ratio": 20.278656126482215
         },
         {
          "date": "2020-05-27",
          "iso_code": "CAN",
          "month": "May",
          "new_cases": 936,
          "new_tests": 27941,
          "response_ratio": 29.851495726495727
         },
         {
          "date": "2020-05-28",
          "iso_code": "CAN",
          "month": "May",
          "new_cases": 872,
          "new_tests": 54304,
          "response_ratio": 62.27522935779817
         },
         {
          "date": "2020-05-29",
          "iso_code": "CAN",
          "month": "May",
          "new_cases": 993,
          "new_tests": 11214,
          "response_ratio": 11.293051359516616
         },
         {
          "date": "2020-05-30",
          "iso_code": "CAN",
          "month": "May",
          "new_cases": 906,
          "new_tests": 37828,
          "response_ratio": 41.75275938189846
         },
         {
          "date": "2020-05-31",
          "iso_code": "CAN",
          "month": "May",
          "new_cases": 772,
          "new_tests": 31554,
          "response_ratio": 40.873056994818654
         },
         {
          "date": "2020-06-01",
          "iso_code": "CAN",
          "month": "June",
          "new_cases": 757,
          "new_tests": 30087,
          "response_ratio": 39.74504623513871
         },
         {
          "date": "2020-06-02",
          "iso_code": "CAN",
          "month": "June",
          "new_cases": 758,
          "new_tests": 28332,
          "response_ratio": 37.37730870712401
         },
         {
          "date": "2020-06-03",
          "iso_code": "CAN",
          "month": "June",
          "new_cases": 705,
          "new_tests": 31676,
          "response_ratio": 44.93049645390071
         },
         {
          "date": "2020-06-04",
          "iso_code": "CAN",
          "month": "June",
          "new_cases": 675,
          "new_tests": 35180,
          "response_ratio": 52.11851851851852
         },
         {
          "date": "2020-06-05",
          "iso_code": "CAN",
          "month": "June",
          "new_cases": 641,
          "new_tests": 39392,
          "response_ratio": 61.453978159126365
         },
         {
          "date": "2020-06-06",
          "iso_code": "CAN",
          "month": "June",
          "new_cases": 609,
          "new_tests": 37779,
          "response_ratio": 62.03448275862069
         },
         {
          "date": "2020-06-07",
          "iso_code": "CAN",
          "month": "June",
          "new_cases": 722,
          "new_tests": 28545,
          "response_ratio": 39.53601108033241
         },
         {
          "date": "2020-06-08",
          "iso_code": "CAN",
          "month": "June",
          "new_cases": 642,
          "new_tests": 33319,
          "response_ratio": 51.898753894081
         },
         {
          "date": "2020-06-09",
          "iso_code": "CAN",
          "month": "June",
          "new_cases": 545,
          "new_tests": 25578,
          "response_ratio": 46.93211009174312
         },
         {
          "date": "2020-06-10",
          "iso_code": "CAN",
          "month": "June",
          "new_cases": 409,
          "new_tests": 33536,
          "response_ratio": 81.99511002444987
         },
         {
          "date": "2020-06-11",
          "iso_code": "CAN",
          "month": "June",
          "new_cases": 472,
          "new_tests": 39241,
          "response_ratio": 83.13771186440678
         },
         {
          "date": "2020-06-12",
          "iso_code": "CAN",
          "month": "June",
          "new_cases": 405,
          "new_tests": 43600,
          "response_ratio": 107.65432098765432
         },
         {
          "date": "2020-06-13",
          "iso_code": "CAN",
          "month": "June",
          "new_cases": 413,
          "new_tests": 41828,
          "response_ratio": 101.27845036319613
         },
         {
          "date": "2020-06-14",
          "iso_code": "CAN",
          "month": "June",
          "new_cases": 467,
          "new_tests": 38852,
          "response_ratio": 83.1948608137045
         },
         {
          "date": "2020-06-15",
          "iso_code": "CAN",
          "month": "June",
          "new_cases": 377,
          "new_tests": 30700,
          "response_ratio": 81.43236074270557
         },
         {
          "date": "2020-06-16",
          "iso_code": "CAN",
          "month": "June",
          "new_cases": 360,
          "new_tests": 33254,
          "response_ratio": 92.37222222222222
         },
         {
          "date": "2020-06-17",
          "iso_code": "CAN",
          "month": "June",
          "new_cases": 320,
          "new_tests": 37751,
          "response_ratio": 117.971875
         },
         {
          "date": "2020-06-18",
          "iso_code": "CAN",
          "month": "June",
          "new_cases": 386,
          "new_tests": 40959,
          "response_ratio": 106.11139896373057
         },
         {
          "date": "2020-06-19",
          "iso_code": "CAN",
          "month": "June",
          "new_cases": 367,
          "new_tests": 44123,
          "response_ratio": 120.22615803814713
         },
         {
          "date": "2020-06-20",
          "iso_code": "CAN",
          "month": "June",
          "new_cases": 409,
          "new_tests": 43218,
          "response_ratio": 105.66748166259168
         },
         {
          "date": "2020-06-21",
          "iso_code": "CAN",
          "month": "June",
          "new_cases": 390,
          "new_tests": 32660,
          "response_ratio": 83.74358974358974
         },
         {
          "date": "2020-06-22",
          "iso_code": "CAN",
          "month": "June",
          "new_cases": 318,
          "new_tests": 28677,
          "response_ratio": 90.17924528301887
         },
         {
          "date": "2020-06-23",
          "iso_code": "CAN",
          "month": "June",
          "new_cases": 311,
          "new_tests": 38751,
          "response_ratio": 124.60128617363344
         },
         {
          "date": "2020-06-24",
          "iso_code": "CAN",
          "month": "June",
          "new_cases": 326,
          "new_tests": 35781,
          "response_ratio": 109.75766871165644
         },
         {
          "date": "2020-06-25",
          "iso_code": "CAN",
          "month": "June",
          "new_cases": 279,
          "new_tests": 39713,
          "response_ratio": 142.3405017921147
         },
         {
          "date": "2020-06-26",
          "iso_code": "CAN",
          "month": "June",
          "new_cases": 369,
          "new_tests": 39880,
          "response_ratio": 108.07588075880759
         },
         {
          "date": "2020-06-27",
          "iso_code": "CAN",
          "month": "June",
          "new_cases": 172,
          "new_tests": 42072,
          "response_ratio": 244.6046511627907
         },
         {
          "date": "2020-06-28",
          "iso_code": "CAN",
          "month": "June",
          "new_cases": 238,
          "new_tests": 36390,
          "response_ratio": 152.89915966386553
         },
         {
          "date": "2020-06-29",
          "iso_code": "CAN",
          "month": "June",
          "new_cases": 218,
          "new_tests": 44980,
          "response_ratio": 206.3302752293578
         },
         {
          "date": "2020-06-30",
          "iso_code": "CAN",
          "month": "June",
          "new_cases": 668,
          "new_tests": 48468,
          "response_ratio": 72.55688622754491
         },
         {
          "date": "2020-07-03",
          "iso_code": "CAN",
          "month": "July",
          "new_cases": 567,
          "new_tests": 37502,
          "response_ratio": 66.14109347442681
         },
         {
          "date": "2020-07-04",
          "iso_code": "CAN",
          "month": "July",
          "new_cases": 319,
          "new_tests": 29208,
          "response_ratio": 91.56112852664577
         },
         {
          "date": "2020-07-05",
          "iso_code": "CAN",
          "month": "July",
          "new_cases": 226,
          "new_tests": 25971,
          "response_ratio": 114.91592920353982
         },
         {
          "date": "2020-07-06",
          "iso_code": "CAN",
          "month": "July",
          "new_cases": 219,
          "new_tests": 34786,
          "response_ratio": 158.84018264840182
         },
         {
          "date": "2020-07-07",
          "iso_code": "CAN",
          "month": "July",
          "new_cases": 399,
          "new_tests": 44461,
          "response_ratio": 111.43107769423558
         },
         {
          "date": "2020-07-08",
          "iso_code": "CAN",
          "month": "July",
          "new_cases": 232,
          "new_tests": 35169,
          "response_ratio": 151.5905172413793
         },
         {
          "date": "2020-07-09",
          "iso_code": "CAN",
          "month": "July",
          "new_cases": 267,
          "new_tests": 42852,
          "response_ratio": 160.4943820224719
         },
         {
          "date": "2020-07-10",
          "iso_code": "CAN",
          "month": "July",
          "new_cases": 371,
          "new_tests": 44509,
          "response_ratio": 119.97035040431267
         },
         {
          "date": "2020-07-11",
          "iso_code": "CAN",
          "month": "July",
          "new_cases": 321,
          "new_tests": 40814,
          "response_ratio": 127.14641744548287
         },
         {
          "date": "2020-07-12",
          "iso_code": "CAN",
          "month": "July",
          "new_cases": 221,
          "new_tests": 29363,
          "response_ratio": 132.86425339366517
         },
         {
          "date": "2020-07-13",
          "iso_code": "CAN",
          "month": "July",
          "new_cases": 244,
          "new_tests": 44729,
          "response_ratio": 183.3155737704918
         },
         {
          "date": "2020-07-14",
          "iso_code": "CAN",
          "month": "July",
          "new_cases": 565,
          "new_tests": 44875,
          "response_ratio": 79.42477876106194
         },
         {
          "date": "2020-07-15",
          "iso_code": "CAN",
          "month": "July",
          "new_cases": 331,
          "new_tests": 39410,
          "response_ratio": 119.06344410876133
         },
         {
          "date": "2020-07-16",
          "iso_code": "CAN",
          "month": "July",
          "new_cases": 341,
          "new_tests": 45862,
          "response_ratio": 134.4926686217009
         },
         {
          "date": "2020-07-17",
          "iso_code": "CAN",
          "month": "July",
          "new_cases": 437,
          "new_tests": 50286,
          "response_ratio": 115.07093821510297
         },
         {
          "date": "2020-07-18",
          "iso_code": "CAN",
          "month": "July",
          "new_cases": 405,
          "new_tests": 43763,
          "response_ratio": 108.05679012345679
         },
         {
          "date": "2020-07-20",
          "iso_code": "CAN",
          "month": "July",
          "new_cases": 680,
          "new_tests": 53088,
          "response_ratio": 78.07058823529412
         },
         {
          "date": "2020-07-21",
          "iso_code": "CAN",
          "month": "July",
          "new_cases": 775,
          "new_tests": 43098,
          "response_ratio": 55.61032258064516
         },
         {
          "date": "2020-07-22",
          "iso_code": "CAN",
          "month": "July",
          "new_cases": 571,
          "new_tests": 43050,
          "response_ratio": 75.3940455341506
         },
         {
          "date": "2020-07-23",
          "iso_code": "CAN",
          "month": "July",
          "new_cases": 543,
          "new_tests": 37544,
          "response_ratio": 69.14180478821363
         },
         {
          "date": "2020-07-24",
          "iso_code": "CAN",
          "month": "July",
          "new_cases": 432,
          "new_tests": 20161,
          "response_ratio": 46.66898148148148
         },
         {
          "date": "2020-07-25",
          "iso_code": "CAN",
          "month": "July",
          "new_cases": 534,
          "new_tests": 44444,
          "response_ratio": 83.22846441947566
         },
         {
          "date": "2020-07-26",
          "iso_code": "CAN",
          "month": "July",
          "new_cases": 350,
          "new_tests": 40023,
          "response_ratio": 114.35142857142857
         },
         {
          "date": "2020-07-27",
          "iso_code": "CAN",
          "month": "July",
          "new_cases": 355,
          "new_tests": 61880,
          "response_ratio": 174.30985915492957
         },
         {
          "date": "2020-07-28",
          "iso_code": "CAN",
          "month": "July",
          "new_cases": 699,
          "new_tests": 35362,
          "response_ratio": 50.58941344778255
         },
         {
          "date": "2020-07-29",
          "iso_code": "CAN",
          "month": "July",
          "new_cases": 383,
          "new_tests": 47373,
          "response_ratio": 123.68929503916449
         },
         {
          "date": "2020-07-30",
          "iso_code": "CAN",
          "month": "July",
          "new_cases": 476,
          "new_tests": 50060,
          "response_ratio": 105.16806722689076
         },
         {
          "date": "2020-07-31",
          "iso_code": "CAN",
          "month": "July",
          "new_cases": 329,
          "new_tests": 53733,
          "response_ratio": 163.32218844984803
         },
         {
          "date": "2020-08-01",
          "iso_code": "CAN",
          "month": "August",
          "new_cases": 513,
          "new_tests": 48394,
          "response_ratio": 94.33528265107212
         },
         {
          "date": "2020-08-02",
          "iso_code": "CAN",
          "month": "August",
          "new_cases": 287,
          "new_tests": 44707,
          "response_ratio": 155.77351916376307
         },
         {
          "date": "2020-08-03",
          "iso_code": "CAN",
          "month": "August",
          "new_cases": 285,
          "new_tests": 34736,
          "response_ratio": 121.88070175438597
         },
         {
          "date": "2020-08-04",
          "iso_code": "CAN",
          "month": "August",
          "new_cases": 147,
          "new_tests": 58326,
          "response_ratio": 396.7755102040816
         },
         {
          "date": "2020-08-05",
          "iso_code": "CAN",
          "month": "August",
          "new_cases": 760,
          "new_tests": 36085,
          "response_ratio": 47.48026315789474
         },
         {
          "date": "2020-08-06",
          "iso_code": "CAN",
          "month": "August",
          "new_cases": 395,
          "new_tests": 46566,
          "response_ratio": 117.88860759493672
         },
         {
          "date": "2020-08-07",
          "iso_code": "CAN",
          "month": "August",
          "new_cases": 374,
          "new_tests": 48036,
          "response_ratio": 128.4385026737968
         },
         {
          "date": "2020-08-08",
          "iso_code": "CAN",
          "month": "August",
          "new_cases": 424,
          "new_tests": 36830,
          "response_ratio": 86.86320754716981
         },
         {
          "date": "2020-08-09",
          "iso_code": "CAN",
          "month": "August",
          "new_cases": 236,
          "new_tests": 43772,
          "response_ratio": 185.47457627118644
         },
         {
          "date": "2020-08-10",
          "iso_code": "CAN",
          "month": "August",
          "new_cases": 245,
          "new_tests": 57408,
          "response_ratio": 234.31836734693877
         },
         {
          "date": "2020-08-11",
          "iso_code": "CAN",
          "month": "August",
          "new_cases": 666,
          "new_tests": 36529,
          "response_ratio": 54.848348348348345
         },
         {
          "date": "2020-08-12",
          "iso_code": "CAN",
          "month": "August",
          "new_cases": 289,
          "new_tests": 39336,
          "response_ratio": 136.1107266435986
         },
         {
          "date": "2020-08-13",
          "iso_code": "CAN",
          "month": "August",
          "new_cases": 423,
          "new_tests": 54022,
          "response_ratio": 127.71158392434988
         },
         {
          "date": "2020-08-14",
          "iso_code": "CAN",
          "month": "August",
          "new_cases": 405,
          "new_tests": 50558,
          "response_ratio": 124.83456790123456
         },
         {
          "date": "2020-08-15",
          "iso_code": "CAN",
          "month": "August",
          "new_cases": 418,
          "new_tests": 55483,
          "response_ratio": 132.73444976076556
         },
         {
          "date": "2020-08-16",
          "iso_code": "CAN",
          "month": "August",
          "new_cases": 237,
          "new_tests": 37214,
          "response_ratio": 157.0210970464135
         },
         {
          "date": "2020-08-17",
          "iso_code": "CAN",
          "month": "August",
          "new_cases": 198,
          "new_tests": 61683,
          "response_ratio": 311.530303030303
         },
         {
          "date": "2020-08-18",
          "iso_code": "CAN",
          "month": "August",
          "new_cases": 785,
          "new_tests": 40129,
          "response_ratio": 51.119745222929936
         },
         {
          "date": "2020-08-19",
          "iso_code": "CAN",
          "month": "August",
          "new_cases": 282,
          "new_tests": 45274,
          "response_ratio": 160.54609929078015
         },
         {
          "date": "2020-08-20",
          "iso_code": "CAN",
          "month": "August",
          "new_cases": 336,
          "new_tests": 48769,
          "response_ratio": 145.14583333333334
         },
         {
          "date": "2020-08-21",
          "iso_code": "CAN",
          "month": "August",
          "new_cases": 383,
          "new_tests": 59844,
          "response_ratio": 156.25065274151436
         },
         {
          "date": "2020-08-22",
          "iso_code": "CAN",
          "month": "August",
          "new_cases": 499,
          "new_tests": 42675,
          "response_ratio": 85.52104208416834
         },
         {
          "date": "2020-08-23",
          "iso_code": "CAN",
          "month": "August",
          "new_cases": 257,
          "new_tests": 38756,
          "response_ratio": 150.80155642023345
         },
         {
          "date": "2020-08-24",
          "iso_code": "CAN",
          "month": "August",
          "new_cases": 267,
          "new_tests": 53676,
          "response_ratio": 201.03370786516854
         },
         {
          "date": "2020-08-25",
          "iso_code": "CAN",
          "month": "August",
          "new_cases": 751,
          "new_tests": 35920,
          "response_ratio": 47.82956058588549
         },
         {
          "date": "2020-08-26",
          "iso_code": "CAN",
          "month": "August",
          "new_cases": 322,
          "new_tests": 40805,
          "response_ratio": 126.72360248447205
         },
         {
          "date": "2020-08-27",
          "iso_code": "CAN",
          "month": "August",
          "new_cases": 448,
          "new_tests": 48121,
          "response_ratio": 107.41294642857143
         },
         {
          "date": "2020-08-28",
          "iso_code": "CAN",
          "month": "August",
          "new_cases": 431,
          "new_tests": 61328,
          "response_ratio": 142.292343387471
         },
         {
          "date": "2020-08-29",
          "iso_code": "CAN",
          "month": "August",
          "new_cases": 510,
          "new_tests": 46909,
          "response_ratio": 91.97843137254903
         },
         {
          "date": "2020-08-30",
          "iso_code": "CAN",
          "month": "August",
          "new_cases": 315,
          "new_tests": 38198,
          "response_ratio": 121.26349206349207
         },
         {
          "date": "2020-08-31",
          "iso_code": "CAN",
          "month": "August",
          "new_cases": 267,
          "new_tests": 63945,
          "response_ratio": 239.4943820224719
         },
         {
          "date": "2020-09-01",
          "iso_code": "CAN",
          "month": "September",
          "new_cases": 1008,
          "new_tests": 41157,
          "response_ratio": 40.830357142857146
         },
         {
          "date": "2020-09-02",
          "iso_code": "CAN",
          "month": "September",
          "new_cases": 477,
          "new_tests": 44519,
          "response_ratio": 93.33123689727464
         },
         {
          "date": "2020-09-03",
          "iso_code": "CAN",
          "month": "September",
          "new_cases": 498,
          "new_tests": 48635,
          "response_ratio": 97.66064257028113
         },
         {
          "date": "2020-09-04",
          "iso_code": "CAN",
          "month": "September",
          "new_cases": 570,
          "new_tests": 51906,
          "response_ratio": 91.06315789473685
         },
         {
          "date": "2020-09-05",
          "iso_code": "CAN",
          "month": "September",
          "new_cases": 631,
          "new_tests": 45202,
          "response_ratio": 71.63549920760697
         },
         {
          "date": "2020-09-06",
          "iso_code": "CAN",
          "month": "September",
          "new_cases": 371,
          "new_tests": 45216,
          "response_ratio": 121.87601078167116
         },
         {
          "date": "2020-09-07",
          "iso_code": "CAN",
          "month": "September",
          "new_cases": 400,
          "new_tests": 60853,
          "response_ratio": 152.1325
         },
         {
          "date": "2020-09-08",
          "iso_code": "CAN",
          "month": "September",
          "new_cases": 247,
          "new_tests": 49241,
          "response_ratio": 199.3562753036437
         },
         {
          "date": "2020-09-09",
          "iso_code": "CAN",
          "month": "September",
          "new_cases": 1606,
          "new_tests": 38727,
          "response_ratio": 24.113947696139476
         },
         {
          "date": "2020-09-10",
          "iso_code": "CAN",
          "month": "September",
          "new_cases": 546,
          "new_tests": 49718,
          "response_ratio": 91.05860805860806
         },
         {
          "date": "2020-09-11",
          "iso_code": "CAN",
          "month": "September",
          "new_cases": 630,
          "new_tests": 66764,
          "response_ratio": 105.97460317460317
         },
         {
          "date": "2020-09-12",
          "iso_code": "CAN",
          "month": "September",
          "new_cases": 702,
          "new_tests": 22922,
          "response_ratio": 32.65242165242165
         },
         {
          "date": "2020-09-13",
          "iso_code": "CAN",
          "month": "September",
          "new_cases": 515,
          "new_tests": 85216,
          "response_ratio": 165.46796116504854
         },
         {
          "date": "2020-09-14",
          "iso_code": "CAN",
          "month": "September",
          "new_cases": 518,
          "new_tests": 80997,
          "response_ratio": 156.36486486486487
         },
         {
          "date": "2020-09-15",
          "iso_code": "CAN",
          "month": "September",
          "new_cases": 1351,
          "new_tests": 56695,
          "response_ratio": 41.96521095484826
         },
         {
          "date": "2020-09-16",
          "iso_code": "CAN",
          "month": "September",
          "new_cases": 793,
          "new_tests": 62497,
          "response_ratio": 78.8108448928121
         },
         {
          "date": "2020-09-17",
          "iso_code": "CAN",
          "month": "September",
          "new_cases": 944,
          "new_tests": 67406,
          "response_ratio": 71.40466101694915
         },
         {
          "date": "2020-09-18",
          "iso_code": "CAN",
          "month": "September",
          "new_cases": 1120,
          "new_tests": 67739,
          "response_ratio": 60.48125
         },
         {
          "date": "2020-09-19",
          "iso_code": "CAN",
          "month": "September",
          "new_cases": 1044,
          "new_tests": 64345,
          "response_ratio": 61.633141762452105
         },
         {
          "date": "2020-09-20",
          "iso_code": "CAN",
          "month": "September",
          "new_cases": 863,
          "new_tests": 64334,
          "response_ratio": 74.54692931633835
         },
         {
          "date": "2020-09-21",
          "iso_code": "CAN",
          "month": "September",
          "new_cases": 875,
          "new_tests": 80063,
          "response_ratio": 91.50057142857143
         },
         {
          "date": "2020-09-22",
          "iso_code": "CAN",
          "month": "September",
          "new_cases": 1766,
          "new_tests": 68438,
          "response_ratio": 38.75311438278596
         },
         {
          "date": "2020-09-23",
          "iso_code": "CAN",
          "month": "September",
          "new_cases": 1248,
          "new_tests": 66679,
          "response_ratio": 53.4286858974359
         },
         {
          "date": "2020-09-24",
          "iso_code": "CAN",
          "month": "September",
          "new_cases": 1090,
          "new_tests": 67590,
          "response_ratio": 62.00917431192661
         },
         {
          "date": "2020-09-25",
          "iso_code": "CAN",
          "month": "September",
          "new_cases": 1341,
          "new_tests": 77991,
          "response_ratio": 58.15883668903803
         },
         {
          "date": "2020-09-26",
          "iso_code": "CAN",
          "month": "September",
          "new_cases": 1362,
          "new_tests": 70216,
          "response_ratio": 51.55359765051395
         },
         {
          "date": "2020-09-27",
          "iso_code": "CAN",
          "month": "September",
          "new_cases": 1215,
          "new_tests": 68251,
          "response_ratio": 56.17366255144033
         },
         {
          "date": "2020-09-28",
          "iso_code": "CAN",
          "month": "September",
          "new_cases": 1454,
          "new_tests": 102399,
          "response_ratio": 70.42572214580467
         },
         {
          "date": "2020-09-29",
          "iso_code": "CAN",
          "month": "September",
          "new_cases": 2176,
          "new_tests": 74916,
          "response_ratio": 34.42830882352941
         },
         {
          "date": "2020-09-30",
          "iso_code": "CAN",
          "month": "September",
          "new_cases": 1660,
          "new_tests": 60936,
          "response_ratio": 36.70843373493976
         },
         {
          "date": "2020-10-01",
          "iso_code": "CAN",
          "month": "October",
          "new_cases": 1797,
          "new_tests": 67092,
          "response_ratio": 37.335559265442406
         },
         {
          "date": "2020-10-02",
          "iso_code": "CAN",
          "month": "October",
          "new_cases": 1777,
          "new_tests": 67153,
          "response_ratio": 37.79009566685425
         },
         {
          "date": "2020-10-03",
          "iso_code": "CAN",
          "month": "October",
          "new_cases": 2124,
          "new_tests": 73410,
          "response_ratio": 34.56214689265537
         },
         {
          "date": "2020-10-04",
          "iso_code": "CAN",
          "month": "October",
          "new_cases": 1812,
          "new_tests": 62178,
          "response_ratio": 34.31456953642384
         },
         {
          "date": "2020-10-05",
          "iso_code": "CAN",
          "month": "October",
          "new_cases": 1685,
          "new_tests": 69466,
          "response_ratio": 41.22611275964392
         },
         {
          "date": "2020-10-06",
          "iso_code": "CAN",
          "month": "October",
          "new_cases": 2804,
          "new_tests": 129972,
          "response_ratio": 46.352353780313834
         },
         {
          "date": "2020-10-07",
          "iso_code": "CAN",
          "month": "October",
          "new_cases": 2363,
          "new_tests": 74025,
          "response_ratio": 31.326703343207786
         },
         {
          "date": "2020-10-08",
          "iso_code": "CAN",
          "month": "October",
          "new_cases": 1800,
          "new_tests": 85326,
          "response_ratio": 47.403333333333336
         },
         {
          "date": "2020-10-09",
          "iso_code": "CAN",
          "month": "October",
          "new_cases": 2436,
          "new_tests": 87736,
          "response_ratio": 36.016420361247945
         },
         {
          "date": "2020-10-10",
          "iso_code": "CAN",
          "month": "October",
          "new_cases": 2558,
          "new_tests": 78627,
          "response_ratio": 30.737685691946833
         },
         {
          "date": "2020-10-13",
          "iso_code": "CAN",
          "month": "October",
          "new_cases": 4722,
          "new_tests": 84667,
          "response_ratio": 17.930326132994495
         },
         {
          "date": "2020-10-14",
          "iso_code": "CAN",
          "month": "October",
          "new_cases": 4042,
          "new_tests": 91958,
          "response_ratio": 22.75061850569025
         },
         {
          "date": "2020-10-15",
          "iso_code": "CAN",
          "month": "October",
          "new_cases": 2506,
          "new_tests": 50075,
          "response_ratio": 19.982043096568237
         },
         {
          "date": "2020-10-16",
          "iso_code": "CAN",
          "month": "October",
          "new_cases": 2345,
          "new_tests": 88631,
          "response_ratio": 37.79573560767591
         },
         {
          "date": "2020-10-17",
          "iso_code": "CAN",
          "month": "October",
          "new_cases": 2374,
          "new_tests": 67055,
          "response_ratio": 28.24557708508846
         },
         {
          "date": "2020-10-18",
          "iso_code": "CAN",
          "month": "October",
          "new_cases": 2215,
          "new_tests": 54435,
          "response_ratio": 24.575620767494357
         },
         {
          "date": "2020-10-19",
          "iso_code": "CAN",
          "month": "October",
          "new_cases": 1827,
          "new_tests": 72369,
          "response_ratio": 39.610837438423644
         },
         {
          "date": "2020-10-20",
          "iso_code": "CAN",
          "month": "October",
          "new_cases": 3289,
          "new_tests": 59988,
          "response_ratio": 18.238978412891456
         },
         {
          "date": "2020-10-21",
          "iso_code": "CAN",
          "month": "October",
          "new_cases": 2251,
          "new_tests": 60847,
          "response_ratio": 27.031097290093292
         },
         {
          "date": "2020-10-22",
          "iso_code": "CAN",
          "month": "October",
          "new_cases": 2672,
          "new_tests": 69082,
          "response_ratio": 25.854041916167663
         },
         {
          "date": "2020-10-23",
          "iso_code": "CAN",
          "month": "October",
          "new_cases": 2788,
          "new_tests": 72993,
          "response_ratio": 26.181133428981347
         },
         {
          "date": "2020-10-24",
          "iso_code": "CAN",
          "month": "October",
          "new_cases": 2584,
          "new_tests": 60234,
          "response_ratio": 23.310371517027864
         },
         {
          "date": "2020-10-25",
          "iso_code": "CAN",
          "month": "October",
          "new_cases": 2227,
          "new_tests": 51008,
          "response_ratio": 22.904355635383926
         },
         {
          "date": "2020-10-26",
          "iso_code": "CAN",
          "month": "October",
          "new_cases": 2145,
          "new_tests": 47398,
          "response_ratio": 22.096969696969698
         },
         {
          "date": "2020-10-27",
          "iso_code": "CAN",
          "month": "October",
          "new_cases": 4109,
          "new_tests": 80889,
          "response_ratio": 19.68581163300073
         },
         {
          "date": "2020-10-28",
          "iso_code": "CAN",
          "month": "October",
          "new_cases": 2674,
          "new_tests": 55672,
          "response_ratio": 20.81974569932685
         },
         {
          "date": "2020-10-29",
          "iso_code": "CAN",
          "month": "October",
          "new_cases": 2699,
          "new_tests": 63142,
          "response_ratio": 23.394590589107075
         },
         {
          "date": "2020-10-30",
          "iso_code": "CAN",
          "month": "October",
          "new_cases": 2956,
          "new_tests": 62843,
          "response_ratio": 21.259472259810554
         },
         {
          "date": "2020-10-31",
          "iso_code": "CAN",
          "month": "October",
          "new_cases": 3457,
          "new_tests": 65562,
          "response_ratio": 18.964998553659242
         },
         {
          "date": "2020-03-01",
          "iso_code": "USA",
          "month": "March",
          "new_cases": 3,
          "new_tests": 183,
          "response_ratio": 61
         },
         {
          "date": "2020-03-02",
          "iso_code": "USA",
          "month": "March",
          "new_cases": 20,
          "new_tests": 455,
          "response_ratio": 22.75
         },
         {
          "date": "2020-03-03",
          "iso_code": "USA",
          "month": "March",
          "new_cases": 14,
          "new_tests": 806,
          "response_ratio": 57.57142857142857
         },
         {
          "date": "2020-03-04",
          "iso_code": "USA",
          "month": "March",
          "new_cases": 22,
          "new_tests": 901,
          "response_ratio": 40.95454545454545
         },
         {
          "date": "2020-03-05",
          "iso_code": "USA",
          "month": "March",
          "new_cases": 34,
          "new_tests": 1150,
          "response_ratio": 33.8235294117647
         },
         {
          "date": "2020-03-06",
          "iso_code": "USA",
          "month": "March",
          "new_cases": 74,
          "new_tests": 1512,
          "response_ratio": 20.43243243243243
         },
         {
          "date": "2020-03-07",
          "iso_code": "USA",
          "month": "March",
          "new_cases": 105,
          "new_tests": 1796,
          "response_ratio": 17.104761904761904
         },
         {
          "date": "2020-03-08",
          "iso_code": "USA",
          "month": "March",
          "new_cases": 95,
          "new_tests": 1576,
          "response_ratio": 16.589473684210525
         },
         {
          "date": "2020-03-09",
          "iso_code": "USA",
          "month": "March",
          "new_cases": 121,
          "new_tests": 2197,
          "response_ratio": 18.15702479338843
         },
         {
          "date": "2020-03-10",
          "iso_code": "USA",
          "month": "March",
          "new_cases": 200,
          "new_tests": 3155,
          "response_ratio": 15.775
         },
         {
          "date": "2020-03-11",
          "iso_code": "USA",
          "month": "March",
          "new_cases": 271,
          "new_tests": 4473,
          "response_ratio": 16.505535055350553
         },
         {
          "date": "2020-03-12",
          "iso_code": "USA",
          "month": "March",
          "new_cases": 287,
          "new_tests": 8480,
          "response_ratio": 29.54703832752613
         },
         {
          "date": "2020-03-13",
          "iso_code": "USA",
          "month": "March",
          "new_cases": 351,
          "new_tests": 11116,
          "response_ratio": 31.66951566951567
         },
         {
          "date": "2020-03-14",
          "iso_code": "USA",
          "month": "March",
          "new_cases": 511,
          "new_tests": 12494,
          "response_ratio": 24.450097847358123
         },
         {
          "date": "2020-03-15",
          "iso_code": "USA",
          "month": "March",
          "new_cases": 777,
          "new_tests": 13561,
          "response_ratio": 17.453024453024454
         },
         {
          "date": "2020-03-16",
          "iso_code": "USA",
          "month": "March",
          "new_cases": 823,
          "new_tests": 25460,
          "response_ratio": 30.935601458080196
         },
         {
          "date": "2020-03-17",
          "iso_code": "USA",
          "month": "March",
          "new_cases": 887,
          "new_tests": 38567,
          "response_ratio": 43.48027057497182
         },
         {
          "date": "2020-03-18",
          "iso_code": "USA",
          "month": "March",
          "new_cases": 1766,
          "new_tests": 49956,
          "response_ratio": 28.2876557191393
         },
         {
          "date": "2020-03-19",
          "iso_code": "USA",
          "month": "March",
          "new_cases": 2988,
          "new_tests": 60235,
          "response_ratio": 20.15896921017403
         },
         {
          "date": "2020-03-20",
          "iso_code": "USA",
          "month": "March",
          "new_cases": 4835,
          "new_tests": 74656,
          "response_ratio": 15.440744570837643
         },
         {
          "date": "2020-03-21",
          "iso_code": "USA",
          "month": "March",
          "new_cases": 5374,
          "new_tests": 74713,
          "response_ratio": 13.902679568291775
         },
         {
          "date": "2020-03-22",
          "iso_code": "USA",
          "month": "March",
          "new_cases": 7123,
          "new_tests": 72154,
          "response_ratio": 10.129720623332865
         },
         {
          "date": "2020-03-23",
          "iso_code": "USA",
          "month": "March",
          "new_cases": 8459,
          "new_tests": 77430,
          "response_ratio": 9.15356425109351
         },
         {
          "date": "2020-03-24",
          "iso_code": "USA",
          "month": "March",
          "new_cases": 11236,
          "new_tests": 102387,
          "response_ratio": 9.112406550373798
         },
         {
          "date": "2020-03-25",
          "iso_code": "USA",
          "month": "March",
          "new_cases": 8789,
          "new_tests": 111338,
          "response_ratio": 12.667880304926612
         },
         {
          "date": "2020-03-26",
          "iso_code": "USA",
          "month": "March",
          "new_cases": 13963,
          "new_tests": 125583,
          "response_ratio": 8.99398410083793
         },
         {
          "date": "2020-03-27",
          "iso_code": "USA",
          "month": "March",
          "new_cases": 16797,
          "new_tests": 132328,
          "response_ratio": 7.878073465499791
         },
         {
          "date": "2020-03-28",
          "iso_code": "USA",
          "month": "March",
          "new_cases": 18695,
          "new_tests": 120806,
          "response_ratio": 6.4619416956405455
         },
         {
          "date": "2020-03-29",
          "iso_code": "USA",
          "month": "March",
          "new_cases": 19979,
          "new_tests": 109432,
          "response_ratio": 5.477351218779718
         },
         {
          "date": "2020-03-30",
          "iso_code": "USA",
          "month": "March",
          "new_cases": 18360,
          "new_tests": 119573,
          "response_ratio": 6.512690631808279
         },
         {
          "date": "2020-03-31",
          "iso_code": "USA",
          "month": "March",
          "new_cases": 21595,
          "new_tests": 138914,
          "response_ratio": 6.4326927529520725
         },
         {
          "date": "2020-04-01",
          "iso_code": "USA",
          "month": "April",
          "new_cases": 24998,
          "new_tests": 150264,
          "response_ratio": 6.011040883270661
         },
         {
          "date": "2020-04-02",
          "iso_code": "USA",
          "month": "April",
          "new_cases": 27103,
          "new_tests": 158361,
          "response_ratio": 5.842932516695568
         },
         {
          "date": "2020-04-03",
          "iso_code": "USA",
          "month": "April",
          "new_cases": 28819,
          "new_tests": 166031,
          "response_ratio": 5.761164509524966
         },
         {
          "date": "2020-04-04",
          "iso_code": "USA",
          "month": "April",
          "new_cases": 32425,
          "new_tests": 147345,
          "response_ratio": 4.544178874325366
         },
         {
          "date": "2020-04-05",
          "iso_code": "USA",
          "month": "April",
          "new_cases": 34272,
          "new_tests": 138675,
          "response_ratio": 4.046306022408964
         },
         {
          "date": "2020-04-06",
          "iso_code": "USA",
          "month": "April",
          "new_cases": 25398,
          "new_tests": 139950,
          "response_ratio": 5.510276399716513
         },
         {
          "date": "2020-04-07",
          "iso_code": "USA",
          "month": "April",
          "new_cases": 30561,
          "new_tests": 176956,
          "response_ratio": 5.79025555446484
         },
         {
          "date": "2020-04-08",
          "iso_code": "USA",
          "month": "April",
          "new_cases": 30613,
          "new_tests": 164458,
          "response_ratio": 5.3721621533335515
         },
         {
          "date": "2020-04-09",
          "iso_code": "USA",
          "month": "April",
          "new_cases": 33323,
          "new_tests": 170853,
          "response_ratio": 5.127179425621943
         },
         {
          "date": "2020-04-10",
          "iso_code": "USA",
          "month": "April",
          "new_cases": 33901,
          "new_tests": 175635,
          "response_ratio": 5.180820624760331
         },
         {
          "date": "2020-04-11",
          "iso_code": "USA",
          "month": "April",
          "new_cases": 35527,
          "new_tests": 212860,
          "response_ratio": 5.991499422974076
         },
         {
          "date": "2020-04-12",
          "iso_code": "USA",
          "month": "April",
          "new_cases": 28391,
          "new_tests": 112127,
          "response_ratio": 3.949385368602726
         },
         {
          "date": "2020-04-13",
          "iso_code": "USA",
          "month": "April",
          "new_cases": 27620,
          "new_tests": 113127,
          "response_ratio": 4.095836350470673
         },
         {
          "date": "2020-04-14",
          "iso_code": "USA",
          "month": "April",
          "new_cases": 25023,
          "new_tests": 159252,
          "response_ratio": 6.364224913079966
         },
         {
          "date": "2020-04-15",
          "iso_code": "USA",
          "month": "April",
          "new_cases": 26922,
          "new_tests": 169471,
          "response_ratio": 6.29488893841468
         },
         {
          "date": "2020-04-16",
          "iso_code": "USA",
          "month": "April",
          "new_cases": 30148,
          "new_tests": 181414,
          "response_ratio": 6.017447260183097
         },
         {
          "date": "2020-04-17",
          "iso_code": "USA",
          "month": "April",
          "new_cases": 31667,
          "new_tests": 195278,
          "response_ratio": 6.166608772539236
         },
         {
          "date": "2020-04-18",
          "iso_code": "USA",
          "month": "April",
          "new_cases": 30833,
          "new_tests": 164727,
          "response_ratio": 5.34255505464924
         },
         {
          "date": "2020-04-19",
          "iso_code": "USA",
          "month": "April",
          "new_cases": 32922,
          "new_tests": 136457,
          "response_ratio": 4.144857542069133
         },
         {
          "date": "2020-04-20",
          "iso_code": "USA",
          "month": "April",
          "new_cases": 24601,
          "new_tests": 157951,
          "response_ratio": 6.420511361326775
         },
         {
          "date": "2020-04-21",
          "iso_code": "USA",
          "month": "April",
          "new_cases": 28065,
          "new_tests": 227028,
          "response_ratio": 8.089363976483163
         },
         {
          "date": "2020-04-22",
          "iso_code": "USA",
          "month": "April",
          "new_cases": 37289,
          "new_tests": 231269,
          "response_ratio": 6.202070315642683
         },
         {
          "date": "2020-04-23",
          "iso_code": "USA",
          "month": "April",
          "new_cases": 17588,
          "new_tests": 227958,
          "response_ratio": 12.96099613372754
         },
         {
          "date": "2020-04-24",
          "iso_code": "USA",
          "month": "April",
          "new_cases": 26543,
          "new_tests": 264020,
          "response_ratio": 9.94687864973816
         },
         {
          "date": "2020-04-25",
          "iso_code": "USA",
          "month": "April",
          "new_cases": 21352,
          "new_tests": 218010,
          "response_ratio": 10.210284750843012
         },
         {
          "date": "2020-04-26",
          "iso_code": "USA",
          "month": "April",
          "new_cases": 48529,
          "new_tests": 172014,
          "response_ratio": 3.544560984153805
         },
         {
          "date": "2020-04-27",
          "iso_code": "USA",
          "month": "April",
          "new_cases": 26857,
          "new_tests": 223362,
          "response_ratio": 8.31671445060878
         },
         {
          "date": "2020-04-28",
          "iso_code": "USA",
          "month": "April",
          "new_cases": 22541,
          "new_tests": 265732,
          "response_ratio": 11.788829244487822
         },
         {
          "date": "2020-04-29",
          "iso_code": "USA",
          "month": "April",
          "new_cases": 24132,
          "new_tests": 293574,
          "response_ratio": 12.165340626553954
         },
         {
          "date": "2020-04-30",
          "iso_code": "USA",
          "month": "April",
          "new_cases": 27326,
          "new_tests": 317256,
          "response_ratio": 11.610041718509844
         },
         {
          "date": "2020-05-01",
          "iso_code": "USA",
          "month": "May",
          "new_cases": 29917,
          "new_tests": 332735,
          "response_ratio": 11.121937360029415
         },
         {
          "date": "2020-05-02",
          "iso_code": "USA",
          "month": "May",
          "new_cases": 33955,
          "new_tests": 266000,
          "response_ratio": 7.8338978059196
         },
         {
          "date": "2020-05-03",
          "iso_code": "USA",
          "month": "May",
          "new_cases": 29288,
          "new_tests": 208041,
          "response_ratio": 7.103284621688063
         },
         {
          "date": "2020-05-04",
          "iso_code": "USA",
          "month": "May",
          "new_cases": 24972,
          "new_tests": 248318,
          "response_ratio": 9.943857119974371
         },
         {
          "date": "2020-05-05",
          "iso_code": "USA",
          "month": "May",
          "new_cases": 22593,
          "new_tests": 313539,
          "response_ratio": 13.877705483999469
         },
         {
          "date": "2020-05-06",
          "iso_code": "USA",
          "month": "May",
          "new_cases": 23841,
          "new_tests": 353489,
          "response_ratio": 14.826936789564195
         },
         {
          "date": "2020-05-07",
          "iso_code": "USA",
          "month": "May",
          "new_cases": 24128,
          "new_tests": 359964,
          "response_ratio": 14.918932360742705
         },
         {
          "date": "2020-05-08",
          "iso_code": "USA",
          "month": "May",
          "new_cases": 28369,
          "new_tests": 397396,
          "response_ratio": 14.008107441221052
         },
         {
          "date": "2020-05-09",
          "iso_code": "USA",
          "month": "May",
          "new_cases": 26957,
          "new_tests": 332511,
          "response_ratio": 12.334866639462849
         },
         {
          "date": "2020-05-10",
          "iso_code": "USA",
          "month": "May",
          "new_cases": 25612,
          "new_tests": 247843,
          "response_ratio": 9.67683117288771
         },
         {
          "date": "2020-05-11",
          "iso_code": "USA",
          "month": "May",
          "new_cases": 20258,
          "new_tests": 316497,
          "response_ratio": 15.623309309902261
         },
         {
          "date": "2020-05-12",
          "iso_code": "USA",
          "month": "May",
          "new_cases": 18117,
          "new_tests": 412791,
          "response_ratio": 22.784732571617816
         },
         {
          "date": "2020-05-13",
          "iso_code": "USA",
          "month": "May",
          "new_cases": 22048,
          "new_tests": 440998,
          "response_ratio": 20.00172351233672
         },
         {
          "date": "2020-05-14",
          "iso_code": "USA",
          "month": "May",
          "new_cases": 20782,
          "new_tests": 446472,
          "response_ratio": 21.483591569627563
         },
         {
          "date": "2020-05-15",
          "iso_code": "USA",
          "month": "May",
          "new_cases": 27143,
          "new_tests": 443411,
          "response_ratio": 16.33610875732233
         },
         {
          "date": "2020-05-16",
          "iso_code": "USA",
          "month": "May",
          "new_cases": 25508,
          "new_tests": 361609,
          "response_ratio": 14.176297632115414
         },
         {
          "date": "2020-05-17",
          "iso_code": "USA",
          "month": "May",
          "new_cases": 24487,
          "new_tests": 306160,
          "response_ratio": 12.50296075468616
         },
         {
          "date": "2020-05-18",
          "iso_code": "USA",
          "month": "May",
          "new_cases": 18873,
          "new_tests": 348997,
          "response_ratio": 18.491866687860966
         },
         {
          "date": "2020-05-19",
          "iso_code": "USA",
          "month": "May",
          "new_cases": 21841,
          "new_tests": 423783,
          "response_ratio": 19.403095096378372
         },
         {
          "date": "2020-05-20",
          "iso_code": "USA",
          "month": "May",
          "new_cases": 19970,
          "new_tests": 455383,
          "response_ratio": 22.803355032548822
         },
         {
          "date": "2020-05-21",
          "iso_code": "USA",
          "month": "May",
          "new_cases": 23285,
          "new_tests": 458778,
          "response_ratio": 19.702727077517714
         },
         {
          "date": "2020-05-22",
          "iso_code": "USA",
          "month": "May",
          "new_cases": 25434,
          "new_tests": 487703,
          "response_ratio": 19.175237870566956
         },
         {
          "date": "2020-05-23",
          "iso_code": "USA",
          "month": "May",
          "new_cases": 24147,
          "new_tests": 387524,
          "response_ratio": 16.048536050026918
         },
         {
          "date": "2020-05-24",
          "iso_code": "USA",
          "month": "May",
          "new_cases": 21236,
          "new_tests": 345449,
          "response_ratio": 16.26714070446412
         },
         {
          "date": "2020-05-25",
          "iso_code": "USA",
          "month": "May",
          "new_cases": 20568,
          "new_tests": 334647,
          "response_ratio": 16.27027421236873
         },
         {
          "date": "2020-05-26",
          "iso_code": "USA",
          "month": "May",
          "new_cases": 19064,
          "new_tests": 456988,
          "response_ratio": 23.971254720939992
         },
         {
          "date": "2020-05-27",
          "iso_code": "USA",
          "month": "May",
          "new_cases": 18910,
          "new_tests": 546568,
          "response_ratio": 28.903648863035432
         },
         {
          "date": "2020-05-28",
          "iso_code": "USA",
          "month": "May",
          "new_cases": 18721,
          "new_tests": 530605,
          "response_ratio": 28.342770151167137
         },
         {
          "date": "2020-05-29",
          "iso_code": "USA",
          "month": "May",
          "new_cases": 21817,
          "new_tests": 538211,
          "response_ratio": 24.669340422606226
         },
         {
          "date": "2020-05-30",
          "iso_code": "USA",
          "month": "May",
          "new_cases": 25337,
          "new_tests": 454354,
          "response_ratio": 17.932430832379524
         },
         {
          "date": "2020-05-31",
          "iso_code": "USA",
          "month": "May",
          "new_cases": 23297,
          "new_tests": 376990,
          "response_ratio": 16.181911834141737
         },
         {
          "date": "2020-06-01",
          "iso_code": "USA",
          "month": "June",
          "new_cases": 19807,
          "new_tests": 439251,
          "response_ratio": 22.17655374362599
         },
         {
          "date": "2020-06-02",
          "iso_code": "USA",
          "month": "June",
          "new_cases": 21086,
          "new_tests": 520170,
          "response_ratio": 24.668974675139903
         },
         {
          "date": "2020-06-03",
          "iso_code": "USA",
          "month": "June",
          "new_cases": 20544,
          "new_tests": 584939,
          "response_ratio": 28.4724980529595
         },
         {
          "date": "2020-06-04",
          "iso_code": "USA",
          "month": "June",
          "new_cases": 19699,
          "new_tests": 620391,
          "response_ratio": 31.493527590233008
         },
         {
          "date": "2020-06-05",
          "iso_code": "USA",
          "month": "June",
          "new_cases": 21140,
          "new_tests": 577302,
          "response_ratio": 27.308514664143804
         },
         {
          "date": "2020-06-06",
          "iso_code": "USA",
          "month": "June",
          "new_cases": 25178,
          "new_tests": 470889,
          "response_ratio": 18.702398919691795
         },
         {
          "date": "2020-06-07",
          "iso_code": "USA",
          "month": "June",
          "new_cases": 22223,
          "new_tests": 410419,
          "response_ratio": 18.468208612698554
         },
         {
          "date": "2020-06-08",
          "iso_code": "USA",
          "month": "June",
          "new_cases": 22302,
          "new_tests": 451791,
          "response_ratio": 20.257869249394673
         },
         {
          "date": "2020-06-09",
          "iso_code": "USA",
          "month": "June",
          "new_cases": 18822,
          "new_tests": 557813,
          "response_ratio": 29.63622356816491
         },
         {
          "date": "2020-06-10",
          "iso_code": "USA",
          "month": "June",
          "new_cases": 18665,
          "new_tests": 626221,
          "response_ratio": 33.55054915617466
         },
         {
          "date": "2020-06-11",
          "iso_code": "USA",
          "month": "June",
          "new_cases": 20614,
          "new_tests": 613138,
          "response_ratio": 29.74376637236829
         },
         {
          "date": "2020-06-12",
          "iso_code": "USA",
          "month": "June",
          "new_cases": 22883,
          "new_tests": 618110,
          "response_ratio": 27.011755451645325
         },
         {
          "date": "2020-06-13",
          "iso_code": "USA",
          "month": "June",
          "new_cases": 25639,
          "new_tests": 534017,
          "response_ratio": 20.828308436366473
         },
         {
          "date": "2020-06-14",
          "iso_code": "USA",
          "month": "June",
          "new_cases": 25540,
          "new_tests": 418156,
          "response_ratio": 16.372592012529367
         },
         {
          "date": "2020-06-15",
          "iso_code": "USA",
          "month": "June",
          "new_cases": 19543,
          "new_tests": 507582,
          "response_ratio": 25.972573299902777
         },
         {
          "date": "2020-06-16",
          "iso_code": "USA",
          "month": "June",
          "new_cases": 19957,
          "new_tests": 667944,
          "response_ratio": 33.46915869118605
         },
         {
          "date": "2020-06-17",
          "iso_code": "USA",
          "month": "June",
          "new_cases": 23705,
          "new_tests": 700878,
          "response_ratio": 29.566673697532167
         },
         {
          "date": "2020-06-18",
          "iso_code": "USA",
          "month": "June",
          "new_cases": 25559,
          "new_tests": 704907,
          "response_ratio": 27.57960014085058
         },
         {
          "date": "2020-06-19",
          "iso_code": "USA",
          "month": "June",
          "new_cases": 27762,
          "new_tests": 706547,
          "response_ratio": 25.450147683884445
         },
         {
          "date": "2020-06-20",
          "iso_code": "USA",
          "month": "June",
          "new_cases": 29909,
          "new_tests": 585021,
          "response_ratio": 19.560032097361997
         },
         {
          "date": "2020-06-21",
          "iso_code": "USA",
          "month": "June",
          "new_cases": 34158,
          "new_tests": 428262,
          "response_ratio": 12.537677849991217
         },
         {
          "date": "2020-06-22",
          "iso_code": "USA",
          "month": "June",
          "new_cases": 25793,
          "new_tests": 549579,
          "response_ratio": 21.307292676307526
         },
         {
          "date": "2020-06-23",
          "iso_code": "USA",
          "month": "June",
          "new_cases": 31390,
          "new_tests": 695859,
          "response_ratio": 22.168174577891048
         },
         {
          "date": "2020-06-24",
          "iso_code": "USA",
          "month": "June",
          "new_cases": 34720,
          "new_tests": 756456,
          "response_ratio": 21.787327188940093
         },
         {
          "date": "2020-06-25",
          "iso_code": "USA",
          "month": "June",
          "new_cases": 34339,
          "new_tests": 771165,
          "response_ratio": 22.4574099420484
         },
         {
          "date": "2020-06-26",
          "iso_code": "USA",
          "month": "June",
          "new_cases": 40949,
          "new_tests": 807810,
          "response_ratio": 19.72722166597475
         },
         {
          "date": "2020-06-27",
          "iso_code": "USA",
          "month": "June",
          "new_cases": 45527,
          "new_tests": 698442,
          "response_ratio": 15.341270015595141
         },
         {
          "date": "2020-06-28",
          "iso_code": "USA",
          "month": "June",
          "new_cases": 42486,
          "new_tests": 573808,
          "response_ratio": 13.505813679800404
         },
         {
          "date": "2020-06-29",
          "iso_code": "USA",
          "month": "June",
          "new_cases": 38673,
          "new_tests": 660500,
          "response_ratio": 17.079099113076307
         },
         {
          "date": "2020-06-30",
          "iso_code": "USA",
          "month": "June",
          "new_cases": 41556,
          "new_tests": 844829,
          "response_ratio": 20.329892193666378
         },
         {
          "date": "2020-07-01",
          "iso_code": "USA",
          "month": "July",
          "new_cases": 43880,
          "new_tests": 874574,
          "response_ratio": 19.931039197812215
         },
         {
          "date": "2020-07-02",
          "iso_code": "USA",
          "month": "July",
          "new_cases": 52048,
          "new_tests": 847486,
          "response_ratio": 16.282777436212726
         },
         {
          "date": "2020-07-03",
          "iso_code": "USA",
          "month": "July",
          "new_cases": 53399,
          "new_tests": 786497,
          "response_ratio": 14.72868405775389
         },
         {
          "date": "2020-07-04",
          "iso_code": "USA",
          "month": "July",
          "new_cases": 54442,
          "new_tests": 619113,
          "response_ratio": 11.371973843723596
         },
         {
          "date": "2020-07-05",
          "iso_code": "USA",
          "month": "July",
          "new_cases": 45221,
          "new_tests": 526700,
          "response_ratio": 11.647243537294619
         },
         {
          "date": "2020-07-06",
          "iso_code": "USA",
          "month": "July",
          "new_cases": 49093,
          "new_tests": 710130,
          "response_ratio": 14.464995009471819
         },
         {
          "date": "2020-07-07",
          "iso_code": "USA",
          "month": "July",
          "new_cases": 49990,
          "new_tests": 881371,
          "response_ratio": 17.630946189237847
         },
         {
          "date": "2020-07-08",
          "iso_code": "USA",
          "month": "July",
          "new_cases": 57473,
          "new_tests": 964021,
          "response_ratio": 16.773458841542986
         },
         {
          "date": "2020-07-09",
          "iso_code": "USA",
          "month": "July",
          "new_cases": 58906,
          "new_tests": 989934,
          "response_ratio": 16.80531694564221
         },
         {
          "date": "2020-07-10",
          "iso_code": "USA",
          "month": "July",
          "new_cases": 63004,
          "new_tests": 994165,
          "response_ratio": 15.779394959050219
         },
         {
          "date": "2020-07-11",
          "iso_code": "USA",
          "month": "July",
          "new_cases": 66625,
          "new_tests": 830062,
          "response_ratio": 12.458716697936211
         },
         {
          "date": "2020-07-12",
          "iso_code": "USA",
          "month": "July",
          "new_cases": 63051,
          "new_tests": 690948,
          "response_ratio": 10.958557358328973
         },
         {
          "date": "2020-07-13",
          "iso_code": "USA",
          "month": "July",
          "new_cases": 57258,
          "new_tests": 853885,
          "response_ratio": 14.912937930070907
         },
         {
          "date": "2020-07-14",
          "iso_code": "USA",
          "month": "July",
          "new_cases": 58114,
          "new_tests": 977906,
          "response_ratio": 16.827373782565303
         },
         {
          "date": "2020-07-15",
          "iso_code": "USA",
          "month": "July",
          "new_cases": 68518,
          "new_tests": 1014480,
          "response_ratio": 14.806036370004962
         },
         {
          "date": "2020-07-16",
          "iso_code": "USA",
          "month": "July",
          "new_cases": 67717,
          "new_tests": 1011647,
          "response_ratio": 14.939335765022077
         },
         {
          "date": "2020-07-17",
          "iso_code": "USA",
          "month": "July",
          "new_cases": 76930,
          "new_tests": 1033416,
          "response_ratio": 13.433199012088911
         },
         {
          "date": "2020-07-18",
          "iso_code": "USA",
          "month": "July",
          "new_cases": 71494,
          "new_tests": 894315,
          "response_ratio": 12.508951800151062
         },
         {
          "date": "2020-07-19",
          "iso_code": "USA",
          "month": "July",
          "new_cases": 63749,
          "new_tests": 715898,
          "response_ratio": 11.229948705077726
         },
         {
          "date": "2020-07-20",
          "iso_code": "USA",
          "month": "July",
          "new_cases": 61796,
          "new_tests": 887548,
          "response_ratio": 14.362547737717652
         },
         {
          "date": "2020-07-21",
          "iso_code": "USA",
          "month": "July",
          "new_cases": 56750,
          "new_tests": 1005423,
          "response_ratio": 17.716704845814977
         },
         {
          "date": "2020-07-22",
          "iso_code": "USA",
          "month": "July",
          "new_cases": 72048,
          "new_tests": 1089991,
          "response_ratio": 15.128678103486564
         },
         {
          "date": "2020-07-23",
          "iso_code": "USA",
          "month": "July",
          "new_cases": 68848,
          "new_tests": 1056075,
          "response_ratio": 15.339225540320706
         },
         {
          "date": "2020-07-24",
          "iso_code": "USA",
          "month": "July",
          "new_cases": 63196,
          "new_tests": 1049880,
          "response_ratio": 16.6130767770112
         },
         {
          "date": "2020-07-25",
          "iso_code": "USA",
          "month": "July",
          "new_cases": 78427,
          "new_tests": 870902,
          "response_ratio": 11.104619582541726
         },
         {
          "date": "2020-07-26",
          "iso_code": "USA",
          "month": "July",
          "new_cases": 65498,
          "new_tests": 669486,
          "response_ratio": 10.221472411371339
         },
         {
          "date": "2020-07-27",
          "iso_code": "USA",
          "month": "July",
          "new_cases": 55993,
          "new_tests": 775943,
          "response_ratio": 13.85785723215402
         },
         {
          "date": "2020-07-28",
          "iso_code": "USA",
          "month": "July",
          "new_cases": 56243,
          "new_tests": 930293,
          "response_ratio": 16.54060060807567
         },
         {
          "date": "2020-07-29",
          "iso_code": "USA",
          "month": "July",
          "new_cases": 61734,
          "new_tests": 1011523,
          "response_ratio": 16.38518482521787
         },
         {
          "date": "2020-07-30",
          "iso_code": "USA",
          "month": "July",
          "new_cases": 74985,
          "new_tests": 1025245,
          "response_ratio": 13.672667866906714
         },
         {
          "date": "2020-07-31",
          "iso_code": "USA",
          "month": "July",
          "new_cases": 68032,
          "new_tests": 972057,
          "response_ratio": 14.288232008466604
         },
         {
          "date": "2020-08-01",
          "iso_code": "USA",
          "month": "August",
          "new_cases": 67023,
          "new_tests": 780862,
          "response_ratio": 11.650657237067872
         },
         {
          "date": "2020-08-02",
          "iso_code": "USA",
          "month": "August",
          "new_cases": 58407,
          "new_tests": 619303,
          "response_ratio": 10.603232489256424
         },
         {
          "date": "2020-08-03",
          "iso_code": "USA",
          "month": "August",
          "new_cases": 47511,
          "new_tests": 752155,
          "response_ratio": 15.831175938203785
         },
         {
          "date": "2020-08-04",
          "iso_code": "USA",
          "month": "August",
          "new_cases": 45607,
          "new_tests": 850424,
          "response_ratio": 18.64678667748372
         },
         {
          "date": "2020-08-05",
          "iso_code": "USA",
          "month": "August",
          "new_cases": 57525,
          "new_tests": 930504,
          "response_ratio": 16.175645371577573
         },
         {
          "date": "2020-08-06",
          "iso_code": "USA",
          "month": "August",
          "new_cases": 52804,
          "new_tests": 959661,
          "response_ratio": 18.174020907507007
         },
         {
          "date": "2020-08-07",
          "iso_code": "USA",
          "month": "August",
          "new_cases": 59755,
          "new_tests": 985129,
          "response_ratio": 16.486135051460128
         },
         {
          "date": "2020-08-08",
          "iso_code": "USA",
          "month": "August",
          "new_cases": 58150,
          "new_tests": 796578,
          "response_ratio": 13.698675838349097
         },
         {
          "date": "2020-08-09",
          "iso_code": "USA",
          "month": "August",
          "new_cases": 56221,
          "new_tests": 625156,
          "response_ratio": 11.119617224880383
         },
         {
          "date": "2020-08-10",
          "iso_code": "USA",
          "month": "August",
          "new_cases": 46847,
          "new_tests": 760359,
          "response_ratio": 16.23068713044592
         },
         {
          "date": "2020-08-11",
          "iso_code": "USA",
          "month": "August",
          "new_cases": 49530,
          "new_tests": 870355,
          "response_ratio": 17.572279426610134
         },
         {
          "date": "2020-08-12",
          "iso_code": "USA",
          "month": "August",
          "new_cases": 46813,
          "new_tests": 984483,
          "response_ratio": 21.030119838506398
         },
         {
          "date": "2020-08-13",
          "iso_code": "USA",
          "month": "August",
          "new_cases": 55941,
          "new_tests": 953561,
          "response_ratio": 17.04583400368245
         },
         {
          "date": "2020-08-14",
          "iso_code": "USA",
          "month": "August",
          "new_cases": 51094,
          "new_tests": 944925,
          "response_ratio": 18.493854464320663
         },
         {
          "date": "2020-08-15",
          "iso_code": "USA",
          "month": "August",
          "new_cases": 64838,
          "new_tests": 753519,
          "response_ratio": 11.621564514636479
         },
         {
          "date": "2020-08-16",
          "iso_code": "USA",
          "month": "August",
          "new_cases": 48085,
          "new_tests": 562154,
          "response_ratio": 11.690839139024645
         },
         {
          "date": "2020-08-17",
          "iso_code": "USA",
          "month": "August",
          "new_cases": 42104,
          "new_tests": 656924,
          "response_ratio": 15.602413072392173
         },
         {
          "date": "2020-08-18",
          "iso_code": "USA",
          "month": "August",
          "new_cases": 35056,
          "new_tests": 866480,
          "response_ratio": 24.71702418986764
         },
         {
          "date": "2020-08-19",
          "iso_code": "USA",
          "month": "August",
          "new_cases": 44091,
          "new_tests": 961177,
          "response_ratio": 21.79984577351387
         },
         {
          "date": "2020-08-20",
          "iso_code": "USA",
          "month": "August",
          "new_cases": 47426,
          "new_tests": 968145,
          "response_ratio": 20.413802555560242
         },
         {
          "date": "2020-08-21",
          "iso_code": "USA",
          "month": "August",
          "new_cases": 44005,
          "new_tests": 937862,
          "response_ratio": 21.31262356550392
         },
         {
          "date": "2020-08-22",
          "iso_code": "USA",
          "month": "August",
          "new_cases": 49880,
          "new_tests": 777958,
          "response_ratio": 15.596591820368886
         },
         {
          "date": "2020-08-23",
          "iso_code": "USA",
          "month": "August",
          "new_cases": 44378,
          "new_tests": 553282,
          "response_ratio": 12.467483888413177
         },
         {
          "date": "2020-08-24",
          "iso_code": "USA",
          "month": "August",
          "new_cases": 34506,
          "new_tests": 652081,
          "response_ratio": 18.897612009505593
         },
         {
          "date": "2020-08-25",
          "iso_code": "USA",
          "month": "August",
          "new_cases": 38298,
          "new_tests": 875501,
          "response_ratio": 22.86022768812993
         },
         {
          "date": "2020-08-26",
          "iso_code": "USA",
          "month": "August",
          "new_cases": 38119,
          "new_tests": 978950,
          "response_ratio": 25.68141871507647
         },
         {
          "date": "2020-08-27",
          "iso_code": "USA",
          "month": "August",
          "new_cases": 42848,
          "new_tests": 986812,
          "response_ratio": 23.03052651232263
         },
         {
          "date": "2020-08-28",
          "iso_code": "USA",
          "month": "August",
          "new_cases": 45909,
          "new_tests": 965295,
          "response_ratio": 21.026269358949225
         },
         {
          "date": "2020-08-29",
          "iso_code": "USA",
          "month": "August",
          "new_cases": 49654,
          "new_tests": 786574,
          "response_ratio": 15.841100414870906
         },
         {
          "date": "2020-08-30",
          "iso_code": "USA",
          "month": "August",
          "new_cases": 44143,
          "new_tests": 620745,
          "response_ratio": 14.062138957479101
         },
         {
          "date": "2020-08-31",
          "iso_code": "USA",
          "month": "August",
          "new_cases": 35581,
          "new_tests": 655303,
          "response_ratio": 18.4172170540457
         },
         {
          "date": "2020-09-01",
          "iso_code": "USA",
          "month": "September",
          "new_cases": 33850,
          "new_tests": 872555,
          "response_ratio": 25.777104874446085
         },
         {
          "date": "2020-09-02",
          "iso_code": "USA",
          "month": "September",
          "new_cases": 44639,
          "new_tests": 981201,
          "response_ratio": 21.980801541253165
         },
         {
          "date": "2020-09-03",
          "iso_code": "USA",
          "month": "September",
          "new_cases": 38754,
          "new_tests": 1002810,
          "response_ratio": 25.8762966403468
         },
         {
          "date": "2020-09-04",
          "iso_code": "USA",
          "month": "September",
          "new_cases": 36249,
          "new_tests": 1036924,
          "response_ratio": 28.605589119699854
         },
         {
          "date": "2020-09-05",
          "iso_code": "USA",
          "month": "September",
          "new_cases": 51071,
          "new_tests": 799210,
          "response_ratio": 15.648998453133872
         },
         {
          "date": "2020-09-06",
          "iso_code": "USA",
          "month": "September",
          "new_cases": 44140,
          "new_tests": 559286,
          "response_ratio": 12.670729497054825
         },
         {
          "date": "2020-09-07",
          "iso_code": "USA",
          "month": "September",
          "new_cases": 30555,
          "new_tests": 408089,
          "response_ratio": 13.35588283423335
         },
         {
          "date": "2020-09-08",
          "iso_code": "USA",
          "month": "September",
          "new_cases": 24250,
          "new_tests": 636285,
          "response_ratio": 26.238556701030927
         },
         {
          "date": "2020-09-09",
          "iso_code": "USA",
          "month": "September",
          "new_cases": 27122,
          "new_tests": 904201,
          "response_ratio": 33.338286262075066
         },
         {
          "date": "2020-09-10",
          "iso_code": "USA",
          "month": "September",
          "new_cases": 31927,
          "new_tests": 1032190,
          "response_ratio": 32.32968960441006
         },
         {
          "date": "2020-09-11",
          "iso_code": "USA",
          "month": "September",
          "new_cases": 37507,
          "new_tests": 1061545,
          "response_ratio": 28.302583517743354
         },
         {
          "date": "2020-09-12",
          "iso_code": "USA",
          "month": "September",
          "new_cases": 48061,
          "new_tests": 840995,
          "response_ratio": 17.498491500384926
         },
         {
          "date": "2020-09-13",
          "iso_code": "USA",
          "month": "September",
          "new_cases": 40820,
          "new_tests": 613721,
          "response_ratio": 15.034811366976973
         },
         {
          "date": "2020-09-14",
          "iso_code": "USA",
          "month": "September",
          "new_cases": 33871,
          "new_tests": 690259,
          "response_ratio": 20.379055829470637
         },
         {
          "date": "2020-09-15",
          "iso_code": "USA",
          "month": "September",
          "new_cases": 34841,
          "new_tests": 958425,
          "response_ratio": 27.50853879050544
         },
         {
          "date": "2020-09-16",
          "iso_code": "USA",
          "month": "September",
          "new_cases": 51473,
          "new_tests": 1092353,
          "response_ratio": 21.221863889806308
         },
         {
          "date": "2020-09-17",
          "iso_code": "USA",
          "month": "September",
          "new_cases": 24598,
          "new_tests": 1105307,
          "response_ratio": 44.934832100170745
         },
         {
          "date": "2020-09-18",
          "iso_code": "USA",
          "month": "September",
          "new_cases": 43567,
          "new_tests": 1183872,
          "response_ratio": 27.173594693231117
         },
         {
          "date": "2020-09-19",
          "iso_code": "USA",
          "month": "September",
          "new_cases": 50209,
          "new_tests": 910330,
          "response_ratio": 18.13081320082057
         },
         {
          "date": "2020-09-20",
          "iso_code": "USA",
          "month": "September",
          "new_cases": 40295,
          "new_tests": 618255,
          "response_ratio": 15.343218761632956
         },
         {
          "date": "2020-09-21",
          "iso_code": "USA",
          "month": "September",
          "new_cases": 39852,
          "new_tests": 729036,
          "response_ratio": 18.293586269196027
         },
         {
          "date": "2020-09-22",
          "iso_code": "USA",
          "month": "September",
          "new_cases": 53153,
          "new_tests": 988085,
          "response_ratio": 18.589449325531955
         },
         {
          "date": "2020-09-23",
          "iso_code": "USA",
          "month": "September",
          "new_cases": 38307,
          "new_tests": 1138608,
          "response_ratio": 29.7232359620957
         },
         {
          "date": "2020-09-24",
          "iso_code": "USA",
          "month": "September",
          "new_cases": 37930,
          "new_tests": 1140716,
          "response_ratio": 30.074242024782492
         },
         {
          "date": "2020-09-25",
          "iso_code": "USA",
          "month": "September",
          "new_cases": 44213,
          "new_tests": 1088836,
          "response_ratio": 24.627055390948364
         },
         {
          "date": "2020-09-26",
          "iso_code": "USA",
          "month": "September",
          "new_cases": 55013,
          "new_tests": 909622,
          "response_ratio": 16.534673622598294
         },
         {
          "date": "2020-09-27",
          "iso_code": "USA",
          "month": "September",
          "new_cases": 45368,
          "new_tests": 589967,
          "response_ratio": 13.004033680126962
         },
         {
          "date": "2020-09-28",
          "iso_code": "USA",
          "month": "September",
          "new_cases": 36248,
          "new_tests": 654405,
          "response_ratio": 18.05354778194659
         },
         {
          "date": "2020-09-29",
          "iso_code": "USA",
          "month": "September",
          "new_cases": 32998,
          "new_tests": 961544,
          "response_ratio": 29.13946299775744
         },
         {
          "date": "2020-09-30",
          "iso_code": "USA",
          "month": "September",
          "new_cases": 43017,
          "new_tests": 1172132,
          "response_ratio": 27.248111211846478
         },
         {
          "date": "2020-10-01",
          "iso_code": "USA",
          "month": "October",
          "new_cases": 41982,
          "new_tests": 1164992,
          "response_ratio": 27.749797532275736
         },
         {
          "date": "2020-10-02",
          "iso_code": "USA",
          "month": "October",
          "new_cases": 44771,
          "new_tests": 1122085,
          "response_ratio": 25.062763842666012
         },
         {
          "date": "2020-10-03",
          "iso_code": "USA",
          "month": "October",
          "new_cases": 54471,
          "new_tests": 930110,
          "response_ratio": 17.07532448458813
         },
         {
          "date": "2020-10-04",
          "iso_code": "USA",
          "month": "October",
          "new_cases": 50659,
          "new_tests": 624425,
          "response_ratio": 12.326042756469729
         },
         {
          "date": "2020-10-05",
          "iso_code": "USA",
          "month": "October",
          "new_cases": 34901,
          "new_tests": 768136,
          "response_ratio": 22.008996876880317
         },
         {
          "date": "2020-10-06",
          "iso_code": "USA",
          "month": "October",
          "new_cases": 40705,
          "new_tests": 1143392,
          "response_ratio": 28.089718707775457
         },
         {
          "date": "2020-10-07",
          "iso_code": "USA",
          "month": "October",
          "new_cases": 43062,
          "new_tests": 1303872,
          "response_ratio": 30.278946635084296
         },
         {
          "date": "2020-10-08",
          "iso_code": "USA",
          "month": "October",
          "new_cases": 48182,
          "new_tests": 1324676,
          "response_ratio": 27.493171723880288
         },
         {
          "date": "2020-10-09",
          "iso_code": "USA",
          "month": "October",
          "new_cases": 56800,
          "new_tests": 1306486,
          "response_ratio": 23.001514084507043
         },
         {
          "date": "2020-10-10",
          "iso_code": "USA",
          "month": "October",
          "new_cases": 58082,
          "new_tests": 1040385,
          "response_ratio": 17.912348059639818
         },
         {
          "date": "2020-10-11",
          "iso_code": "USA",
          "month": "October",
          "new_cases": 54271,
          "new_tests": 723064,
          "response_ratio": 13.323211291481638
         },
         {
          "date": "2020-10-12",
          "iso_code": "USA",
          "month": "October",
          "new_cases": 43597,
          "new_tests": 769987,
          "response_ratio": 17.661467532169645
         },
         {
          "date": "2020-10-13",
          "iso_code": "USA",
          "month": "October",
          "new_cases": 41653,
          "new_tests": 986003,
          "response_ratio": 23.671836362326843
         },
         {
          "date": "2020-10-14",
          "iso_code": "USA",
          "month": "October",
          "new_cases": 52517,
          "new_tests": 1121506,
          "response_ratio": 21.355104061541976
         },
         {
          "date": "2020-10-15",
          "iso_code": "USA",
          "month": "October",
          "new_cases": 59386,
          "new_tests": 1180523,
          "response_ratio": 19.878809820496414
         },
         {
          "date": "2020-10-16",
          "iso_code": "USA",
          "month": "October",
          "new_cases": 63785,
          "new_tests": 1243602,
          "response_ratio": 19.496778239397976
         },
         {
          "date": "2020-10-17",
          "iso_code": "USA",
          "month": "October",
          "new_cases": 70256,
          "new_tests": 1052266,
          "response_ratio": 14.977596219539969
         },
         {
          "date": "2020-10-18",
          "iso_code": "USA",
          "month": "October",
          "new_cases": 56611,
          "new_tests": 741441,
          "response_ratio": 13.097118934482697
         },
         {
          "date": "2020-10-19",
          "iso_code": "USA",
          "month": "October",
          "new_cases": 47843,
          "new_tests": 826136,
          "response_ratio": 17.26764625964091
         },
         {
          "date": "2020-10-20",
          "iso_code": "USA",
          "month": "October",
          "new_cases": 60160,
          "new_tests": 1164662,
          "response_ratio": 19.35940824468085
         },
         {
          "date": "2020-10-21",
          "iso_code": "USA",
          "month": "October",
          "new_cases": 58549,
          "new_tests": 1356069,
          "response_ratio": 23.161266631368598
         },
         {
          "date": "2020-10-22",
          "iso_code": "USA",
          "month": "October",
          "new_cases": 62978,
          "new_tests": 1425479,
          "response_ratio": 22.634554923941693
         },
         {
          "date": "2020-10-23",
          "iso_code": "USA",
          "month": "October",
          "new_cases": 72058,
          "new_tests": 1376901,
          "response_ratio": 19.10823225734825
         },
         {
          "date": "2020-10-24",
          "iso_code": "USA",
          "month": "October",
          "new_cases": 85329,
          "new_tests": 1111102,
          "response_ratio": 13.021387804849464
         },
         {
          "date": "2020-10-25",
          "iso_code": "USA",
          "month": "October",
          "new_cases": 83056,
          "new_tests": 769981,
          "response_ratio": 9.27062463879792
         },
         {
          "date": "2020-10-26",
          "iso_code": "USA",
          "month": "October",
          "new_cases": 59440,
          "new_tests": 906851,
          "response_ratio": 15.25657806191117
         },
         {
          "date": "2020-10-27",
          "iso_code": "USA",
          "month": "October",
          "new_cases": 68359,
          "new_tests": 1229458,
          "response_ratio": 17.985312833716115
         },
         {
          "date": "2020-10-28",
          "iso_code": "USA",
          "month": "October",
          "new_cases": 75129,
          "new_tests": 1355447,
          "response_ratio": 18.04159512305501
         },
         {
          "date": "2020-10-29",
          "iso_code": "USA",
          "month": "October",
          "new_cases": 78371,
          "new_tests": 1366664,
          "response_ratio": 17.438389200086768
         },
         {
          "date": "2020-10-30",
          "iso_code": "USA",
          "month": "October",
          "new_cases": 88130,
          "new_tests": 1414156,
          "response_ratio": 16.046249858164074
         },
         {
          "date": "2020-10-31",
          "iso_code": "USA",
          "month": "October",
          "new_cases": 101273,
          "new_tests": 1161427,
          "response_ratio": 11.468278810739289
         }
        ]
       },
       "encoding": {
        "color": {
         "field": "iso_code",
         "legend": {
          "title": "Country"
         },
         "type": "nominal"
        },
        "x": {
         "field": "month",
         "sort": [
          "January",
          "February",
          "March",
          "April",
          "May",
          "June",
          "July",
          "August",
          "September",
          "October",
          "November",
          "December"
         ],
         "title": "Month(2020)",
         "type": "nominal"
        },
        "y": {
         "aggregate": "mean",
         "field": "response_ratio",
         "title": "Mean of Response Ratio",
         "type": "quantitative"
        }
       },
       "height": 350,
       "mark": "line",
       "title": "COVID-19 Response Ratio - Canada vs USA",
       "width": 650
      },
      "image/png": "[encoded data removed]",
      "text/plain": [
       "<VegaLite 4 object>\n",
       "\n",
       "If you see this message, it means the renderer has not been properly enabled\n",
       "for the frontend that you are using. For more information, see\n",
       "https://altair-viz.github.io/user_guide/troubleshooting.html\n"
      ]
     },
     "execution_count": 14,
     "metadata": {},
     "output_type": "execute_result"
    }
   ],
   "source": [
    "(alt.Chart(covid_US_CAN, title=\"COVID-19 Response Ratio - Canada vs USA\").mark_line().encode(\n",
    "    alt.X(\"month\", sort = list(lookup.values()), title = \"Month(2020)\"),\n",
    "    alt.Y(\"mean(response_ratio)\",title = \"Mean of Response Ratio\"),\n",
    "    color = alt.Color (\"iso_code\", legend=alt.Legend(title = \"Country\"))\n",
    ")).properties(height = 350, width = 650)"
   ]
  },
  {
   "cell_type": "markdown",
   "metadata": {},
   "source": [
    "#### Observation: We can see that the response ratio for USA is higher than for Canada for most of time in our considered time-range (March - October 2020)."
   ]
  },
  {
   "cell_type": "code",
   "execution_count": 15,
   "metadata": {},
   "outputs": [
    {
     "data": {
      "application/vnd.vegalite.v4+json": {
       "$schema": "https://vega.github.io/schema/vega-lite/v4.8.1.json",
       "config": {
        "facet": {
         "spacing": 0
        },
        "title": {
         "anchor": "middle"
        },
        "view": {
         "continuousHeight": 300,
         "continuousWidth": 400,
         "stroke": null
        }
       },
       "datasets": {
        "data-2d327ffb99a2f8f45cbb29937340530a": [
         {
          "date": "2020-03-02",
          "iso_code": "USA",
          "month": "March",
          "new_cases": 20,
          "new_tests": 455,
          "response_ratio": 22.75
         },
         {
          "date": "2020-03-03",
          "iso_code": "USA",
          "month": "March",
          "new_cases": 14,
          "new_tests": 806,
          "response_ratio": 57.57142857142857
         },
         {
          "date": "2020-03-04",
          "iso_code": "USA",
          "month": "March",
          "new_cases": 22,
          "new_tests": 901,
          "response_ratio": 40.95454545454545
         },
         {
          "date": "2020-03-05",
          "iso_code": "USA",
          "month": "March",
          "new_cases": 34,
          "new_tests": 1150,
          "response_ratio": 33.8235294117647
         },
         {
          "date": "2020-03-06",
          "iso_code": "USA",
          "month": "March",
          "new_cases": 74,
          "new_tests": 1512,
          "response_ratio": 20.43243243243243
         },
         {
          "date": "2020-03-07",
          "iso_code": "USA",
          "month": "March",
          "new_cases": 105,
          "new_tests": 1796,
          "response_ratio": 17.104761904761904
         },
         {
          "date": "2020-03-08",
          "iso_code": "USA",
          "month": "March",
          "new_cases": 95,
          "new_tests": 1576,
          "response_ratio": 16.589473684210525
         },
         {
          "date": "2020-03-09",
          "iso_code": "USA",
          "month": "March",
          "new_cases": 121,
          "new_tests": 2197,
          "response_ratio": 18.15702479338843
         },
         {
          "date": "2020-03-10",
          "iso_code": "USA",
          "month": "March",
          "new_cases": 200,
          "new_tests": 3155,
          "response_ratio": 15.775
         },
         {
          "date": "2020-03-11",
          "iso_code": "USA",
          "month": "March",
          "new_cases": 271,
          "new_tests": 4473,
          "response_ratio": 16.505535055350553
         },
         {
          "date": "2020-03-12",
          "iso_code": "USA",
          "month": "March",
          "new_cases": 287,
          "new_tests": 8480,
          "response_ratio": 29.54703832752613
         },
         {
          "date": "2020-03-13",
          "iso_code": "USA",
          "month": "March",
          "new_cases": 351,
          "new_tests": 11116,
          "response_ratio": 31.66951566951567
         },
         {
          "date": "2020-03-14",
          "iso_code": "USA",
          "month": "March",
          "new_cases": 511,
          "new_tests": 12494,
          "response_ratio": 24.450097847358123
         },
         {
          "date": "2020-03-15",
          "iso_code": "USA",
          "month": "March",
          "new_cases": 777,
          "new_tests": 13561,
          "response_ratio": 17.453024453024454
         },
         {
          "date": "2020-03-16",
          "iso_code": "USA",
          "month": "March",
          "new_cases": 823,
          "new_tests": 25460,
          "response_ratio": 30.935601458080196
         },
         {
          "date": "2020-03-17",
          "iso_code": "USA",
          "month": "March",
          "new_cases": 887,
          "new_tests": 38567,
          "response_ratio": 43.48027057497182
         },
         {
          "date": "2020-03-18",
          "iso_code": "USA",
          "month": "March",
          "new_cases": 1766,
          "new_tests": 49956,
          "response_ratio": 28.2876557191393
         },
         {
          "date": "2020-03-19",
          "iso_code": "USA",
          "month": "March",
          "new_cases": 2988,
          "new_tests": 60235,
          "response_ratio": 20.15896921017403
         },
         {
          "date": "2020-03-20",
          "iso_code": "USA",
          "month": "March",
          "new_cases": 4835,
          "new_tests": 74656,
          "response_ratio": 15.440744570837643
         },
         {
          "date": "2020-03-21",
          "iso_code": "USA",
          "month": "March",
          "new_cases": 5374,
          "new_tests": 74713,
          "response_ratio": 13.902679568291775
         },
         {
          "date": "2020-03-22",
          "iso_code": "USA",
          "month": "March",
          "new_cases": 7123,
          "new_tests": 72154,
          "response_ratio": 10.129720623332865
         },
         {
          "date": "2020-03-23",
          "iso_code": "USA",
          "month": "March",
          "new_cases": 8459,
          "new_tests": 77430,
          "response_ratio": 9.15356425109351
         },
         {
          "date": "2020-03-24",
          "iso_code": "USA",
          "month": "March",
          "new_cases": 11236,
          "new_tests": 102387,
          "response_ratio": 9.112406550373798
         },
         {
          "date": "2020-03-25",
          "iso_code": "USA",
          "month": "March",
          "new_cases": 8789,
          "new_tests": 111338,
          "response_ratio": 12.667880304926612
         },
         {
          "date": "2020-03-26",
          "iso_code": "USA",
          "month": "March",
          "new_cases": 13963,
          "new_tests": 125583,
          "response_ratio": 8.99398410083793
         },
         {
          "date": "2020-03-27",
          "iso_code": "USA",
          "month": "March",
          "new_cases": 16797,
          "new_tests": 132328,
          "response_ratio": 7.878073465499791
         },
         {
          "date": "2020-03-28",
          "iso_code": "USA",
          "month": "March",
          "new_cases": 18695,
          "new_tests": 120806,
          "response_ratio": 6.4619416956405455
         },
         {
          "date": "2020-03-29",
          "iso_code": "USA",
          "month": "March",
          "new_cases": 19979,
          "new_tests": 109432,
          "response_ratio": 5.477351218779718
         },
         {
          "date": "2020-03-30",
          "iso_code": "USA",
          "month": "March",
          "new_cases": 18360,
          "new_tests": 119573,
          "response_ratio": 6.512690631808279
         },
         {
          "date": "2020-03-31",
          "iso_code": "USA",
          "month": "March",
          "new_cases": 21595,
          "new_tests": 138914,
          "response_ratio": 6.4326927529520725
         },
         {
          "date": "2020-04-01",
          "iso_code": "USA",
          "month": "April",
          "new_cases": 24998,
          "new_tests": 150264,
          "response_ratio": 6.011040883270661
         },
         {
          "date": "2020-04-02",
          "iso_code": "USA",
          "month": "April",
          "new_cases": 27103,
          "new_tests": 158361,
          "response_ratio": 5.842932516695568
         },
         {
          "date": "2020-04-03",
          "iso_code": "USA",
          "month": "April",
          "new_cases": 28819,
          "new_tests": 166031,
          "response_ratio": 5.761164509524966
         },
         {
          "date": "2020-04-04",
          "iso_code": "USA",
          "month": "April",
          "new_cases": 32425,
          "new_tests": 147345,
          "response_ratio": 4.544178874325366
         },
         {
          "date": "2020-04-05",
          "iso_code": "USA",
          "month": "April",
          "new_cases": 34272,
          "new_tests": 138675,
          "response_ratio": 4.046306022408964
         },
         {
          "date": "2020-04-06",
          "iso_code": "USA",
          "month": "April",
          "new_cases": 25398,
          "new_tests": 139950,
          "response_ratio": 5.510276399716513
         },
         {
          "date": "2020-04-07",
          "iso_code": "USA",
          "month": "April",
          "new_cases": 30561,
          "new_tests": 176956,
          "response_ratio": 5.79025555446484
         },
         {
          "date": "2020-04-08",
          "iso_code": "USA",
          "month": "April",
          "new_cases": 30613,
          "new_tests": 164458,
          "response_ratio": 5.3721621533335515
         },
         {
          "date": "2020-04-09",
          "iso_code": "USA",
          "month": "April",
          "new_cases": 33323,
          "new_tests": 170853,
          "response_ratio": 5.127179425621943
         },
         {
          "date": "2020-04-10",
          "iso_code": "USA",
          "month": "April",
          "new_cases": 33901,
          "new_tests": 175635,
          "response_ratio": 5.180820624760331
         },
         {
          "date": "2020-04-11",
          "iso_code": "USA",
          "month": "April",
          "new_cases": 35527,
          "new_tests": 212860,
          "response_ratio": 5.991499422974076
         },
         {
          "date": "2020-04-12",
          "iso_code": "USA",
          "month": "April",
          "new_cases": 28391,
          "new_tests": 112127,
          "response_ratio": 3.949385368602726
         },
         {
          "date": "2020-04-13",
          "iso_code": "USA",
          "month": "April",
          "new_cases": 27620,
          "new_tests": 113127,
          "response_ratio": 4.095836350470673
         },
         {
          "date": "2020-04-14",
          "iso_code": "USA",
          "month": "April",
          "new_cases": 25023,
          "new_tests": 159252,
          "response_ratio": 6.364224913079966
         },
         {
          "date": "2020-04-15",
          "iso_code": "USA",
          "month": "April",
          "new_cases": 26922,
          "new_tests": 169471,
          "response_ratio": 6.29488893841468
         },
         {
          "date": "2020-04-16",
          "iso_code": "USA",
          "month": "April",
          "new_cases": 30148,
          "new_tests": 181414,
          "response_ratio": 6.017447260183097
         },
         {
          "date": "2020-04-17",
          "iso_code": "USA",
          "month": "April",
          "new_cases": 31667,
          "new_tests": 195278,
          "response_ratio": 6.166608772539236
         },
         {
          "date": "2020-04-18",
          "iso_code": "USA",
          "month": "April",
          "new_cases": 30833,
          "new_tests": 164727,
          "response_ratio": 5.34255505464924
         },
         {
          "date": "2020-04-19",
          "iso_code": "USA",
          "month": "April",
          "new_cases": 32922,
          "new_tests": 136457,
          "response_ratio": 4.144857542069133
         },
         {
          "date": "2020-04-20",
          "iso_code": "USA",
          "month": "April",
          "new_cases": 24601,
          "new_tests": 157951,
          "response_ratio": 6.420511361326775
         },
         {
          "date": "2020-04-21",
          "iso_code": "USA",
          "month": "April",
          "new_cases": 28065,
          "new_tests": 227028,
          "response_ratio": 8.089363976483163
         },
         {
          "date": "2020-04-22",
          "iso_code": "USA",
          "month": "April",
          "new_cases": 37289,
          "new_tests": 231269,
          "response_ratio": 6.202070315642683
         },
         {
          "date": "2020-04-23",
          "iso_code": "USA",
          "month": "April",
          "new_cases": 17588,
          "new_tests": 227958,
          "response_ratio": 12.96099613372754
         },
         {
          "date": "2020-04-24",
          "iso_code": "USA",
          "month": "April",
          "new_cases": 26543,
          "new_tests": 264020,
          "response_ratio": 9.94687864973816
         },
         {
          "date": "2020-04-25",
          "iso_code": "USA",
          "month": "April",
          "new_cases": 21352,
          "new_tests": 218010,
          "response_ratio": 10.210284750843012
         },
         {
          "date": "2020-04-26",
          "iso_code": "USA",
          "month": "April",
          "new_cases": 48529,
          "new_tests": 172014,
          "response_ratio": 3.544560984153805
         },
         {
          "date": "2020-04-27",
          "iso_code": "USA",
          "month": "April",
          "new_cases": 26857,
          "new_tests": 223362,
          "response_ratio": 8.31671445060878
         },
         {
          "date": "2020-04-28",
          "iso_code": "USA",
          "month": "April",
          "new_cases": 22541,
          "new_tests": 265732,
          "response_ratio": 11.788829244487822
         },
         {
          "date": "2020-04-29",
          "iso_code": "USA",
          "month": "April",
          "new_cases": 24132,
          "new_tests": 293574,
          "response_ratio": 12.165340626553954
         },
         {
          "date": "2020-04-30",
          "iso_code": "USA",
          "month": "April",
          "new_cases": 27326,
          "new_tests": 317256,
          "response_ratio": 11.610041718509844
         },
         {
          "date": "2020-05-01",
          "iso_code": "USA",
          "month": "May",
          "new_cases": 29917,
          "new_tests": 332735,
          "response_ratio": 11.121937360029415
         },
         {
          "date": "2020-05-02",
          "iso_code": "USA",
          "month": "May",
          "new_cases": 33955,
          "new_tests": 266000,
          "response_ratio": 7.8338978059196
         },
         {
          "date": "2020-05-03",
          "iso_code": "USA",
          "month": "May",
          "new_cases": 29288,
          "new_tests": 208041,
          "response_ratio": 7.103284621688063
         },
         {
          "date": "2020-05-04",
          "iso_code": "USA",
          "month": "May",
          "new_cases": 24972,
          "new_tests": 248318,
          "response_ratio": 9.943857119974371
         },
         {
          "date": "2020-05-05",
          "iso_code": "USA",
          "month": "May",
          "new_cases": 22593,
          "new_tests": 313539,
          "response_ratio": 13.877705483999469
         },
         {
          "date": "2020-05-06",
          "iso_code": "USA",
          "month": "May",
          "new_cases": 23841,
          "new_tests": 353489,
          "response_ratio": 14.826936789564195
         },
         {
          "date": "2020-05-07",
          "iso_code": "USA",
          "month": "May",
          "new_cases": 24128,
          "new_tests": 359964,
          "response_ratio": 14.918932360742705
         },
         {
          "date": "2020-05-08",
          "iso_code": "USA",
          "month": "May",
          "new_cases": 28369,
          "new_tests": 397396,
          "response_ratio": 14.008107441221052
         },
         {
          "date": "2020-05-09",
          "iso_code": "USA",
          "month": "May",
          "new_cases": 26957,
          "new_tests": 332511,
          "response_ratio": 12.334866639462849
         },
         {
          "date": "2020-05-10",
          "iso_code": "USA",
          "month": "May",
          "new_cases": 25612,
          "new_tests": 247843,
          "response_ratio": 9.67683117288771
         },
         {
          "date": "2020-05-11",
          "iso_code": "USA",
          "month": "May",
          "new_cases": 20258,
          "new_tests": 316497,
          "response_ratio": 15.623309309902261
         },
         {
          "date": "2020-05-12",
          "iso_code": "USA",
          "month": "May",
          "new_cases": 18117,
          "new_tests": 412791,
          "response_ratio": 22.784732571617816
         },
         {
          "date": "2020-05-13",
          "iso_code": "USA",
          "month": "May",
          "new_cases": 22048,
          "new_tests": 440998,
          "response_ratio": 20.00172351233672
         },
         {
          "date": "2020-05-14",
          "iso_code": "USA",
          "month": "May",
          "new_cases": 20782,
          "new_tests": 446472,
          "response_ratio": 21.483591569627563
         },
         {
          "date": "2020-05-15",
          "iso_code": "USA",
          "month": "May",
          "new_cases": 27143,
          "new_tests": 443411,
          "response_ratio": 16.33610875732233
         },
         {
          "date": "2020-05-16",
          "iso_code": "USA",
          "month": "May",
          "new_cases": 25508,
          "new_tests": 361609,
          "response_ratio": 14.176297632115414
         },
         {
          "date": "2020-05-17",
          "iso_code": "USA",
          "month": "May",
          "new_cases": 24487,
          "new_tests": 306160,
          "response_ratio": 12.50296075468616
         },
         {
          "date": "2020-05-18",
          "iso_code": "USA",
          "month": "May",
          "new_cases": 18873,
          "new_tests": 348997,
          "response_ratio": 18.491866687860966
         },
         {
          "date": "2020-05-19",
          "iso_code": "USA",
          "month": "May",
          "new_cases": 21841,
          "new_tests": 423783,
          "response_ratio": 19.403095096378372
         },
         {
          "date": "2020-05-20",
          "iso_code": "USA",
          "month": "May",
          "new_cases": 19970,
          "new_tests": 455383,
          "response_ratio": 22.803355032548822
         },
         {
          "date": "2020-05-21",
          "iso_code": "USA",
          "month": "May",
          "new_cases": 23285,
          "new_tests": 458778,
          "response_ratio": 19.702727077517714
         },
         {
          "date": "2020-05-22",
          "iso_code": "USA",
          "month": "May",
          "new_cases": 25434,
          "new_tests": 487703,
          "response_ratio": 19.175237870566956
         },
         {
          "date": "2020-05-23",
          "iso_code": "USA",
          "month": "May",
          "new_cases": 24147,
          "new_tests": 387524,
          "response_ratio": 16.048536050026918
         },
         {
          "date": "2020-05-24",
          "iso_code": "USA",
          "month": "May",
          "new_cases": 21236,
          "new_tests": 345449,
          "response_ratio": 16.26714070446412
         },
         {
          "date": "2020-05-25",
          "iso_code": "USA",
          "month": "May",
          "new_cases": 20568,
          "new_tests": 334647,
          "response_ratio": 16.27027421236873
         },
         {
          "date": "2020-05-26",
          "iso_code": "USA",
          "month": "May",
          "new_cases": 19064,
          "new_tests": 456988,
          "response_ratio": 23.971254720939992
         },
         {
          "date": "2020-05-27",
          "iso_code": "USA",
          "month": "May",
          "new_cases": 18910,
          "new_tests": 546568,
          "response_ratio": 28.903648863035432
         },
         {
          "date": "2020-05-28",
          "iso_code": "USA",
          "month": "May",
          "new_cases": 18721,
          "new_tests": 530605,
          "response_ratio": 28.342770151167137
         },
         {
          "date": "2020-05-29",
          "iso_code": "USA",
          "month": "May",
          "new_cases": 21817,
          "new_tests": 538211,
          "response_ratio": 24.669340422606226
         },
         {
          "date": "2020-05-30",
          "iso_code": "USA",
          "month": "May",
          "new_cases": 25337,
          "new_tests": 454354,
          "response_ratio": 17.932430832379524
         },
         {
          "date": "2020-05-31",
          "iso_code": "USA",
          "month": "May",
          "new_cases": 23297,
          "new_tests": 376990,
          "response_ratio": 16.181911834141737
         },
         {
          "date": "2020-06-01",
          "iso_code": "USA",
          "month": "June",
          "new_cases": 19807,
          "new_tests": 439251,
          "response_ratio": 22.17655374362599
         },
         {
          "date": "2020-06-02",
          "iso_code": "USA",
          "month": "June",
          "new_cases": 21086,
          "new_tests": 520170,
          "response_ratio": 24.668974675139903
         },
         {
          "date": "2020-06-03",
          "iso_code": "USA",
          "month": "June",
          "new_cases": 20544,
          "new_tests": 584939,
          "response_ratio": 28.4724980529595
         },
         {
          "date": "2020-06-04",
          "iso_code": "USA",
          "month": "June",
          "new_cases": 19699,
          "new_tests": 620391,
          "response_ratio": 31.493527590233008
         },
         {
          "date": "2020-06-05",
          "iso_code": "USA",
          "month": "June",
          "new_cases": 21140,
          "new_tests": 577302,
          "response_ratio": 27.308514664143804
         },
         {
          "date": "2020-06-06",
          "iso_code": "USA",
          "month": "June",
          "new_cases": 25178,
          "new_tests": 470889,
          "response_ratio": 18.702398919691795
         },
         {
          "date": "2020-06-07",
          "iso_code": "USA",
          "month": "June",
          "new_cases": 22223,
          "new_tests": 410419,
          "response_ratio": 18.468208612698554
         },
         {
          "date": "2020-06-08",
          "iso_code": "USA",
          "month": "June",
          "new_cases": 22302,
          "new_tests": 451791,
          "response_ratio": 20.257869249394673
         },
         {
          "date": "2020-06-09",
          "iso_code": "USA",
          "month": "June",
          "new_cases": 18822,
          "new_tests": 557813,
          "response_ratio": 29.63622356816491
         },
         {
          "date": "2020-06-10",
          "iso_code": "USA",
          "month": "June",
          "new_cases": 18665,
          "new_tests": 626221,
          "response_ratio": 33.55054915617466
         },
         {
          "date": "2020-06-11",
          "iso_code": "USA",
          "month": "June",
          "new_cases": 20614,
          "new_tests": 613138,
          "response_ratio": 29.74376637236829
         },
         {
          "date": "2020-06-12",
          "iso_code": "USA",
          "month": "June",
          "new_cases": 22883,
          "new_tests": 618110,
          "response_ratio": 27.011755451645325
         },
         {
          "date": "2020-06-13",
          "iso_code": "USA",
          "month": "June",
          "new_cases": 25639,
          "new_tests": 534017,
          "response_ratio": 20.828308436366473
         },
         {
          "date": "2020-06-14",
          "iso_code": "USA",
          "month": "June",
          "new_cases": 25540,
          "new_tests": 418156,
          "response_ratio": 16.372592012529367
         },
         {
          "date": "2020-06-15",
          "iso_code": "USA",
          "month": "June",
          "new_cases": 19543,
          "new_tests": 507582,
          "response_ratio": 25.972573299902777
         },
         {
          "date": "2020-06-16",
          "iso_code": "USA",
          "month": "June",
          "new_cases": 19957,
          "new_tests": 667944,
          "response_ratio": 33.46915869118605
         },
         {
          "date": "2020-06-17",
          "iso_code": "USA",
          "month": "June",
          "new_cases": 23705,
          "new_tests": 700878,
          "response_ratio": 29.566673697532167
         },
         {
          "date": "2020-06-18",
          "iso_code": "USA",
          "month": "June",
          "new_cases": 25559,
          "new_tests": 704907,
          "response_ratio": 27.57960014085058
         },
         {
          "date": "2020-06-19",
          "iso_code": "USA",
          "month": "June",
          "new_cases": 27762,
          "new_tests": 706547,
          "response_ratio": 25.450147683884445
         },
         {
          "date": "2020-06-20",
          "iso_code": "USA",
          "month": "June",
          "new_cases": 29909,
          "new_tests": 585021,
          "response_ratio": 19.560032097361997
         },
         {
          "date": "2020-06-21",
          "iso_code": "USA",
          "month": "June",
          "new_cases": 34158,
          "new_tests": 428262,
          "response_ratio": 12.537677849991217
         },
         {
          "date": "2020-06-22",
          "iso_code": "USA",
          "month": "June",
          "new_cases": 25793,
          "new_tests": 549579,
          "response_ratio": 21.307292676307526
         },
         {
          "date": "2020-06-23",
          "iso_code": "USA",
          "month": "June",
          "new_cases": 31390,
          "new_tests": 695859,
          "response_ratio": 22.168174577891048
         },
         {
          "date": "2020-06-24",
          "iso_code": "USA",
          "month": "June",
          "new_cases": 34720,
          "new_tests": 756456,
          "response_ratio": 21.787327188940093
         },
         {
          "date": "2020-06-25",
          "iso_code": "USA",
          "month": "June",
          "new_cases": 34339,
          "new_tests": 771165,
          "response_ratio": 22.4574099420484
         },
         {
          "date": "2020-06-26",
          "iso_code": "USA",
          "month": "June",
          "new_cases": 40949,
          "new_tests": 807810,
          "response_ratio": 19.72722166597475
         },
         {
          "date": "2020-06-27",
          "iso_code": "USA",
          "month": "June",
          "new_cases": 45527,
          "new_tests": 698442,
          "response_ratio": 15.341270015595141
         },
         {
          "date": "2020-06-28",
          "iso_code": "USA",
          "month": "June",
          "new_cases": 42486,
          "new_tests": 573808,
          "response_ratio": 13.505813679800404
         },
         {
          "date": "2020-06-29",
          "iso_code": "USA",
          "month": "June",
          "new_cases": 38673,
          "new_tests": 660500,
          "response_ratio": 17.079099113076307
         },
         {
          "date": "2020-06-30",
          "iso_code": "USA",
          "month": "June",
          "new_cases": 41556,
          "new_tests": 844829,
          "response_ratio": 20.329892193666378
         },
         {
          "date": "2020-07-01",
          "iso_code": "USA",
          "month": "July",
          "new_cases": 43880,
          "new_tests": 874574,
          "response_ratio": 19.931039197812215
         },
         {
          "date": "2020-07-02",
          "iso_code": "USA",
          "month": "July",
          "new_cases": 52048,
          "new_tests": 847486,
          "response_ratio": 16.282777436212726
         },
         {
          "date": "2020-07-03",
          "iso_code": "USA",
          "month": "July",
          "new_cases": 53399,
          "new_tests": 786497,
          "response_ratio": 14.72868405775389
         },
         {
          "date": "2020-07-04",
          "iso_code": "USA",
          "month": "July",
          "new_cases": 54442,
          "new_tests": 619113,
          "response_ratio": 11.371973843723596
         },
         {
          "date": "2020-07-05",
          "iso_code": "USA",
          "month": "July",
          "new_cases": 45221,
          "new_tests": 526700,
          "response_ratio": 11.647243537294619
         },
         {
          "date": "2020-07-06",
          "iso_code": "USA",
          "month": "July",
          "new_cases": 49093,
          "new_tests": 710130,
          "response_ratio": 14.464995009471819
         },
         {
          "date": "2020-07-07",
          "iso_code": "USA",
          "month": "July",
          "new_cases": 49990,
          "new_tests": 881371,
          "response_ratio": 17.630946189237847
         },
         {
          "date": "2020-07-08",
          "iso_code": "USA",
          "month": "July",
          "new_cases": 57473,
          "new_tests": 964021,
          "response_ratio": 16.773458841542986
         },
         {
          "date": "2020-07-09",
          "iso_code": "USA",
          "month": "July",
          "new_cases": 58906,
          "new_tests": 989934,
          "response_ratio": 16.80531694564221
         },
         {
          "date": "2020-07-10",
          "iso_code": "USA",
          "month": "July",
          "new_cases": 63004,
          "new_tests": 994165,
          "response_ratio": 15.779394959050219
         },
         {
          "date": "2020-07-11",
          "iso_code": "USA",
          "month": "July",
          "new_cases": 66625,
          "new_tests": 830062,
          "response_ratio": 12.458716697936211
         },
         {
          "date": "2020-07-12",
          "iso_code": "USA",
          "month": "July",
          "new_cases": 63051,
          "new_tests": 690948,
          "response_ratio": 10.958557358328973
         },
         {
          "date": "2020-07-13",
          "iso_code": "USA",
          "month": "July",
          "new_cases": 57258,
          "new_tests": 853885,
          "response_ratio": 14.912937930070907
         },
         {
          "date": "2020-07-14",
          "iso_code": "USA",
          "month": "July",
          "new_cases": 58114,
          "new_tests": 977906,
          "response_ratio": 16.827373782565303
         },
         {
          "date": "2020-07-15",
          "iso_code": "USA",
          "month": "July",
          "new_cases": 68518,
          "new_tests": 1014480,
          "response_ratio": 14.806036370004962
         },
         {
          "date": "2020-07-16",
          "iso_code": "USA",
          "month": "July",
          "new_cases": 67717,
          "new_tests": 1011647,
          "response_ratio": 14.939335765022077
         },
         {
          "date": "2020-07-17",
          "iso_code": "USA",
          "month": "July",
          "new_cases": 76930,
          "new_tests": 1033416,
          "response_ratio": 13.433199012088911
         },
         {
          "date": "2020-07-18",
          "iso_code": "USA",
          "month": "July",
          "new_cases": 71494,
          "new_tests": 894315,
          "response_ratio": 12.508951800151062
         },
         {
          "date": "2020-07-19",
          "iso_code": "USA",
          "month": "July",
          "new_cases": 63749,
          "new_tests": 715898,
          "response_ratio": 11.229948705077726
         },
         {
          "date": "2020-07-20",
          "iso_code": "USA",
          "month": "July",
          "new_cases": 61796,
          "new_tests": 887548,
          "response_ratio": 14.362547737717652
         },
         {
          "date": "2020-07-21",
          "iso_code": "USA",
          "month": "July",
          "new_cases": 56750,
          "new_tests": 1005423,
          "response_ratio": 17.716704845814977
         },
         {
          "date": "2020-07-22",
          "iso_code": "USA",
          "month": "July",
          "new_cases": 72048,
          "new_tests": 1089991,
          "response_ratio": 15.128678103486564
         },
         {
          "date": "2020-07-23",
          "iso_code": "USA",
          "month": "July",
          "new_cases": 68848,
          "new_tests": 1056075,
          "response_ratio": 15.339225540320706
         },
         {
          "date": "2020-07-24",
          "iso_code": "USA",
          "month": "July",
          "new_cases": 63196,
          "new_tests": 1049880,
          "response_ratio": 16.6130767770112
         },
         {
          "date": "2020-07-25",
          "iso_code": "USA",
          "month": "July",
          "new_cases": 78427,
          "new_tests": 870902,
          "response_ratio": 11.104619582541726
         },
         {
          "date": "2020-07-26",
          "iso_code": "USA",
          "month": "July",
          "new_cases": 65498,
          "new_tests": 669486,
          "response_ratio": 10.221472411371339
         },
         {
          "date": "2020-07-27",
          "iso_code": "USA",
          "month": "July",
          "new_cases": 55993,
          "new_tests": 775943,
          "response_ratio": 13.85785723215402
         },
         {
          "date": "2020-07-28",
          "iso_code": "USA",
          "month": "July",
          "new_cases": 56243,
          "new_tests": 930293,
          "response_ratio": 16.54060060807567
         },
         {
          "date": "2020-07-29",
          "iso_code": "USA",
          "month": "July",
          "new_cases": 61734,
          "new_tests": 1011523,
          "response_ratio": 16.38518482521787
         },
         {
          "date": "2020-07-30",
          "iso_code": "USA",
          "month": "July",
          "new_cases": 74985,
          "new_tests": 1025245,
          "response_ratio": 13.672667866906714
         },
         {
          "date": "2020-07-31",
          "iso_code": "USA",
          "month": "July",
          "new_cases": 68032,
          "new_tests": 972057,
          "response_ratio": 14.288232008466604
         },
         {
          "date": "2020-08-01",
          "iso_code": "USA",
          "month": "August",
          "new_cases": 67023,
          "new_tests": 780862,
          "response_ratio": 11.650657237067872
         },
         {
          "date": "2020-08-02",
          "iso_code": "USA",
          "month": "August",
          "new_cases": 58407,
          "new_tests": 619303,
          "response_ratio": 10.603232489256424
         },
         {
          "date": "2020-08-03",
          "iso_code": "USA",
          "month": "August",
          "new_cases": 47511,
          "new_tests": 752155,
          "response_ratio": 15.831175938203785
         },
         {
          "date": "2020-08-04",
          "iso_code": "USA",
          "month": "August",
          "new_cases": 45607,
          "new_tests": 850424,
          "response_ratio": 18.64678667748372
         },
         {
          "date": "2020-08-05",
          "iso_code": "USA",
          "month": "August",
          "new_cases": 57525,
          "new_tests": 930504,
          "response_ratio": 16.175645371577573
         },
         {
          "date": "2020-08-06",
          "iso_code": "USA",
          "month": "August",
          "new_cases": 52804,
          "new_tests": 959661,
          "response_ratio": 18.174020907507007
         },
         {
          "date": "2020-08-07",
          "iso_code": "USA",
          "month": "August",
          "new_cases": 59755,
          "new_tests": 985129,
          "response_ratio": 16.486135051460128
         },
         {
          "date": "2020-08-08",
          "iso_code": "USA",
          "month": "August",
          "new_cases": 58150,
          "new_tests": 796578,
          "response_ratio": 13.698675838349097
         },
         {
          "date": "2020-08-09",
          "iso_code": "USA",
          "month": "August",
          "new_cases": 56221,
          "new_tests": 625156,
          "response_ratio": 11.119617224880383
         },
         {
          "date": "2020-08-10",
          "iso_code": "USA",
          "month": "August",
          "new_cases": 46847,
          "new_tests": 760359,
          "response_ratio": 16.23068713044592
         },
         {
          "date": "2020-08-11",
          "iso_code": "USA",
          "month": "August",
          "new_cases": 49530,
          "new_tests": 870355,
          "response_ratio": 17.572279426610134
         },
         {
          "date": "2020-08-12",
          "iso_code": "USA",
          "month": "August",
          "new_cases": 46813,
          "new_tests": 984483,
          "response_ratio": 21.030119838506398
         },
         {
          "date": "2020-08-13",
          "iso_code": "USA",
          "month": "August",
          "new_cases": 55941,
          "new_tests": 953561,
          "response_ratio": 17.04583400368245
         },
         {
          "date": "2020-08-14",
          "iso_code": "USA",
          "month": "August",
          "new_cases": 51094,
          "new_tests": 944925,
          "response_ratio": 18.493854464320663
         },
         {
          "date": "2020-08-15",
          "iso_code": "USA",
          "month": "August",
          "new_cases": 64838,
          "new_tests": 753519,
          "response_ratio": 11.621564514636479
         },
         {
          "date": "2020-08-16",
          "iso_code": "USA",
          "month": "August",
          "new_cases": 48085,
          "new_tests": 562154,
          "response_ratio": 11.690839139024645
         },
         {
          "date": "2020-08-17",
          "iso_code": "USA",
          "month": "August",
          "new_cases": 42104,
          "new_tests": 656924,
          "response_ratio": 15.602413072392173
         },
         {
          "date": "2020-08-18",
          "iso_code": "USA",
          "month": "August",
          "new_cases": 35056,
          "new_tests": 866480,
          "response_ratio": 24.71702418986764
         },
         {
          "date": "2020-08-19",
          "iso_code": "USA",
          "month": "August",
          "new_cases": 44091,
          "new_tests": 961177,
          "response_ratio": 21.79984577351387
         },
         {
          "date": "2020-08-20",
          "iso_code": "USA",
          "month": "August",
          "new_cases": 47426,
          "new_tests": 968145,
          "response_ratio": 20.413802555560242
         },
         {
          "date": "2020-08-21",
          "iso_code": "USA",
          "month": "August",
          "new_cases": 44005,
          "new_tests": 937862,
          "response_ratio": 21.31262356550392
         },
         {
          "date": "2020-08-22",
          "iso_code": "USA",
          "month": "August",
          "new_cases": 49880,
          "new_tests": 777958,
          "response_ratio": 15.596591820368886
         },
         {
          "date": "2020-08-23",
          "iso_code": "USA",
          "month": "August",
          "new_cases": 44378,
          "new_tests": 553282,
          "response_ratio": 12.467483888413177
         },
         {
          "date": "2020-08-24",
          "iso_code": "USA",
          "month": "August",
          "new_cases": 34506,
          "new_tests": 652081,
          "response_ratio": 18.897612009505593
         },
         {
          "date": "2020-08-25",
          "iso_code": "USA",
          "month": "August",
          "new_cases": 38298,
          "new_tests": 875501,
          "response_ratio": 22.86022768812993
         },
         {
          "date": "2020-08-26",
          "iso_code": "USA",
          "month": "August",
          "new_cases": 38119,
          "new_tests": 978950,
          "response_ratio": 25.68141871507647
         },
         {
          "date": "2020-08-27",
          "iso_code": "USA",
          "month": "August",
          "new_cases": 42848,
          "new_tests": 986812,
          "response_ratio": 23.03052651232263
         },
         {
          "date": "2020-08-28",
          "iso_code": "USA",
          "month": "August",
          "new_cases": 45909,
          "new_tests": 965295,
          "response_ratio": 21.026269358949225
         },
         {
          "date": "2020-08-29",
          "iso_code": "USA",
          "month": "August",
          "new_cases": 49654,
          "new_tests": 786574,
          "response_ratio": 15.841100414870906
         },
         {
          "date": "2020-08-30",
          "iso_code": "USA",
          "month": "August",
          "new_cases": 44143,
          "new_tests": 620745,
          "response_ratio": 14.062138957479101
         },
         {
          "date": "2020-08-31",
          "iso_code": "USA",
          "month": "August",
          "new_cases": 35581,
          "new_tests": 655303,
          "response_ratio": 18.4172170540457
         },
         {
          "date": "2020-09-01",
          "iso_code": "USA",
          "month": "September",
          "new_cases": 33850,
          "new_tests": 872555,
          "response_ratio": 25.777104874446085
         },
         {
          "date": "2020-09-02",
          "iso_code": "USA",
          "month": "September",
          "new_cases": 44639,
          "new_tests": 981201,
          "response_ratio": 21.980801541253165
         },
         {
          "date": "2020-09-03",
          "iso_code": "USA",
          "month": "September",
          "new_cases": 38754,
          "new_tests": 1002810,
          "response_ratio": 25.8762966403468
         },
         {
          "date": "2020-09-04",
          "iso_code": "USA",
          "month": "September",
          "new_cases": 36249,
          "new_tests": 1036924,
          "response_ratio": 28.605589119699854
         },
         {
          "date": "2020-09-05",
          "iso_code": "USA",
          "month": "September",
          "new_cases": 51071,
          "new_tests": 799210,
          "response_ratio": 15.648998453133872
         },
         {
          "date": "2020-09-06",
          "iso_code": "USA",
          "month": "September",
          "new_cases": 44140,
          "new_tests": 559286,
          "response_ratio": 12.670729497054825
         },
         {
          "date": "2020-09-07",
          "iso_code": "USA",
          "month": "September",
          "new_cases": 30555,
          "new_tests": 408089,
          "response_ratio": 13.35588283423335
         },
         {
          "date": "2020-09-08",
          "iso_code": "USA",
          "month": "September",
          "new_cases": 24250,
          "new_tests": 636285,
          "response_ratio": 26.238556701030927
         },
         {
          "date": "2020-09-09",
          "iso_code": "USA",
          "month": "September",
          "new_cases": 27122,
          "new_tests": 904201,
          "response_ratio": 33.338286262075066
         },
         {
          "date": "2020-09-10",
          "iso_code": "USA",
          "month": "September",
          "new_cases": 31927,
          "new_tests": 1032190,
          "response_ratio": 32.32968960441006
         },
         {
          "date": "2020-09-11",
          "iso_code": "USA",
          "month": "September",
          "new_cases": 37507,
          "new_tests": 1061545,
          "response_ratio": 28.302583517743354
         },
         {
          "date": "2020-09-12",
          "iso_code": "USA",
          "month": "September",
          "new_cases": 48061,
          "new_tests": 840995,
          "response_ratio": 17.498491500384926
         },
         {
          "date": "2020-09-13",
          "iso_code": "USA",
          "month": "September",
          "new_cases": 40820,
          "new_tests": 613721,
          "response_ratio": 15.034811366976973
         },
         {
          "date": "2020-09-14",
          "iso_code": "USA",
          "month": "September",
          "new_cases": 33871,
          "new_tests": 690259,
          "response_ratio": 20.379055829470637
         },
         {
          "date": "2020-09-15",
          "iso_code": "USA",
          "month": "September",
          "new_cases": 34841,
          "new_tests": 958425,
          "response_ratio": 27.50853879050544
         },
         {
          "date": "2020-09-16",
          "iso_code": "USA",
          "month": "September",
          "new_cases": 51473,
          "new_tests": 1092353,
          "response_ratio": 21.221863889806308
         },
         {
          "date": "2020-09-17",
          "iso_code": "USA",
          "month": "September",
          "new_cases": 24598,
          "new_tests": 1105307,
          "response_ratio": 44.934832100170745
         },
         {
          "date": "2020-09-18",
          "iso_code": "USA",
          "month": "September",
          "new_cases": 43567,
          "new_tests": 1183872,
          "response_ratio": 27.173594693231117
         },
         {
          "date": "2020-09-19",
          "iso_code": "USA",
          "month": "September",
          "new_cases": 50209,
          "new_tests": 910330,
          "response_ratio": 18.13081320082057
         },
         {
          "date": "2020-09-20",
          "iso_code": "USA",
          "month": "September",
          "new_cases": 40295,
          "new_tests": 618255,
          "response_ratio": 15.343218761632956
         },
         {
          "date": "2020-09-21",
          "iso_code": "USA",
          "month": "September",
          "new_cases": 39852,
          "new_tests": 729036,
          "response_ratio": 18.293586269196027
         },
         {
          "date": "2020-09-22",
          "iso_code": "USA",
          "month": "September",
          "new_cases": 53153,
          "new_tests": 988085,
          "response_ratio": 18.589449325531955
         },
         {
          "date": "2020-09-23",
          "iso_code": "USA",
          "month": "September",
          "new_cases": 38307,
          "new_tests": 1138608,
          "response_ratio": 29.7232359620957
         },
         {
          "date": "2020-09-24",
          "iso_code": "USA",
          "month": "September",
          "new_cases": 37930,
          "new_tests": 1140716,
          "response_ratio": 30.074242024782492
         },
         {
          "date": "2020-09-25",
          "iso_code": "USA",
          "month": "September",
          "new_cases": 44213,
          "new_tests": 1088836,
          "response_ratio": 24.627055390948364
         },
         {
          "date": "2020-09-26",
          "iso_code": "USA",
          "month": "September",
          "new_cases": 55013,
          "new_tests": 909622,
          "response_ratio": 16.534673622598294
         },
         {
          "date": "2020-09-27",
          "iso_code": "USA",
          "month": "September",
          "new_cases": 45368,
          "new_tests": 589967,
          "response_ratio": 13.004033680126962
         },
         {
          "date": "2020-09-28",
          "iso_code": "USA",
          "month": "September",
          "new_cases": 36248,
          "new_tests": 654405,
          "response_ratio": 18.05354778194659
         },
         {
          "date": "2020-09-29",
          "iso_code": "USA",
          "month": "September",
          "new_cases": 32998,
          "new_tests": 961544,
          "response_ratio": 29.13946299775744
         },
         {
          "date": "2020-09-30",
          "iso_code": "USA",
          "month": "September",
          "new_cases": 43017,
          "new_tests": 1172132,
          "response_ratio": 27.248111211846478
         },
         {
          "date": "2020-10-01",
          "iso_code": "USA",
          "month": "October",
          "new_cases": 41982,
          "new_tests": 1164992,
          "response_ratio": 27.749797532275736
         },
         {
          "date": "2020-10-02",
          "iso_code": "USA",
          "month": "October",
          "new_cases": 44771,
          "new_tests": 1122085,
          "response_ratio": 25.062763842666012
         },
         {
          "date": "2020-10-03",
          "iso_code": "USA",
          "month": "October",
          "new_cases": 54471,
          "new_tests": 930110,
          "response_ratio": 17.07532448458813
         },
         {
          "date": "2020-10-04",
          "iso_code": "USA",
          "month": "October",
          "new_cases": 50659,
          "new_tests": 624425,
          "response_ratio": 12.326042756469729
         },
         {
          "date": "2020-10-05",
          "iso_code": "USA",
          "month": "October",
          "new_cases": 34901,
          "new_tests": 768136,
          "response_ratio": 22.008996876880317
         },
         {
          "date": "2020-10-06",
          "iso_code": "USA",
          "month": "October",
          "new_cases": 40705,
          "new_tests": 1143392,
          "response_ratio": 28.089718707775457
         },
         {
          "date": "2020-10-07",
          "iso_code": "USA",
          "month": "October",
          "new_cases": 43062,
          "new_tests": 1303872,
          "response_ratio": 30.278946635084296
         },
         {
          "date": "2020-10-08",
          "iso_code": "USA",
          "month": "October",
          "new_cases": 48182,
          "new_tests": 1324676,
          "response_ratio": 27.493171723880288
         },
         {
          "date": "2020-10-09",
          "iso_code": "USA",
          "month": "October",
          "new_cases": 56800,
          "new_tests": 1306486,
          "response_ratio": 23.001514084507043
         },
         {
          "date": "2020-10-10",
          "iso_code": "USA",
          "month": "October",
          "new_cases": 58082,
          "new_tests": 1040385,
          "response_ratio": 17.912348059639818
         },
         {
          "date": "2020-10-11",
          "iso_code": "USA",
          "month": "October",
          "new_cases": 54271,
          "new_tests": 723064,
          "response_ratio": 13.323211291481638
         },
         {
          "date": "2020-10-12",
          "iso_code": "USA",
          "month": "October",
          "new_cases": 43597,
          "new_tests": 769987,
          "response_ratio": 17.661467532169645
         },
         {
          "date": "2020-10-13",
          "iso_code": "USA",
          "month": "October",
          "new_cases": 41653,
          "new_tests": 986003,
          "response_ratio": 23.671836362326843
         },
         {
          "date": "2020-10-14",
          "iso_code": "USA",
          "month": "October",
          "new_cases": 52517,
          "new_tests": 1121506,
          "response_ratio": 21.355104061541976
         },
         {
          "date": "2020-10-15",
          "iso_code": "USA",
          "month": "October",
          "new_cases": 59386,
          "new_tests": 1180523,
          "response_ratio": 19.878809820496414
         },
         {
          "date": "2020-10-16",
          "iso_code": "USA",
          "month": "October",
          "new_cases": 63785,
          "new_tests": 1243602,
          "response_ratio": 19.496778239397976
         },
         {
          "date": "2020-10-17",
          "iso_code": "USA",
          "month": "October",
          "new_cases": 70256,
          "new_tests": 1052266,
          "response_ratio": 14.977596219539969
         },
         {
          "date": "2020-10-18",
          "iso_code": "USA",
          "month": "October",
          "new_cases": 56611,
          "new_tests": 741441,
          "response_ratio": 13.097118934482697
         },
         {
          "date": "2020-10-19",
          "iso_code": "USA",
          "month": "October",
          "new_cases": 47843,
          "new_tests": 826136,
          "response_ratio": 17.26764625964091
         },
         {
          "date": "2020-10-20",
          "iso_code": "USA",
          "month": "October",
          "new_cases": 60160,
          "new_tests": 1164662,
          "response_ratio": 19.35940824468085
         },
         {
          "date": "2020-10-21",
          "iso_code": "USA",
          "month": "October",
          "new_cases": 58549,
          "new_tests": 1356069,
          "response_ratio": 23.161266631368598
         },
         {
          "date": "2020-10-22",
          "iso_code": "USA",
          "month": "October",
          "new_cases": 62978,
          "new_tests": 1425479,
          "response_ratio": 22.634554923941693
         },
         {
          "date": "2020-10-23",
          "iso_code": "USA",
          "month": "October",
          "new_cases": 72058,
          "new_tests": 1376901,
          "response_ratio": 19.10823225734825
         },
         {
          "date": "2020-10-24",
          "iso_code": "USA",
          "month": "October",
          "new_cases": 85329,
          "new_tests": 1111102,
          "response_ratio": 13.021387804849464
         },
         {
          "date": "2020-10-25",
          "iso_code": "USA",
          "month": "October",
          "new_cases": 83056,
          "new_tests": 769981,
          "response_ratio": 9.27062463879792
         },
         {
          "date": "2020-10-26",
          "iso_code": "USA",
          "month": "October",
          "new_cases": 59440,
          "new_tests": 906851,
          "response_ratio": 15.25657806191117
         },
         {
          "date": "2020-10-27",
          "iso_code": "USA",
          "month": "October",
          "new_cases": 68359,
          "new_tests": 1229458,
          "response_ratio": 17.985312833716115
         },
         {
          "date": "2020-10-28",
          "iso_code": "USA",
          "month": "October",
          "new_cases": 75129,
          "new_tests": 1355447,
          "response_ratio": 18.04159512305501
         },
         {
          "date": "2020-10-29",
          "iso_code": "USA",
          "month": "October",
          "new_cases": 78371,
          "new_tests": 1366664,
          "response_ratio": 17.438389200086768
         },
         {
          "date": "2020-10-30",
          "iso_code": "USA",
          "month": "October",
          "new_cases": 88130,
          "new_tests": 1414156,
          "response_ratio": 16.046249858164074
         },
         {
          "date": "2020-10-31",
          "iso_code": "USA",
          "month": "October",
          "new_cases": 101273,
          "new_tests": 1161427,
          "response_ratio": 11.468278810739289
         }
        ],
        "data-b2ed2b7eeaadac6d6a4842a4bf1fdaf5": [
         {
          "date": "2020-03-12",
          "iso_code": "CAN",
          "month": "March",
          "new_cases": 10,
          "new_tests": 4162,
          "response_ratio": 416.2
         },
         {
          "date": "2020-03-15",
          "iso_code": "CAN",
          "month": "March",
          "new_cases": 68,
          "new_tests": 2568,
          "response_ratio": 37.76470588235294
         },
         {
          "date": "2020-03-16",
          "iso_code": "CAN",
          "month": "March",
          "new_cases": 60,
          "new_tests": 12753,
          "response_ratio": 212.55
         },
         {
          "date": "2020-03-17",
          "iso_code": "CAN",
          "month": "March",
          "new_cases": 120,
          "new_tests": 6446,
          "response_ratio": 53.71666666666667
         },
         {
          "date": "2020-03-18",
          "iso_code": "CAN",
          "month": "March",
          "new_cases": 145,
          "new_tests": 9370,
          "response_ratio": 64.62068965517241
         },
         {
          "date": "2020-03-19",
          "iso_code": "CAN",
          "month": "March",
          "new_cases": 121,
          "new_tests": 12305,
          "response_ratio": 101.69421487603306
         },
         {
          "date": "2020-03-20",
          "iso_code": "CAN",
          "month": "March",
          "new_cases": 156,
          "new_tests": 10963,
          "response_ratio": 70.27564102564102
         },
         {
          "date": "2020-03-21",
          "iso_code": "CAN",
          "month": "March",
          "new_cases": 125,
          "new_tests": 12069,
          "response_ratio": 96.552
         },
         {
          "date": "2020-03-22",
          "iso_code": "CAN",
          "month": "March",
          "new_cases": 331,
          "new_tests": 9941,
          "response_ratio": 30.033232628398792
         },
         {
          "date": "2020-03-23",
          "iso_code": "CAN",
          "month": "March",
          "new_cases": 128,
          "new_tests": 8323,
          "response_ratio": 65.0234375
         },
         {
          "date": "2020-03-24",
          "iso_code": "CAN",
          "month": "March",
          "new_cases": 216,
          "new_tests": 17915,
          "response_ratio": 82.93981481481481
         },
         {
          "date": "2020-03-25",
          "iso_code": "CAN",
          "month": "March",
          "new_cases": 313,
          "new_tests": 22727,
          "response_ratio": 72.61022364217253
         },
         {
          "date": "2020-03-26",
          "iso_code": "CAN",
          "month": "March",
          "new_cases": 1426,
          "new_tests": 13814,
          "response_ratio": 9.687237026647967
         },
         {
          "date": "2020-03-27",
          "iso_code": "CAN",
          "month": "March",
          "new_cases": 633,
          "new_tests": 9041,
          "response_ratio": 14.282780410742497
         },
         {
          "date": "2020-03-28",
          "iso_code": "CAN",
          "month": "March",
          "new_cases": 657,
          "new_tests": 16804,
          "response_ratio": 25.576864535768646
         },
         {
          "date": "2020-03-29",
          "iso_code": "CAN",
          "month": "March",
          "new_cases": 711,
          "new_tests": 22987,
          "response_ratio": 32.33052039381153
         },
         {
          "date": "2020-03-30",
          "iso_code": "CAN",
          "month": "March",
          "new_cases": 869,
          "new_tests": 15270,
          "response_ratio": 17.57192174913694
         },
         {
          "date": "2020-03-31",
          "iso_code": "CAN",
          "month": "March",
          "new_cases": 1169,
          "new_tests": 15433,
          "response_ratio": 13.201881950384944
         },
         {
          "date": "2020-04-01",
          "iso_code": "CAN",
          "month": "April",
          "new_cases": 1112,
          "new_tests": 15795,
          "response_ratio": 14.204136690647482
         },
         {
          "date": "2020-04-02",
          "iso_code": "CAN",
          "month": "April",
          "new_cases": 1059,
          "new_tests": 16733,
          "response_ratio": 15.800755429650614
         },
         {
          "date": "2020-04-03",
          "iso_code": "CAN",
          "month": "April",
          "new_cases": 1673,
          "new_tests": 21399,
          "response_ratio": 12.790794979079498
         },
         {
          "date": "2020-04-04",
          "iso_code": "CAN",
          "month": "April",
          "new_cases": 1251,
          "new_tests": 16906,
          "response_ratio": 13.513988808952838
         },
         {
          "date": "2020-04-05",
          "iso_code": "CAN",
          "month": "April",
          "new_cases": 1363,
          "new_tests": 12820,
          "response_ratio": 9.405722670579603
         },
         {
          "date": "2020-04-06",
          "iso_code": "CAN",
          "month": "April",
          "new_cases": 1614,
          "new_tests": 12015,
          "response_ratio": 7.444237918215613
         },
         {
          "date": "2020-04-07",
          "iso_code": "CAN",
          "month": "April",
          "new_cases": 1157,
          "new_tests": 11299,
          "response_ratio": 9.765773552290407
         },
         {
          "date": "2020-04-08",
          "iso_code": "CAN",
          "month": "April",
          "new_cases": 1230,
          "new_tests": 13864,
          "response_ratio": 11.271544715447154
         },
         {
          "date": "2020-04-09",
          "iso_code": "CAN",
          "month": "April",
          "new_cases": 1391,
          "new_tests": 13333,
          "response_ratio": 9.585190510424155
         },
         {
          "date": "2020-04-10",
          "iso_code": "CAN",
          "month": "April",
          "new_cases": 1474,
          "new_tests": 16073,
          "response_ratio": 10.904341926729986
         },
         {
          "date": "2020-04-11",
          "iso_code": "CAN",
          "month": "April",
          "new_cases": 1385,
          "new_tests": 13276,
          "response_ratio": 9.585559566787003
         },
         {
          "date": "2020-04-12",
          "iso_code": "CAN",
          "month": "April",
          "new_cases": 1168,
          "new_tests": 17549,
          "response_ratio": 15.024828767123287
         },
         {
          "date": "2020-04-13",
          "iso_code": "CAN",
          "month": "April",
          "new_cases": 1064,
          "new_tests": 15275,
          "response_ratio": 14.356203007518797
         },
         {
          "date": "2020-04-14",
          "iso_code": "CAN",
          "month": "April",
          "new_cases": 1298,
          "new_tests": 17508,
          "response_ratio": 13.4884437596302
         },
         {
          "date": "2020-04-15",
          "iso_code": "CAN",
          "month": "April",
          "new_cases": 1383,
          "new_tests": 12753,
          "response_ratio": 9.221258134490238
         },
         {
          "date": "2020-04-16",
          "iso_code": "CAN",
          "month": "April",
          "new_cases": 1318,
          "new_tests": 19889,
          "response_ratio": 15.090288315629742
         },
         {
          "date": "2020-04-17",
          "iso_code": "CAN",
          "month": "April",
          "new_cases": 1717,
          "new_tests": 20076,
          "response_ratio": 11.692486895748399
         },
         {
          "date": "2020-04-18",
          "iso_code": "CAN",
          "month": "April",
          "new_cases": 1791,
          "new_tests": 20356,
          "response_ratio": 11.36571747627024
         },
         {
          "date": "2020-04-19",
          "iso_code": "CAN",
          "month": "April",
          "new_cases": 1469,
          "new_tests": 21292,
          "response_ratio": 14.49421375085092
         },
         {
          "date": "2020-04-20",
          "iso_code": "CAN",
          "month": "April",
          "new_cases": 1436,
          "new_tests": 10229,
          "response_ratio": 7.123259052924791
         },
         {
          "date": "2020-04-21",
          "iso_code": "CAN",
          "month": "April",
          "new_cases": 2046,
          "new_tests": 10300,
          "response_ratio": 5.034213098729228
         },
         {
          "date": "2020-04-22",
          "iso_code": "CAN",
          "month": "April",
          "new_cases": 1590,
          "new_tests": 42314,
          "response_ratio": 26.612578616352202
         },
         {
          "date": "2020-04-23",
          "iso_code": "CAN",
          "month": "April",
          "new_cases": 1766,
          "new_tests": 22725,
          "response_ratio": 12.86806342015855
         },
         {
          "date": "2020-04-24",
          "iso_code": "CAN",
          "month": "April",
          "new_cases": 1920,
          "new_tests": 25191,
          "response_ratio": 13.1203125
         },
         {
          "date": "2020-04-25",
          "iso_code": "CAN",
          "month": "April",
          "new_cases": 1778,
          "new_tests": 24163,
          "response_ratio": 13.589988751406075
         },
         {
          "date": "2020-04-26",
          "iso_code": "CAN",
          "month": "April",
          "new_cases": 1464,
          "new_tests": 23237,
          "response_ratio": 15.872267759562842
         },
         {
          "date": "2020-04-27",
          "iso_code": "CAN",
          "month": "April",
          "new_cases": 1543,
          "new_tests": 26197,
          "response_ratio": 16.977965003240442
         },
         {
          "date": "2020-04-28",
          "iso_code": "CAN",
          "month": "April",
          "new_cases": 1605,
          "new_tests": 21095,
          "response_ratio": 13.143302180685358
         },
         {
          "date": "2020-04-29",
          "iso_code": "CAN",
          "month": "April",
          "new_cases": 1526,
          "new_tests": 24813,
          "response_ratio": 16.260157273918743
         },
         {
          "date": "2020-04-30",
          "iso_code": "CAN",
          "month": "April",
          "new_cases": 1572,
          "new_tests": 26836,
          "response_ratio": 17.071246819338423
         },
         {
          "date": "2020-05-01",
          "iso_code": "CAN",
          "month": "May",
          "new_cases": 1649,
          "new_tests": 30472,
          "response_ratio": 18.479078229229835
         },
         {
          "date": "2020-05-02",
          "iso_code": "CAN",
          "month": "May",
          "new_cases": 1825,
          "new_tests": 29314,
          "response_ratio": 16.062465753424657
         },
         {
          "date": "2020-05-03",
          "iso_code": "CAN",
          "month": "May",
          "new_cases": 1653,
          "new_tests": 31209,
          "response_ratio": 18.88021778584392
         },
         {
          "date": "2020-05-04",
          "iso_code": "CAN",
          "month": "May",
          "new_cases": 2760,
          "new_tests": 21924,
          "response_ratio": 7.943478260869565
         },
         {
          "date": "2020-05-05",
          "iso_code": "CAN",
          "month": "May",
          "new_cases": 1298,
          "new_tests": 23234,
          "response_ratio": 17.89984591679507
         },
         {
          "date": "2020-05-06",
          "iso_code": "CAN",
          "month": "May",
          "new_cases": 1274,
          "new_tests": 31032,
          "response_ratio": 24.357927786499214
         },
         {
          "date": "2020-05-07",
          "iso_code": "CAN",
          "month": "May",
          "new_cases": 1450,
          "new_tests": 31660,
          "response_ratio": 21.83448275862069
         },
         {
          "date": "2020-05-08",
          "iso_code": "CAN",
          "month": "May",
          "new_cases": 1426,
          "new_tests": 29611,
          "response_ratio": 20.76507713884993
         },
         {
          "date": "2020-05-09",
          "iso_code": "CAN",
          "month": "May",
          "new_cases": 1512,
          "new_tests": 36550,
          "response_ratio": 24.173280423280424
         },
         {
          "date": "2020-05-10",
          "iso_code": "CAN",
          "month": "May",
          "new_cases": 1268,
          "new_tests": 26065,
          "response_ratio": 20.555993690851736
         },
         {
          "date": "2020-05-11",
          "iso_code": "CAN",
          "month": "May",
          "new_cases": 1146,
          "new_tests": 24109,
          "response_ratio": 21.037521815008727
         },
         {
          "date": "2020-05-12",
          "iso_code": "CAN",
          "month": "May",
          "new_cases": 1133,
          "new_tests": 23939,
          "response_ratio": 21.128861429832302
         },
         {
          "date": "2020-05-13",
          "iso_code": "CAN",
          "month": "May",
          "new_cases": 1176,
          "new_tests": 27304,
          "response_ratio": 23.217687074829932
         },
         {
          "date": "2020-05-14",
          "iso_code": "CAN",
          "month": "May",
          "new_cases": 1121,
          "new_tests": 30716,
          "response_ratio": 27.400535236396074
         },
         {
          "date": "2020-05-15",
          "iso_code": "CAN",
          "month": "May",
          "new_cases": 1123,
          "new_tests": 33158,
          "response_ratio": 29.526268922528942
         },
         {
          "date": "2020-05-16",
          "iso_code": "CAN",
          "month": "May",
          "new_cases": 1201,
          "new_tests": 33508,
          "response_ratio": 27.900083263946712
         },
         {
          "date": "2020-05-17",
          "iso_code": "CAN",
          "month": "May",
          "new_cases": 1251,
          "new_tests": 30475,
          "response_ratio": 24.36051159072742
         },
         {
          "date": "2020-05-18",
          "iso_code": "CAN",
          "month": "May",
          "new_cases": 1138,
          "new_tests": 22718,
          "response_ratio": 19.963093145869948
         },
         {
          "date": "2020-05-19",
          "iso_code": "CAN",
          "month": "May",
          "new_cases": 1070,
          "new_tests": 16524,
          "response_ratio": 15.442990654205607
         },
         {
          "date": "2020-05-20",
          "iso_code": "CAN",
          "month": "May",
          "new_cases": 1040,
          "new_tests": 35155,
          "response_ratio": 33.80288461538461
         },
         {
          "date": "2020-05-21",
          "iso_code": "CAN",
          "month": "May",
          "new_cases": 990,
          "new_tests": 4605,
          "response_ratio": 4.651515151515151
         },
         {
          "date": "2020-05-22",
          "iso_code": "CAN",
          "month": "May",
          "new_cases": 1222,
          "new_tests": 25553,
          "response_ratio": 20.910801963993453
         },
         {
          "date": "2020-05-23",
          "iso_code": "CAN",
          "month": "May",
          "new_cases": 1156,
          "new_tests": 26703,
          "response_ratio": 23.09948096885813
         },
         {
          "date": "2020-05-24",
          "iso_code": "CAN",
          "month": "May",
          "new_cases": 1141,
          "new_tests": 27301,
          "response_ratio": 23.927256792287466
         },
         {
          "date": "2020-05-25",
          "iso_code": "CAN",
          "month": "May",
          "new_cases": 1078,
          "new_tests": 23180,
          "response_ratio": 21.50278293135436
         },
         {
          "date": "2020-05-26",
          "iso_code": "CAN",
          "month": "May",
          "new_cases": 1012,
          "new_tests": 20522,
          "response_ratio": 20.278656126482215
         },
         {
          "date": "2020-05-27",
          "iso_code": "CAN",
          "month": "May",
          "new_cases": 936,
          "new_tests": 27941,
          "response_ratio": 29.851495726495727
         },
         {
          "date": "2020-05-28",
          "iso_code": "CAN",
          "month": "May",
          "new_cases": 872,
          "new_tests": 54304,
          "response_ratio": 62.27522935779817
         },
         {
          "date": "2020-05-29",
          "iso_code": "CAN",
          "month": "May",
          "new_cases": 993,
          "new_tests": 11214,
          "response_ratio": 11.293051359516616
         },
         {
          "date": "2020-05-30",
          "iso_code": "CAN",
          "month": "May",
          "new_cases": 906,
          "new_tests": 37828,
          "response_ratio": 41.75275938189846
         },
         {
          "date": "2020-05-31",
          "iso_code": "CAN",
          "month": "May",
          "new_cases": 772,
          "new_tests": 31554,
          "response_ratio": 40.873056994818654
         },
         {
          "date": "2020-06-01",
          "iso_code": "CAN",
          "month": "June",
          "new_cases": 757,
          "new_tests": 30087,
          "response_ratio": 39.74504623513871
         },
         {
          "date": "2020-06-02",
          "iso_code": "CAN",
          "month": "June",
          "new_cases": 758,
          "new_tests": 28332,
          "response_ratio": 37.37730870712401
         },
         {
          "date": "2020-06-03",
          "iso_code": "CAN",
          "month": "June",
          "new_cases": 705,
          "new_tests": 31676,
          "response_ratio": 44.93049645390071
         },
         {
          "date": "2020-06-04",
          "iso_code": "CAN",
          "month": "June",
          "new_cases": 675,
          "new_tests": 35180,
          "response_ratio": 52.11851851851852
         },
         {
          "date": "2020-06-05",
          "iso_code": "CAN",
          "month": "June",
          "new_cases": 641,
          "new_tests": 39392,
          "response_ratio": 61.453978159126365
         },
         {
          "date": "2020-06-06",
          "iso_code": "CAN",
          "month": "June",
          "new_cases": 609,
          "new_tests": 37779,
          "response_ratio": 62.03448275862069
         },
         {
          "date": "2020-06-07",
          "iso_code": "CAN",
          "month": "June",
          "new_cases": 722,
          "new_tests": 28545,
          "response_ratio": 39.53601108033241
         },
         {
          "date": "2020-06-08",
          "iso_code": "CAN",
          "month": "June",
          "new_cases": 642,
          "new_tests": 33319,
          "response_ratio": 51.898753894081
         },
         {
          "date": "2020-06-09",
          "iso_code": "CAN",
          "month": "June",
          "new_cases": 545,
          "new_tests": 25578,
          "response_ratio": 46.93211009174312
         },
         {
          "date": "2020-06-10",
          "iso_code": "CAN",
          "month": "June",
          "new_cases": 409,
          "new_tests": 33536,
          "response_ratio": 81.99511002444987
         },
         {
          "date": "2020-06-11",
          "iso_code": "CAN",
          "month": "June",
          "new_cases": 472,
          "new_tests": 39241,
          "response_ratio": 83.13771186440678
         },
         {
          "date": "2020-06-12",
          "iso_code": "CAN",
          "month": "June",
          "new_cases": 405,
          "new_tests": 43600,
          "response_ratio": 107.65432098765432
         },
         {
          "date": "2020-06-13",
          "iso_code": "CAN",
          "month": "June",
          "new_cases": 413,
          "new_tests": 41828,
          "response_ratio": 101.27845036319613
         },
         {
          "date": "2020-06-14",
          "iso_code": "CAN",
          "month": "June",
          "new_cases": 467,
          "new_tests": 38852,
          "response_ratio": 83.1948608137045
         },
         {
          "date": "2020-06-15",
          "iso_code": "CAN",
          "month": "June",
          "new_cases": 377,
          "new_tests": 30700,
          "response_ratio": 81.43236074270557
         },
         {
          "date": "2020-06-16",
          "iso_code": "CAN",
          "month": "June",
          "new_cases": 360,
          "new_tests": 33254,
          "response_ratio": 92.37222222222222
         },
         {
          "date": "2020-06-17",
          "iso_code": "CAN",
          "month": "June",
          "new_cases": 320,
          "new_tests": 37751,
          "response_ratio": 117.971875
         },
         {
          "date": "2020-06-18",
          "iso_code": "CAN",
          "month": "June",
          "new_cases": 386,
          "new_tests": 40959,
          "response_ratio": 106.11139896373057
         },
         {
          "date": "2020-06-19",
          "iso_code": "CAN",
          "month": "June",
          "new_cases": 367,
          "new_tests": 44123,
          "response_ratio": 120.22615803814713
         },
         {
          "date": "2020-06-20",
          "iso_code": "CAN",
          "month": "June",
          "new_cases": 409,
          "new_tests": 43218,
          "response_ratio": 105.66748166259168
         },
         {
          "date": "2020-06-21",
          "iso_code": "CAN",
          "month": "June",
          "new_cases": 390,
          "new_tests": 32660,
          "response_ratio": 83.74358974358974
         },
         {
          "date": "2020-06-22",
          "iso_code": "CAN",
          "month": "June",
          "new_cases": 318,
          "new_tests": 28677,
          "response_ratio": 90.17924528301887
         },
         {
          "date": "2020-06-23",
          "iso_code": "CAN",
          "month": "June",
          "new_cases": 311,
          "new_tests": 38751,
          "response_ratio": 124.60128617363344
         },
         {
          "date": "2020-06-24",
          "iso_code": "CAN",
          "month": "June",
          "new_cases": 326,
          "new_tests": 35781,
          "response_ratio": 109.75766871165644
         },
         {
          "date": "2020-06-25",
          "iso_code": "CAN",
          "month": "June",
          "new_cases": 279,
          "new_tests": 39713,
          "response_ratio": 142.3405017921147
         },
         {
          "date": "2020-06-26",
          "iso_code": "CAN",
          "month": "June",
          "new_cases": 369,
          "new_tests": 39880,
          "response_ratio": 108.07588075880759
         },
         {
          "date": "2020-06-27",
          "iso_code": "CAN",
          "month": "June",
          "new_cases": 172,
          "new_tests": 42072,
          "response_ratio": 244.6046511627907
         },
         {
          "date": "2020-06-28",
          "iso_code": "CAN",
          "month": "June",
          "new_cases": 238,
          "new_tests": 36390,
          "response_ratio": 152.89915966386553
         },
         {
          "date": "2020-06-29",
          "iso_code": "CAN",
          "month": "June",
          "new_cases": 218,
          "new_tests": 44980,
          "response_ratio": 206.3302752293578
         },
         {
          "date": "2020-06-30",
          "iso_code": "CAN",
          "month": "June",
          "new_cases": 668,
          "new_tests": 48468,
          "response_ratio": 72.55688622754491
         },
         {
          "date": "2020-07-03",
          "iso_code": "CAN",
          "month": "July",
          "new_cases": 567,
          "new_tests": 37502,
          "response_ratio": 66.14109347442681
         },
         {
          "date": "2020-07-04",
          "iso_code": "CAN",
          "month": "July",
          "new_cases": 319,
          "new_tests": 29208,
          "response_ratio": 91.56112852664577
         },
         {
          "date": "2020-07-05",
          "iso_code": "CAN",
          "month": "July",
          "new_cases": 226,
          "new_tests": 25971,
          "response_ratio": 114.91592920353982
         },
         {
          "date": "2020-07-06",
          "iso_code": "CAN",
          "month": "July",
          "new_cases": 219,
          "new_tests": 34786,
          "response_ratio": 158.84018264840182
         },
         {
          "date": "2020-07-07",
          "iso_code": "CAN",
          "month": "July",
          "new_cases": 399,
          "new_tests": 44461,
          "response_ratio": 111.43107769423558
         },
         {
          "date": "2020-07-08",
          "iso_code": "CAN",
          "month": "July",
          "new_cases": 232,
          "new_tests": 35169,
          "response_ratio": 151.5905172413793
         },
         {
          "date": "2020-07-09",
          "iso_code": "CAN",
          "month": "July",
          "new_cases": 267,
          "new_tests": 42852,
          "response_ratio": 160.4943820224719
         },
         {
          "date": "2020-07-10",
          "iso_code": "CAN",
          "month": "July",
          "new_cases": 371,
          "new_tests": 44509,
          "response_ratio": 119.97035040431267
         },
         {
          "date": "2020-07-11",
          "iso_code": "CAN",
          "month": "July",
          "new_cases": 321,
          "new_tests": 40814,
          "response_ratio": 127.14641744548287
         },
         {
          "date": "2020-07-12",
          "iso_code": "CAN",
          "month": "July",
          "new_cases": 221,
          "new_tests": 29363,
          "response_ratio": 132.86425339366517
         },
         {
          "date": "2020-07-13",
          "iso_code": "CAN",
          "month": "July",
          "new_cases": 244,
          "new_tests": 44729,
          "response_ratio": 183.3155737704918
         },
         {
          "date": "2020-07-14",
          "iso_code": "CAN",
          "month": "July",
          "new_cases": 565,
          "new_tests": 44875,
          "response_ratio": 79.42477876106194
         },
         {
          "date": "2020-07-15",
          "iso_code": "CAN",
          "month": "July",
          "new_cases": 331,
          "new_tests": 39410,
          "response_ratio": 119.06344410876133
         },
         {
          "date": "2020-07-16",
          "iso_code": "CAN",
          "month": "July",
          "new_cases": 341,
          "new_tests": 45862,
          "response_ratio": 134.4926686217009
         },
         {
          "date": "2020-07-17",
          "iso_code": "CAN",
          "month": "July",
          "new_cases": 437,
          "new_tests": 50286,
          "response_ratio": 115.07093821510297
         },
         {
          "date": "2020-07-18",
          "iso_code": "CAN",
          "month": "July",
          "new_cases": 405,
          "new_tests": 43763,
          "response_ratio": 108.05679012345679
         },
         {
          "date": "2020-07-20",
          "iso_code": "CAN",
          "month": "July",
          "new_cases": 680,
          "new_tests": 53088,
          "response_ratio": 78.07058823529412
         },
         {
          "date": "2020-07-21",
          "iso_code": "CAN",
          "month": "July",
          "new_cases": 775,
          "new_tests": 43098,
          "response_ratio": 55.61032258064516
         },
         {
          "date": "2020-07-22",
          "iso_code": "CAN",
          "month": "July",
          "new_cases": 571,
          "new_tests": 43050,
          "response_ratio": 75.3940455341506
         },
         {
          "date": "2020-07-23",
          "iso_code": "CAN",
          "month": "July",
          "new_cases": 543,
          "new_tests": 37544,
          "response_ratio": 69.14180478821363
         },
         {
          "date": "2020-07-24",
          "iso_code": "CAN",
          "month": "July",
          "new_cases": 432,
          "new_tests": 20161,
          "response_ratio": 46.66898148148148
         },
         {
          "date": "2020-07-25",
          "iso_code": "CAN",
          "month": "July",
          "new_cases": 534,
          "new_tests": 44444,
          "response_ratio": 83.22846441947566
         },
         {
          "date": "2020-07-26",
          "iso_code": "CAN",
          "month": "July",
          "new_cases": 350,
          "new_tests": 40023,
          "response_ratio": 114.35142857142857
         },
         {
          "date": "2020-07-27",
          "iso_code": "CAN",
          "month": "July",
          "new_cases": 355,
          "new_tests": 61880,
          "response_ratio": 174.30985915492957
         },
         {
          "date": "2020-07-28",
          "iso_code": "CAN",
          "month": "July",
          "new_cases": 699,
          "new_tests": 35362,
          "response_ratio": 50.58941344778255
         },
         {
          "date": "2020-07-29",
          "iso_code": "CAN",
          "month": "July",
          "new_cases": 383,
          "new_tests": 47373,
          "response_ratio": 123.68929503916449
         },
         {
          "date": "2020-07-30",
          "iso_code": "CAN",
          "month": "July",
          "new_cases": 476,
          "new_tests": 50060,
          "response_ratio": 105.16806722689076
         },
         {
          "date": "2020-07-31",
          "iso_code": "CAN",
          "month": "July",
          "new_cases": 329,
          "new_tests": 53733,
          "response_ratio": 163.32218844984803
         },
         {
          "date": "2020-08-01",
          "iso_code": "CAN",
          "month": "August",
          "new_cases": 513,
          "new_tests": 48394,
          "response_ratio": 94.33528265107212
         },
         {
          "date": "2020-08-02",
          "iso_code": "CAN",
          "month": "August",
          "new_cases": 287,
          "new_tests": 44707,
          "response_ratio": 155.77351916376307
         },
         {
          "date": "2020-08-03",
          "iso_code": "CAN",
          "month": "August",
          "new_cases": 285,
          "new_tests": 34736,
          "response_ratio": 121.88070175438597
         },
         {
          "date": "2020-08-04",
          "iso_code": "CAN",
          "month": "August",
          "new_cases": 147,
          "new_tests": 58326,
          "response_ratio": 396.7755102040816
         },
         {
          "date": "2020-08-05",
          "iso_code": "CAN",
          "month": "August",
          "new_cases": 760,
          "new_tests": 36085,
          "response_ratio": 47.48026315789474
         },
         {
          "date": "2020-08-06",
          "iso_code": "CAN",
          "month": "August",
          "new_cases": 395,
          "new_tests": 46566,
          "response_ratio": 117.88860759493672
         },
         {
          "date": "2020-08-07",
          "iso_code": "CAN",
          "month": "August",
          "new_cases": 374,
          "new_tests": 48036,
          "response_ratio": 128.4385026737968
         },
         {
          "date": "2020-08-08",
          "iso_code": "CAN",
          "month": "August",
          "new_cases": 424,
          "new_tests": 36830,
          "response_ratio": 86.86320754716981
         },
         {
          "date": "2020-08-09",
          "iso_code": "CAN",
          "month": "August",
          "new_cases": 236,
          "new_tests": 43772,
          "response_ratio": 185.47457627118644
         },
         {
          "date": "2020-08-10",
          "iso_code": "CAN",
          "month": "August",
          "new_cases": 245,
          "new_tests": 57408,
          "response_ratio": 234.31836734693877
         },
         {
          "date": "2020-08-11",
          "iso_code": "CAN",
          "month": "August",
          "new_cases": 666,
          "new_tests": 36529,
          "response_ratio": 54.848348348348345
         },
         {
          "date": "2020-08-12",
          "iso_code": "CAN",
          "month": "August",
          "new_cases": 289,
          "new_tests": 39336,
          "response_ratio": 136.1107266435986
         },
         {
          "date": "2020-08-13",
          "iso_code": "CAN",
          "month": "August",
          "new_cases": 423,
          "new_tests": 54022,
          "response_ratio": 127.71158392434988
         },
         {
          "date": "2020-08-14",
          "iso_code": "CAN",
          "month": "August",
          "new_cases": 405,
          "new_tests": 50558,
          "response_ratio": 124.83456790123456
         },
         {
          "date": "2020-08-15",
          "iso_code": "CAN",
          "month": "August",
          "new_cases": 418,
          "new_tests": 55483,
          "response_ratio": 132.73444976076556
         },
         {
          "date": "2020-08-16",
          "iso_code": "CAN",
          "month": "August",
          "new_cases": 237,
          "new_tests": 37214,
          "response_ratio": 157.0210970464135
         },
         {
          "date": "2020-08-17",
          "iso_code": "CAN",
          "month": "August",
          "new_cases": 198,
          "new_tests": 61683,
          "response_ratio": 311.530303030303
         },
         {
          "date": "2020-08-18",
          "iso_code": "CAN",
          "month": "August",
          "new_cases": 785,
          "new_tests": 40129,
          "response_ratio": 51.119745222929936
         },
         {
          "date": "2020-08-19",
          "iso_code": "CAN",
          "month": "August",
          "new_cases": 282,
          "new_tests": 45274,
          "response_ratio": 160.54609929078015
         },
         {
          "date": "2020-08-20",
          "iso_code": "CAN",
          "month": "August",
          "new_cases": 336,
          "new_tests": 48769,
          "response_ratio": 145.14583333333334
         },
         {
          "date": "2020-08-21",
          "iso_code": "CAN",
          "month": "August",
          "new_cases": 383,
          "new_tests": 59844,
          "response_ratio": 156.25065274151436
         },
         {
          "date": "2020-08-22",
          "iso_code": "CAN",
          "month": "August",
          "new_cases": 499,
          "new_tests": 42675,
          "response_ratio": 85.52104208416834
         },
         {
          "date": "2020-08-23",
          "iso_code": "CAN",
          "month": "August",
          "new_cases": 257,
          "new_tests": 38756,
          "response_ratio": 150.80155642023345
         },
         {
          "date": "2020-08-24",
          "iso_code": "CAN",
          "month": "August",
          "new_cases": 267,
          "new_tests": 53676,
          "response_ratio": 201.03370786516854
         },
         {
          "date": "2020-08-25",
          "iso_code": "CAN",
          "month": "August",
          "new_cases": 751,
          "new_tests": 35920,
          "response_ratio": 47.82956058588549
         },
         {
          "date": "2020-08-26",
          "iso_code": "CAN",
          "month": "August",
          "new_cases": 322,
          "new_tests": 40805,
          "response_ratio": 126.72360248447205
         },
         {
          "date": "2020-08-27",
          "iso_code": "CAN",
          "month": "August",
          "new_cases": 448,
          "new_tests": 48121,
          "response_ratio": 107.41294642857143
         },
         {
          "date": "2020-08-28",
          "iso_code": "CAN",
          "month": "August",
          "new_cases": 431,
          "new_tests": 61328,
          "response_ratio": 142.292343387471
         },
         {
          "date": "2020-08-29",
          "iso_code": "CAN",
          "month": "August",
          "new_cases": 510,
          "new_tests": 46909,
          "response_ratio": 91.97843137254903
         },
         {
          "date": "2020-08-30",
          "iso_code": "CAN",
          "month": "August",
          "new_cases": 315,
          "new_tests": 38198,
          "response_ratio": 121.26349206349207
         },
         {
          "date": "2020-08-31",
          "iso_code": "CAN",
          "month": "August",
          "new_cases": 267,
          "new_tests": 63945,
          "response_ratio": 239.4943820224719
         },
         {
          "date": "2020-09-01",
          "iso_code": "CAN",
          "month": "September",
          "new_cases": 1008,
          "new_tests": 41157,
          "response_ratio": 40.830357142857146
         },
         {
          "date": "2020-09-02",
          "iso_code": "CAN",
          "month": "September",
          "new_cases": 477,
          "new_tests": 44519,
          "response_ratio": 93.33123689727464
         },
         {
          "date": "2020-09-03",
          "iso_code": "CAN",
          "month": "September",
          "new_cases": 498,
          "new_tests": 48635,
          "response_ratio": 97.66064257028113
         },
         {
          "date": "2020-09-04",
          "iso_code": "CAN",
          "month": "September",
          "new_cases": 570,
          "new_tests": 51906,
          "response_ratio": 91.06315789473685
         },
         {
          "date": "2020-09-05",
          "iso_code": "CAN",
          "month": "September",
          "new_cases": 631,
          "new_tests": 45202,
          "response_ratio": 71.63549920760697
         },
         {
          "date": "2020-09-06",
          "iso_code": "CAN",
          "month": "September",
          "new_cases": 371,
          "new_tests": 45216,
          "response_ratio": 121.87601078167116
         },
         {
          "date": "2020-09-07",
          "iso_code": "CAN",
          "month": "September",
          "new_cases": 400,
          "new_tests": 60853,
          "response_ratio": 152.1325
         },
         {
          "date": "2020-09-08",
          "iso_code": "CAN",
          "month": "September",
          "new_cases": 247,
          "new_tests": 49241,
          "response_ratio": 199.3562753036437
         },
         {
          "date": "2020-09-09",
          "iso_code": "CAN",
          "month": "September",
          "new_cases": 1606,
          "new_tests": 38727,
          "response_ratio": 24.113947696139476
         },
         {
          "date": "2020-09-10",
          "iso_code": "CAN",
          "month": "September",
          "new_cases": 546,
          "new_tests": 49718,
          "response_ratio": 91.05860805860806
         },
         {
          "date": "2020-09-11",
          "iso_code": "CAN",
          "month": "September",
          "new_cases": 630,
          "new_tests": 66764,
          "response_ratio": 105.97460317460317
         },
         {
          "date": "2020-09-12",
          "iso_code": "CAN",
          "month": "September",
          "new_cases": 702,
          "new_tests": 22922,
          "response_ratio": 32.65242165242165
         },
         {
          "date": "2020-09-13",
          "iso_code": "CAN",
          "month": "September",
          "new_cases": 515,
          "new_tests": 85216,
          "response_ratio": 165.46796116504854
         },
         {
          "date": "2020-09-14",
          "iso_code": "CAN",
          "month": "September",
          "new_cases": 518,
          "new_tests": 80997,
          "response_ratio": 156.36486486486487
         },
         {
          "date": "2020-09-15",
          "iso_code": "CAN",
          "month": "September",
          "new_cases": 1351,
          "new_tests": 56695,
          "response_ratio": 41.96521095484826
         },
         {
          "date": "2020-09-16",
          "iso_code": "CAN",
          "month": "September",
          "new_cases": 793,
          "new_tests": 62497,
          "response_ratio": 78.8108448928121
         },
         {
          "date": "2020-09-17",
          "iso_code": "CAN",
          "month": "September",
          "new_cases": 944,
          "new_tests": 67406,
          "response_ratio": 71.40466101694915
         },
         {
          "date": "2020-09-18",
          "iso_code": "CAN",
          "month": "September",
          "new_cases": 1120,
          "new_tests": 67739,
          "response_ratio": 60.48125
         },
         {
          "date": "2020-09-19",
          "iso_code": "CAN",
          "month": "September",
          "new_cases": 1044,
          "new_tests": 64345,
          "response_ratio": 61.633141762452105
         },
         {
          "date": "2020-09-20",
          "iso_code": "CAN",
          "month": "September",
          "new_cases": 863,
          "new_tests": 64334,
          "response_ratio": 74.54692931633835
         },
         {
          "date": "2020-09-21",
          "iso_code": "CAN",
          "month": "September",
          "new_cases": 875,
          "new_tests": 80063,
          "response_ratio": 91.50057142857143
         },
         {
          "date": "2020-09-22",
          "iso_code": "CAN",
          "month": "September",
          "new_cases": 1766,
          "new_tests": 68438,
          "response_ratio": 38.75311438278596
         },
         {
          "date": "2020-09-23",
          "iso_code": "CAN",
          "month": "September",
          "new_cases": 1248,
          "new_tests": 66679,
          "response_ratio": 53.4286858974359
         },
         {
          "date": "2020-09-24",
          "iso_code": "CAN",
          "month": "September",
          "new_cases": 1090,
          "new_tests": 67590,
          "response_ratio": 62.00917431192661
         },
         {
          "date": "2020-09-25",
          "iso_code": "CAN",
          "month": "September",
          "new_cases": 1341,
          "new_tests": 77991,
          "response_ratio": 58.15883668903803
         },
         {
          "date": "2020-09-26",
          "iso_code": "CAN",
          "month": "September",
          "new_cases": 1362,
          "new_tests": 70216,
          "response_ratio": 51.55359765051395
         },
         {
          "date": "2020-09-27",
          "iso_code": "CAN",
          "month": "September",
          "new_cases": 1215,
          "new_tests": 68251,
          "response_ratio": 56.17366255144033
         },
         {
          "date": "2020-09-28",
          "iso_code": "CAN",
          "month": "September",
          "new_cases": 1454,
          "new_tests": 102399,
          "response_ratio": 70.42572214580467
         },
         {
          "date": "2020-09-29",
          "iso_code": "CAN",
          "month": "September",
          "new_cases": 2176,
          "new_tests": 74916,
          "response_ratio": 34.42830882352941
         },
         {
          "date": "2020-09-30",
          "iso_code": "CAN",
          "month": "September",
          "new_cases": 1660,
          "new_tests": 60936,
          "response_ratio": 36.70843373493976
         },
         {
          "date": "2020-10-01",
          "iso_code": "CAN",
          "month": "October",
          "new_cases": 1797,
          "new_tests": 67092,
          "response_ratio": 37.335559265442406
         },
         {
          "date": "2020-10-02",
          "iso_code": "CAN",
          "month": "October",
          "new_cases": 1777,
          "new_tests": 67153,
          "response_ratio": 37.79009566685425
         },
         {
          "date": "2020-10-03",
          "iso_code": "CAN",
          "month": "October",
          "new_cases": 2124,
          "new_tests": 73410,
          "response_ratio": 34.56214689265537
         },
         {
          "date": "2020-10-04",
          "iso_code": "CAN",
          "month": "October",
          "new_cases": 1812,
          "new_tests": 62178,
          "response_ratio": 34.31456953642384
         },
         {
          "date": "2020-10-05",
          "iso_code": "CAN",
          "month": "October",
          "new_cases": 1685,
          "new_tests": 69466,
          "response_ratio": 41.22611275964392
         },
         {
          "date": "2020-10-06",
          "iso_code": "CAN",
          "month": "October",
          "new_cases": 2804,
          "new_tests": 129972,
          "response_ratio": 46.352353780313834
         },
         {
          "date": "2020-10-07",
          "iso_code": "CAN",
          "month": "October",
          "new_cases": 2363,
          "new_tests": 74025,
          "response_ratio": 31.326703343207786
         },
         {
          "date": "2020-10-08",
          "iso_code": "CAN",
          "month": "October",
          "new_cases": 1800,
          "new_tests": 85326,
          "response_ratio": 47.403333333333336
         },
         {
          "date": "2020-10-09",
          "iso_code": "CAN",
          "month": "October",
          "new_cases": 2436,
          "new_tests": 87736,
          "response_ratio": 36.016420361247945
         },
         {
          "date": "2020-10-10",
          "iso_code": "CAN",
          "month": "October",
          "new_cases": 2558,
          "new_tests": 78627,
          "response_ratio": 30.737685691946833
         },
         {
          "date": "2020-10-13",
          "iso_code": "CAN",
          "month": "October",
          "new_cases": 4722,
          "new_tests": 84667,
          "response_ratio": 17.930326132994495
         },
         {
          "date": "2020-10-14",
          "iso_code": "CAN",
          "month": "October",
          "new_cases": 4042,
          "new_tests": 91958,
          "response_ratio": 22.75061850569025
         },
         {
          "date": "2020-10-15",
          "iso_code": "CAN",
          "month": "October",
          "new_cases": 2506,
          "new_tests": 50075,
          "response_ratio": 19.982043096568237
         },
         {
          "date": "2020-10-16",
          "iso_code": "CAN",
          "month": "October",
          "new_cases": 2345,
          "new_tests": 88631,
          "response_ratio": 37.79573560767591
         },
         {
          "date": "2020-10-17",
          "iso_code": "CAN",
          "month": "October",
          "new_cases": 2374,
          "new_tests": 67055,
          "response_ratio": 28.24557708508846
         },
         {
          "date": "2020-10-18",
          "iso_code": "CAN",
          "month": "October",
          "new_cases": 2215,
          "new_tests": 54435,
          "response_ratio": 24.575620767494357
         },
         {
          "date": "2020-10-19",
          "iso_code": "CAN",
          "month": "October",
          "new_cases": 1827,
          "new_tests": 72369,
          "response_ratio": 39.610837438423644
         },
         {
          "date": "2020-10-20",
          "iso_code": "CAN",
          "month": "October",
          "new_cases": 3289,
          "new_tests": 59988,
          "response_ratio": 18.238978412891456
         },
         {
          "date": "2020-10-21",
          "iso_code": "CAN",
          "month": "October",
          "new_cases": 2251,
          "new_tests": 60847,
          "response_ratio": 27.031097290093292
         },
         {
          "date": "2020-10-22",
          "iso_code": "CAN",
          "month": "October",
          "new_cases": 2672,
          "new_tests": 69082,
          "response_ratio": 25.854041916167663
         },
         {
          "date": "2020-10-23",
          "iso_code": "CAN",
          "month": "October",
          "new_cases": 2788,
          "new_tests": 72993,
          "response_ratio": 26.181133428981347
         },
         {
          "date": "2020-10-24",
          "iso_code": "CAN",
          "month": "October",
          "new_cases": 2584,
          "new_tests": 60234,
          "response_ratio": 23.310371517027864
         },
         {
          "date": "2020-10-25",
          "iso_code": "CAN",
          "month": "October",
          "new_cases": 2227,
          "new_tests": 51008,
          "response_ratio": 22.904355635383926
         },
         {
          "date": "2020-10-26",
          "iso_code": "CAN",
          "month": "October",
          "new_cases": 2145,
          "new_tests": 47398,
          "response_ratio": 22.096969696969698
         },
         {
          "date": "2020-10-27",
          "iso_code": "CAN",
          "month": "October",
          "new_cases": 4109,
          "new_tests": 80889,
          "response_ratio": 19.68581163300073
         },
         {
          "date": "2020-10-28",
          "iso_code": "CAN",
          "month": "October",
          "new_cases": 2674,
          "new_tests": 55672,
          "response_ratio": 20.81974569932685
         },
         {
          "date": "2020-10-29",
          "iso_code": "CAN",
          "month": "October",
          "new_cases": 2699,
          "new_tests": 63142,
          "response_ratio": 23.394590589107075
         },
         {
          "date": "2020-10-30",
          "iso_code": "CAN",
          "month": "October",
          "new_cases": 2956,
          "new_tests": 62843,
          "response_ratio": 21.259472259810554
         },
         {
          "date": "2020-10-31",
          "iso_code": "CAN",
          "month": "October",
          "new_cases": 3457,
          "new_tests": 65562,
          "response_ratio": 18.964998553659242
         }
        ]
       },
       "hconcat": [
        {
         "bounds": "flush",
         "data": {
          "name": "data-b2ed2b7eeaadac6d6a4842a4bf1fdaf5"
         },
         "facet": {
          "row": {
           "field": "Month",
           "header": {
            "format": "%B",
            "labelAlign": "right",
            "labelAngle": 0
           },
           "title": null,
           "type": "temporal"
          }
         },
         "spec": {
          "encoding": {
           "fill": {
            "field": "mean_response_ratio",
            "type": "quantitative"
           },
           "x": {
            "bin": "binned",
            "field": "bin_min",
            "title": "Mean Response Ratio in Canada",
            "type": "quantitative"
           },
           "y": {
            "axis": null,
            "field": "value",
            "scale": {
             "range": [
              40,
              -40
             ]
            },
            "type": "quantitative"
           }
          },
          "height": 40,
          "mark": {
           "fillOpacity": 0.8,
           "interpolate": "monotone",
           "stroke": "lightgray",
           "strokeWidth": 0.5,
           "type": "area"
          },
          "transform": [
           {
            "as": "Month",
            "field": "date",
            "timeUnit": "month"
           },
           {
            "groupby": [
             "Month"
            ],
            "joinaggregate": [
             {
              "as": "mean_response_ratio",
              "field": "response_ratio",
              "op": "mean"
             }
            ]
           },
           {
            "as": [
             "bin_max",
             "bin_min"
            ],
            "bin": true,
            "field": "response_ratio"
           },
           {
            "aggregate": [
             {
              "as": "value",
              "op": "count"
             }
            ],
            "groupby": [
             "Month",
             "mean_response_ratio",
             "bin_min",
             "bin_max"
            ]
           },
           {
            "groupby": [
             "Month",
             "mean_response_ratio"
            ],
            "impute": "value",
            "key": "bin_min",
            "value": 0
           }
          ]
         },
         "title": ""
        },
        {
         "bounds": "flush",
         "data": {
          "name": "data-2d327ffb99a2f8f45cbb29937340530a"
         },
         "facet": {
          "row": {
           "field": "Month",
           "header": {
            "format": "%B",
            "labelAlign": "right",
            "labelAngle": 0
           },
           "title": null,
           "type": "temporal"
          }
         },
         "spec": {
          "encoding": {
           "fill": {
            "field": "mean_response_ratio",
            "type": "quantitative"
           },
           "x": {
            "bin": "binned",
            "field": "bin_min",
            "title": "Mean Response Ratio in USA",
            "type": "quantitative"
           },
           "y": {
            "axis": null,
            "field": "value",
            "scale": {
             "range": [
              40,
              -40
             ]
            },
            "type": "quantitative"
           }
          },
          "height": 40,
          "mark": {
           "fillOpacity": 0.8,
           "interpolate": "monotone",
           "stroke": "lightgray",
           "strokeWidth": 0.5,
           "type": "area"
          },
          "transform": [
           {
            "as": "Month",
            "field": "date",
            "timeUnit": "month"
           },
           {
            "groupby": [
             "Month"
            ],
            "joinaggregate": [
             {
              "as": "mean_response_ratio",
              "field": "response_ratio",
              "op": "mean"
             }
            ]
           },
           {
            "as": [
             "bin_max",
             "bin_min"
            ],
            "bin": true,
            "field": "response_ratio"
           },
           {
            "aggregate": [
             {
              "as": "value",
              "op": "count"
             }
            ],
            "groupby": [
             "Month",
             "mean_response_ratio",
             "bin_min",
             "bin_max"
            ]
           },
           {
            "groupby": [
             "Month",
             "mean_response_ratio"
            ],
            "impute": "value",
            "key": "bin_min",
            "value": 0
           }
          ]
         },
         "title": ""
        }
       ],
       "title": "COVID-19 Response Ratio - Canada vs USA"
      },
      "image/png": "[encoded data removed]",
      "text/plain": [
       "<VegaLite 4 object>\n",
       "\n",
       "If you see this message, it means the renderer has not been properly enabled\n",
       "for the frontend that you are using. For more information, see\n",
       "https://altair-viz.github.io/user_guide/troubleshooting.html\n"
      ]
     },
     "execution_count": 15,
     "metadata": {},
     "output_type": "execute_result"
    }
   ],
   "source": [
    "USA = covid_US_CAN.query(\"iso_code == 'USA' and  new_tests > 0 and date <= '2020-10-31'\").reset_index(drop=True)\n",
    "\n",
    "CAN = covid_US_CAN.query(\"iso_code == 'CAN' and  new_tests > 0 and date <= '2020-10-31'\").reset_index(drop=True)\n",
    "\n",
    "#removing the first date in March for the ridge plot to exclude February showing up\n",
    "#to have a better comparison and aesthetic symmetry\n",
    "USA = USA.query(\"date > '2020-03-01'\")\n",
    "\n",
    "def create_ridgeline_plot(dataset, title):\n",
    "    step = 40\n",
    "    overlap = 1\n",
    "\n",
    "    ridgeline_plt = alt.Chart(dataset, height=step).transform_timeunit(\n",
    "        Month='month(date)'\n",
    "    ).transform_joinaggregate(\n",
    "        mean_response_ratio='mean(response_ratio)', groupby=['Month']\n",
    "    ).transform_bin(\n",
    "        ['bin_max', 'bin_min'], 'response_ratio'\n",
    "    ).transform_aggregate(\n",
    "        value='count()', groupby=['Month', 'mean_response_ratio', 'bin_min', 'bin_max']\n",
    "    ).transform_impute(\n",
    "        impute='value',groupby=['Month', 'mean_response_ratio'], key='bin_min', value=0\n",
    "    ).mark_area(\n",
    "        interpolate='monotone',\n",
    "        fillOpacity=0.8,\n",
    "        stroke='lightgray',\n",
    "        strokeWidth=0.5\n",
    "    ).encode(\n",
    "        alt.X('bin_min:Q', bin='binned', title=f'Mean Response Ratio in {title}'),\n",
    "        alt.Y(\n",
    "            'value:Q',\n",
    "            scale=alt.Scale(range=[step, -step * overlap]),\n",
    "            axis=None\n",
    "        ),\n",
    "        alt.Fill('mean_response_ratio:Q')\n",
    "    ).facet(\n",
    "        row=alt.Row(\n",
    "            'Month:T',\n",
    "            title=None,\n",
    "            header=alt.Header(labelAngle=0, labelAlign='right', format='%B')\n",
    "        )\n",
    "    ).properties(\n",
    "        title='',\n",
    "        bounds='flush'\n",
    "    )\n",
    "    \n",
    "    return ridgeline_plt\n",
    "\n",
    "alt.hconcat(create_ridgeline_plot(CAN, \"Canada\"), create_ridgeline_plot(USA, \"USA\"), title=\"COVID-19 Response Ratio - Canada vs USA\").configure_facet(\n",
    "    spacing=0\n",
    ").configure_view(\n",
    "    stroke=None\n",
    ").configure_title(\n",
    "    anchor='middle'\n",
    ")"
   ]
  },
  {
   "cell_type": "markdown",
   "metadata": {},
   "source": [
    "### 4.8 Try the easy solution first."
   ]
  },
  {
   "cell_type": "code",
   "execution_count": 16,
   "metadata": {},
   "outputs": [
    {
     "data": {
      "text/html": [
       "<div>\n",
       "<style scoped>\n",
       "    .dataframe tbody tr th:only-of-type {\n",
       "        vertical-align: middle;\n",
       "    }\n",
       "\n",
       "    .dataframe tbody tr th {\n",
       "        vertical-align: top;\n",
       "    }\n",
       "\n",
       "    .dataframe thead tr th {\n",
       "        text-align: left;\n",
       "    }\n",
       "\n",
       "    .dataframe thead tr:last-of-type th {\n",
       "        text-align: right;\n",
       "    }\n",
       "</style>\n",
       "<table border=\"1\" class=\"dataframe\">\n",
       "  <thead>\n",
       "    <tr>\n",
       "      <th></th>\n",
       "      <th colspan=\"5\" halign=\"left\">response_ratio</th>\n",
       "    </tr>\n",
       "    <tr>\n",
       "      <th></th>\n",
       "      <th>count</th>\n",
       "      <th>mean</th>\n",
       "      <th>median</th>\n",
       "      <th>std</th>\n",
       "      <th>var</th>\n",
       "    </tr>\n",
       "    <tr>\n",
       "      <th>iso_code</th>\n",
       "      <th></th>\n",
       "      <th></th>\n",
       "      <th></th>\n",
       "      <th></th>\n",
       "      <th></th>\n",
       "    </tr>\n",
       "  </thead>\n",
       "  <tbody>\n",
       "    <tr>\n",
       "      <th>CAN</th>\n",
       "      <td>227</td>\n",
       "      <td>71.229830</td>\n",
       "      <td>51.119745</td>\n",
       "      <td>64.476327</td>\n",
       "      <td>4157.196780</td>\n",
       "    </tr>\n",
       "    <tr>\n",
       "      <th>USA</th>\n",
       "      <td>245</td>\n",
       "      <td>17.822633</td>\n",
       "      <td>16.613077</td>\n",
       "      <td>8.480732</td>\n",
       "      <td>71.922809</td>\n",
       "    </tr>\n",
       "  </tbody>\n",
       "</table>\n",
       "</div>"
      ],
      "text/plain": [
       "         response_ratio                                              \n",
       "                  count       mean     median        std          var\n",
       "iso_code                                                             \n",
       "CAN                 227  71.229830  51.119745  64.476327  4157.196780\n",
       "USA                 245  17.822633  16.613077   8.480732    71.922809"
      ]
     },
     "execution_count": 16,
     "metadata": {},
     "output_type": "execute_result"
    }
   ],
   "source": [
    "results_table = covid_US_CAN[[\"iso_code\", \"date\", \"response_ratio\" ]]\n",
    "\n",
    "results_table.groupby(\"iso_code\").aggregate(['count', 'mean', 'median', 'std', 'var'])"
   ]
  },
  {
   "cell_type": "markdown",
   "metadata": {},
   "source": [
    "### 4.9 Follow-up\n",
    "\n",
    "- We'll be doing a more in-depth analysis later on in the project. "
   ]
  }
 ],
 "metadata": {
  "kernelspec": {
   "display_name": "Python 3",
   "language": "python",
   "name": "python3"
  },
  "language_info": {
   "codemirror_mode": {
    "name": "ipython",
    "version": 3
   },
   "file_extension": ".py",
   "mimetype": "text/x-python",
   "name": "python",
   "nbconvert_exporter": "python",
   "pygments_lexer": "ipython3",
   "version": "3.8.5"
  }
 },
 "nbformat": 4,
 "nbformat_minor": 4
}
